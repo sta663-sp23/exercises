{
 "cells": [
  {
   "cell_type": "code",
   "execution_count": 1,
   "id": "c6325f36-42ba-4f65-94c6-6fe31db68398",
   "metadata": {},
   "outputs": [],
   "source": [
    "import pandas as pd"
   ]
  },
  {
   "cell_type": "code",
   "execution_count": 2,
   "id": "e3df88c0-bc2f-47a1-92c9-b4184a92c3e4",
   "metadata": {},
   "outputs": [],
   "source": [
    "m = pd.Series([1,2,3,4], index = [\"a\",\"b\",\"c\",\"d\"])"
   ]
  },
  {
   "cell_type": "code",
   "execution_count": 3,
   "id": "762812b6-0a77-44f8-b723-da75b92e2bbb",
   "metadata": {},
   "outputs": [],
   "source": [
    "p = pd.Series([1,2,3,4])"
   ]
  },
  {
   "cell_type": "code",
   "execution_count": 4,
   "id": "85f41bcd-f548-454f-b954-490158396365",
   "metadata": {},
   "outputs": [
    {
     "data": {
      "text/plain": [
       "a   NaN\n",
       "b   NaN\n",
       "c   NaN\n",
       "d   NaN\n",
       "0   NaN\n",
       "1   NaN\n",
       "2   NaN\n",
       "3   NaN\n",
       "dtype: float64"
      ]
     },
     "execution_count": 4,
     "metadata": {},
     "output_type": "execute_result"
    }
   ],
   "source": [
    "m+p"
   ]
  },
  {
   "cell_type": "code",
   "execution_count": 5,
   "id": "335b4caa-9538-4487-8b9d-0cac7f900442",
   "metadata": {},
   "outputs": [
    {
     "data": {
      "text/plain": [
       "0    False\n",
       "1    False\n",
       "2     True\n",
       "dtype: bool"
      ]
     },
     "execution_count": 5,
     "metadata": {},
     "output_type": "execute_result"
    }
   ],
   "source": [
    "pd.isna(pd.Series([True,False,None]))"
   ]
  },
  {
   "cell_type": "code",
   "execution_count": 6,
   "id": "18f6a2b6-6588-4606-90d2-e53895f71dba",
   "metadata": {},
   "outputs": [
    {
     "data": {
      "text/plain": [
       "0    False\n",
       "1    False\n",
       "2    False\n",
       "3     True\n",
       "dtype: bool"
      ]
     },
     "execution_count": 6,
     "metadata": {},
     "output_type": "execute_result"
    }
   ],
   "source": [
    "pd.isna(\n",
    "    pd.Series(\n",
    "      [1,2,3,None], \n",
    "      dtype = pd.Int64Dtype()\n",
    "    )\n",
    ")"
   ]
  },
  {
   "cell_type": "code",
   "execution_count": null,
   "id": "fa1d0dff-c1f0-4bd5-90c7-0e30bc25648c",
   "metadata": {},
   "outputs": [],
   "source": []
  }
 ],
 "metadata": {
  "kernelspec": {
   "display_name": "Python 3 (ipykernel)",
   "language": "python",
   "name": "python3"
  },
  "language_info": {
   "codemirror_mode": {
    "name": "ipython",
    "version": 3
   },
   "file_extension": ".py",
   "mimetype": "text/x-python",
   "name": "python",
   "nbconvert_exporter": "python",
   "pygments_lexer": "ipython3",
   "version": "3.10.9"
  }
 },
 "nbformat": 4,
 "nbformat_minor": 5
}
