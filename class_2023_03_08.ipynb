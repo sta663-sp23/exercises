{
 "cells": [
  {
   "cell_type": "markdown",
   "id": "a86c9f69-45a5-443e-b952-fd2a525ea289",
   "metadata": {},
   "source": [
    "## Setup"
   ]
  },
  {
   "cell_type": "code",
   "execution_count": 2,
   "id": "87581066-3fb6-4ac9-88a8-c6b194fe5ce3",
   "metadata": {
    "tags": []
   },
   "outputs": [],
   "source": [
    "import numpy as np\n",
    "import matplotlib as mpl\n",
    "import matplotlib.pyplot as plt\n",
    "import pandas as pd\n",
    "import seaborn as sns"
   ]
  },
  {
   "cell_type": "code",
   "execution_count": 3,
   "id": "62015fe7-2d6e-4987-b24c-17ba467140ae",
   "metadata": {
    "tags": []
   },
   "outputs": [],
   "source": [
    "import sklearn\n",
    "\n",
    "sklearn.set_config(display=\"text\")\n",
    "\n",
    "from sklearn.pipeline import make_pipeline, Pipeline\n",
    "from sklearn.preprocessing import OneHotEncoder, StandardScaler\n",
    "from sklearn.model_selection import GridSearchCV, KFold, StratifiedKFold\n",
    "from sklearn.metrics import classification_report, confusion_matrix\n",
    "from sklearn.model_selection import train_test_split"
   ]
  },
  {
   "cell_type": "markdown",
   "id": "b3973ebd-54b3-45f1-bc12-f5f8542d46f7",
   "metadata": {},
   "source": [
    "# SPAM"
   ]
  },
  {
   "cell_type": "code",
   "execution_count": 4,
   "id": "d903347f-45fb-4bdf-9fff-6bce1b878991",
   "metadata": {
    "tags": []
   },
   "outputs": [],
   "source": [
    "from sklearn.linear_model import LogisticRegression\n",
    "\n",
    "email = pd.read_csv(\n",
    "  'https://sta663-sp22.github.io/slides/data/email.csv'\n",
    ")[\n",
    "  ['spam', 'exclaim_mess', 'format', 'num_char', 'line_breaks', 'number']\n",
    "]"
   ]
  },
  {
   "cell_type": "code",
   "execution_count": 5,
   "id": "868d8a70-e90b-45d6-9813-1f1c880be8b4",
   "metadata": {
    "tags": []
   },
   "outputs": [
    {
     "data": {
      "text/html": [
       "<div>\n",
       "<style scoped>\n",
       "    .dataframe tbody tr th:only-of-type {\n",
       "        vertical-align: middle;\n",
       "    }\n",
       "\n",
       "    .dataframe tbody tr th {\n",
       "        vertical-align: top;\n",
       "    }\n",
       "\n",
       "    .dataframe thead th {\n",
       "        text-align: right;\n",
       "    }\n",
       "</style>\n",
       "<table border=\"1\" class=\"dataframe\">\n",
       "  <thead>\n",
       "    <tr style=\"text-align: right;\">\n",
       "      <th></th>\n",
       "      <th>spam</th>\n",
       "      <th>exclaim_mess</th>\n",
       "      <th>format</th>\n",
       "      <th>num_char</th>\n",
       "      <th>line_breaks</th>\n",
       "      <th>number</th>\n",
       "    </tr>\n",
       "  </thead>\n",
       "  <tbody>\n",
       "    <tr>\n",
       "      <th>0</th>\n",
       "      <td>0</td>\n",
       "      <td>0</td>\n",
       "      <td>1</td>\n",
       "      <td>11.370</td>\n",
       "      <td>202</td>\n",
       "      <td>big</td>\n",
       "    </tr>\n",
       "    <tr>\n",
       "      <th>1</th>\n",
       "      <td>0</td>\n",
       "      <td>1</td>\n",
       "      <td>1</td>\n",
       "      <td>10.504</td>\n",
       "      <td>202</td>\n",
       "      <td>small</td>\n",
       "    </tr>\n",
       "    <tr>\n",
       "      <th>2</th>\n",
       "      <td>0</td>\n",
       "      <td>6</td>\n",
       "      <td>1</td>\n",
       "      <td>7.773</td>\n",
       "      <td>192</td>\n",
       "      <td>small</td>\n",
       "    </tr>\n",
       "    <tr>\n",
       "      <th>3</th>\n",
       "      <td>0</td>\n",
       "      <td>48</td>\n",
       "      <td>1</td>\n",
       "      <td>13.256</td>\n",
       "      <td>255</td>\n",
       "      <td>small</td>\n",
       "    </tr>\n",
       "    <tr>\n",
       "      <th>4</th>\n",
       "      <td>0</td>\n",
       "      <td>1</td>\n",
       "      <td>0</td>\n",
       "      <td>1.231</td>\n",
       "      <td>29</td>\n",
       "      <td>none</td>\n",
       "    </tr>\n",
       "    <tr>\n",
       "      <th>...</th>\n",
       "      <td>...</td>\n",
       "      <td>...</td>\n",
       "      <td>...</td>\n",
       "      <td>...</td>\n",
       "      <td>...</td>\n",
       "      <td>...</td>\n",
       "    </tr>\n",
       "    <tr>\n",
       "      <th>3916</th>\n",
       "      <td>1</td>\n",
       "      <td>0</td>\n",
       "      <td>0</td>\n",
       "      <td>0.332</td>\n",
       "      <td>12</td>\n",
       "      <td>small</td>\n",
       "    </tr>\n",
       "    <tr>\n",
       "      <th>3917</th>\n",
       "      <td>1</td>\n",
       "      <td>0</td>\n",
       "      <td>0</td>\n",
       "      <td>0.323</td>\n",
       "      <td>15</td>\n",
       "      <td>small</td>\n",
       "    </tr>\n",
       "    <tr>\n",
       "      <th>3918</th>\n",
       "      <td>0</td>\n",
       "      <td>5</td>\n",
       "      <td>1</td>\n",
       "      <td>8.656</td>\n",
       "      <td>208</td>\n",
       "      <td>small</td>\n",
       "    </tr>\n",
       "    <tr>\n",
       "      <th>3919</th>\n",
       "      <td>0</td>\n",
       "      <td>0</td>\n",
       "      <td>0</td>\n",
       "      <td>10.185</td>\n",
       "      <td>132</td>\n",
       "      <td>small</td>\n",
       "    </tr>\n",
       "    <tr>\n",
       "      <th>3920</th>\n",
       "      <td>1</td>\n",
       "      <td>1</td>\n",
       "      <td>0</td>\n",
       "      <td>2.225</td>\n",
       "      <td>65</td>\n",
       "      <td>small</td>\n",
       "    </tr>\n",
       "  </tbody>\n",
       "</table>\n",
       "<p>3921 rows × 6 columns</p>\n",
       "</div>"
      ],
      "text/plain": [
       "      spam  exclaim_mess  format  num_char  line_breaks number\n",
       "0        0             0       1    11.370          202    big\n",
       "1        0             1       1    10.504          202  small\n",
       "2        0             6       1     7.773          192  small\n",
       "3        0            48       1    13.256          255  small\n",
       "4        0             1       0     1.231           29   none\n",
       "...    ...           ...     ...       ...          ...    ...\n",
       "3916     1             0       0     0.332           12  small\n",
       "3917     1             0       0     0.323           15  small\n",
       "3918     0             5       1     8.656          208  small\n",
       "3919     0             0       0    10.185          132  small\n",
       "3920     1             1       0     2.225           65  small\n",
       "\n",
       "[3921 rows x 6 columns]"
      ]
     },
     "execution_count": 5,
     "metadata": {},
     "output_type": "execute_result"
    }
   ],
   "source": [
    "email"
   ]
  },
  {
   "cell_type": "code",
   "execution_count": 6,
   "id": "f4799dd9-b434-4c64-bd33-7f5dcf5cf1fc",
   "metadata": {
    "tags": []
   },
   "outputs": [
    {
     "data": {
      "text/html": [
       "<div>\n",
       "<style scoped>\n",
       "    .dataframe tbody tr th:only-of-type {\n",
       "        vertical-align: middle;\n",
       "    }\n",
       "\n",
       "    .dataframe tbody tr th {\n",
       "        vertical-align: top;\n",
       "    }\n",
       "\n",
       "    .dataframe thead th {\n",
       "        text-align: right;\n",
       "    }\n",
       "</style>\n",
       "<table border=\"1\" class=\"dataframe\">\n",
       "  <thead>\n",
       "    <tr style=\"text-align: right;\">\n",
       "      <th></th>\n",
       "      <th>spam</th>\n",
       "      <th>exclaim_mess</th>\n",
       "      <th>format</th>\n",
       "      <th>num_char</th>\n",
       "      <th>line_breaks</th>\n",
       "      <th>number_big</th>\n",
       "      <th>number_none</th>\n",
       "      <th>number_small</th>\n",
       "    </tr>\n",
       "  </thead>\n",
       "  <tbody>\n",
       "    <tr>\n",
       "      <th>0</th>\n",
       "      <td>0</td>\n",
       "      <td>0</td>\n",
       "      <td>1</td>\n",
       "      <td>11.370</td>\n",
       "      <td>202</td>\n",
       "      <td>1</td>\n",
       "      <td>0</td>\n",
       "      <td>0</td>\n",
       "    </tr>\n",
       "    <tr>\n",
       "      <th>1</th>\n",
       "      <td>0</td>\n",
       "      <td>1</td>\n",
       "      <td>1</td>\n",
       "      <td>10.504</td>\n",
       "      <td>202</td>\n",
       "      <td>0</td>\n",
       "      <td>0</td>\n",
       "      <td>1</td>\n",
       "    </tr>\n",
       "    <tr>\n",
       "      <th>2</th>\n",
       "      <td>0</td>\n",
       "      <td>6</td>\n",
       "      <td>1</td>\n",
       "      <td>7.773</td>\n",
       "      <td>192</td>\n",
       "      <td>0</td>\n",
       "      <td>0</td>\n",
       "      <td>1</td>\n",
       "    </tr>\n",
       "    <tr>\n",
       "      <th>3</th>\n",
       "      <td>0</td>\n",
       "      <td>48</td>\n",
       "      <td>1</td>\n",
       "      <td>13.256</td>\n",
       "      <td>255</td>\n",
       "      <td>0</td>\n",
       "      <td>0</td>\n",
       "      <td>1</td>\n",
       "    </tr>\n",
       "    <tr>\n",
       "      <th>4</th>\n",
       "      <td>0</td>\n",
       "      <td>1</td>\n",
       "      <td>0</td>\n",
       "      <td>1.231</td>\n",
       "      <td>29</td>\n",
       "      <td>0</td>\n",
       "      <td>1</td>\n",
       "      <td>0</td>\n",
       "    </tr>\n",
       "    <tr>\n",
       "      <th>...</th>\n",
       "      <td>...</td>\n",
       "      <td>...</td>\n",
       "      <td>...</td>\n",
       "      <td>...</td>\n",
       "      <td>...</td>\n",
       "      <td>...</td>\n",
       "      <td>...</td>\n",
       "      <td>...</td>\n",
       "    </tr>\n",
       "    <tr>\n",
       "      <th>3916</th>\n",
       "      <td>1</td>\n",
       "      <td>0</td>\n",
       "      <td>0</td>\n",
       "      <td>0.332</td>\n",
       "      <td>12</td>\n",
       "      <td>0</td>\n",
       "      <td>0</td>\n",
       "      <td>1</td>\n",
       "    </tr>\n",
       "    <tr>\n",
       "      <th>3917</th>\n",
       "      <td>1</td>\n",
       "      <td>0</td>\n",
       "      <td>0</td>\n",
       "      <td>0.323</td>\n",
       "      <td>15</td>\n",
       "      <td>0</td>\n",
       "      <td>0</td>\n",
       "      <td>1</td>\n",
       "    </tr>\n",
       "    <tr>\n",
       "      <th>3918</th>\n",
       "      <td>0</td>\n",
       "      <td>5</td>\n",
       "      <td>1</td>\n",
       "      <td>8.656</td>\n",
       "      <td>208</td>\n",
       "      <td>0</td>\n",
       "      <td>0</td>\n",
       "      <td>1</td>\n",
       "    </tr>\n",
       "    <tr>\n",
       "      <th>3919</th>\n",
       "      <td>0</td>\n",
       "      <td>0</td>\n",
       "      <td>0</td>\n",
       "      <td>10.185</td>\n",
       "      <td>132</td>\n",
       "      <td>0</td>\n",
       "      <td>0</td>\n",
       "      <td>1</td>\n",
       "    </tr>\n",
       "    <tr>\n",
       "      <th>3920</th>\n",
       "      <td>1</td>\n",
       "      <td>1</td>\n",
       "      <td>0</td>\n",
       "      <td>2.225</td>\n",
       "      <td>65</td>\n",
       "      <td>0</td>\n",
       "      <td>0</td>\n",
       "      <td>1</td>\n",
       "    </tr>\n",
       "  </tbody>\n",
       "</table>\n",
       "<p>3921 rows × 8 columns</p>\n",
       "</div>"
      ],
      "text/plain": [
       "      spam  exclaim_mess  format  num_char  line_breaks  number_big  \\\n",
       "0        0             0       1    11.370          202           1   \n",
       "1        0             1       1    10.504          202           0   \n",
       "2        0             6       1     7.773          192           0   \n",
       "3        0            48       1    13.256          255           0   \n",
       "4        0             1       0     1.231           29           0   \n",
       "...    ...           ...     ...       ...          ...         ...   \n",
       "3916     1             0       0     0.332           12           0   \n",
       "3917     1             0       0     0.323           15           0   \n",
       "3918     0             5       1     8.656          208           0   \n",
       "3919     0             0       0    10.185          132           0   \n",
       "3920     1             1       0     2.225           65           0   \n",
       "\n",
       "      number_none  number_small  \n",
       "0               0             0  \n",
       "1               0             1  \n",
       "2               0             1  \n",
       "3               0             1  \n",
       "4               1             0  \n",
       "...           ...           ...  \n",
       "3916            0             1  \n",
       "3917            0             1  \n",
       "3918            0             1  \n",
       "3919            0             1  \n",
       "3920            0             1  \n",
       "\n",
       "[3921 rows x 8 columns]"
      ]
     },
     "execution_count": 6,
     "metadata": {},
     "output_type": "execute_result"
    }
   ],
   "source": [
    "email_dc = pd.get_dummies(email)\n",
    "email_dc"
   ]
  },
  {
   "cell_type": "code",
   "execution_count": 7,
   "id": "3d55eeb4-fba3-4eb4-9476-66497d20fa2b",
   "metadata": {
    "tags": []
   },
   "outputs": [],
   "source": [
    "y = email_dc.spam\n",
    "X = email_dc.drop('spam', axis=1)"
   ]
  },
  {
   "cell_type": "markdown",
   "id": "0f4cb733-cf27-4d41-8091-5102338b3cfc",
   "metadata": {},
   "source": [
    "## Baseline - LogisticRegression"
   ]
  },
  {
   "cell_type": "code",
   "execution_count": 11,
   "id": "9f2e8aae-45be-4f7e-b14f-36b2967aaec6",
   "metadata": {
    "tags": []
   },
   "outputs": [],
   "source": [
    "m = LogisticRegression(fit_intercept = False, max_iter=500).fit(X, y)"
   ]
  },
  {
   "cell_type": "code",
   "execution_count": 12,
   "id": "529a3f49-9fdd-462b-bb31-7e34ba28a9bd",
   "metadata": {
    "tags": []
   },
   "outputs": [
    {
     "data": {
      "text/plain": [
       "array([[ 0.00982304, -0.61873796,  0.05448642, -0.00555706, -1.21151583,\n",
       "        -0.69342307, -1.92053976]])"
      ]
     },
     "execution_count": 12,
     "metadata": {},
     "output_type": "execute_result"
    }
   ],
   "source": [
    "m.coef_"
   ]
  },
  {
   "cell_type": "code",
   "execution_count": 13,
   "id": "75e8c14f-a21a-42c9-86bd-9ed25a2832d8",
   "metadata": {
    "tags": []
   },
   "outputs": [
    {
     "data": {
      "text/plain": [
       "0.90640142820709"
      ]
     },
     "execution_count": 13,
     "metadata": {},
     "output_type": "execute_result"
    }
   ],
   "source": [
    "m.score(X,y)"
   ]
  },
  {
   "cell_type": "code",
   "execution_count": 14,
   "id": "a5c78d8b-ca61-4cf0-b22f-fdad15ed10a4",
   "metadata": {
    "tags": []
   },
   "outputs": [
    {
     "data": {
      "text/plain": [
       "array([[3554,    0],\n",
       "       [ 367,    0]])"
      ]
     },
     "execution_count": 14,
     "metadata": {},
     "output_type": "execute_result"
    }
   ],
   "source": [
    "confusion_matrix(y, m.predict(X))"
   ]
  },
  {
   "cell_type": "code",
   "execution_count": 15,
   "id": "229f951b-a7fa-4855-8dda-11f5efa9bce6",
   "metadata": {
    "tags": []
   },
   "outputs": [
    {
     "name": "stdout",
     "output_type": "stream",
     "text": [
      "              precision    recall  f1-score   support\n",
      "\n",
      "           0       0.91      1.00      0.95      3554\n",
      "           1       0.00      0.00      0.00       367\n",
      "\n",
      "    accuracy                           0.91      3921\n",
      "   macro avg       0.45      0.50      0.48      3921\n",
      "weighted avg       0.82      0.91      0.86      3921\n",
      "\n"
     ]
    }
   ],
   "source": [
    "print(\n",
    "  classification_report(y, m.predict(X), zero_division=0)\n",
    ")"
   ]
  },
  {
   "cell_type": "markdown",
   "id": "954687ce-4394-4c67-a76e-5487bc8d9d70",
   "metadata": {},
   "source": [
    "## Example 1 - DecisionTreeClassifier"
   ]
  },
  {
   "cell_type": "code",
   "execution_count": 16,
   "id": "18f34262-1d37-4fb9-ab8c-b01791c939ed",
   "metadata": {
    "tags": []
   },
   "outputs": [],
   "source": [
    "from sklearn.tree import DecisionTreeClassifier"
   ]
  },
  {
   "cell_type": "code",
   "execution_count": 17,
   "id": "cfddf348-d1aa-4b05-9004-7949beea9a06",
   "metadata": {
    "tags": []
   },
   "outputs": [],
   "source": [
    "tree_gs = GridSearchCV(\n",
    "  DecisionTreeClassifier(),\n",
    "  param_grid = {\n",
    "    \"criterion\": [\"gini\", \"entropy\"],\n",
    "    \"max_depth\": [2,3,4,5,6,7]\n",
    "  },\n",
    "  cv = KFold(10, shuffle=True, random_state=1234),\n",
    "  scoring = \"accuracy\",\n",
    "  n_jobs = 4\n",
    ").fit(\n",
    "  X, y\n",
    ")"
   ]
  },
  {
   "cell_type": "code",
   "execution_count": 18,
   "id": "19d8e604-7fd7-4535-9455-92363daceabf",
   "metadata": {
    "tags": []
   },
   "outputs": [
    {
     "data": {
      "text/plain": [
       "DecisionTreeClassifier(criterion='entropy', max_depth=5)"
      ]
     },
     "execution_count": 18,
     "metadata": {},
     "output_type": "execute_result"
    }
   ],
   "source": [
    "tree_gs.best_estimator_"
   ]
  },
  {
   "cell_type": "code",
   "execution_count": 19,
   "id": "62acd271-a2f4-4c49-8e81-b1dd4b039a17",
   "metadata": {
    "tags": []
   },
   "outputs": [
    {
     "data": {
      "text/plain": [
       "0.9219537051461808"
      ]
     },
     "execution_count": 19,
     "metadata": {},
     "output_type": "execute_result"
    }
   ],
   "source": [
    "tree_gs.best_score_"
   ]
  },
  {
   "cell_type": "code",
   "execution_count": 21,
   "id": "96fa6d97-6169-4980-8c13-f623e29dbe56",
   "metadata": {
    "tags": []
   },
   "outputs": [
    {
     "name": "stdout",
     "output_type": "stream",
     "text": [
      "{'criterion': 'gini', 'max_depth': 2} Score: 0.9056297709923664\n",
      "{'criterion': 'gini', 'max_depth': 3} Score: 0.9117502726281351\n",
      "{'criterion': 'gini', 'max_depth': 4} Score: 0.918382276574752\n",
      "{'criterion': 'gini', 'max_depth': 5} Score: 0.9196577867788337\n",
      "{'criterion': 'gini', 'max_depth': 6} Score: 0.9188931297709925\n",
      "{'criterion': 'gini', 'max_depth': 7} Score: 0.9160928493534819\n",
      "{'criterion': 'entropy', 'max_depth': 2} Score: 0.9063950771148154\n",
      "{'criterion': 'entropy', 'max_depth': 3} Score: 0.9102196603832373\n",
      "{'criterion': 'entropy', 'max_depth': 4} Score: 0.9209332969829154\n",
      "{'criterion': 'entropy', 'max_depth': 5} Score: 0.9219537051461808\n",
      "{'criterion': 'entropy', 'max_depth': 6} Score: 0.9158312561665888\n",
      "{'criterion': 'entropy', 'max_depth': 7} Score: 0.9132860777898946\n"
     ]
    }
   ],
   "source": [
    "for p, s in  zip(tree_gs.cv_results_[\"params\"], tree_gs.cv_results_[\"mean_test_score\"]):\n",
    "  print(f\"{p} Score: {s}\")"
   ]
  },
  {
   "cell_type": "code",
   "execution_count": 20,
   "id": "f194b196-e179-432e-933e-21e4818a90d9",
   "metadata": {
    "tags": []
   },
   "outputs": [
    {
     "data": {
      "text/plain": [
       "array([[3544,   10],\n",
       "       [ 286,   81]])"
      ]
     },
     "execution_count": 20,
     "metadata": {},
     "output_type": "execute_result"
    }
   ],
   "source": [
    "confusion_matrix(y, tree_gs.best_estimator_.predict(X))"
   ]
  },
  {
   "cell_type": "code",
   "execution_count": 22,
   "id": "253360e9-48ad-4a21-9f76-8db8621b8a5a",
   "metadata": {
    "tags": []
   },
   "outputs": [
    {
     "name": "stdout",
     "output_type": "stream",
     "text": [
      "              precision    recall  f1-score   support\n",
      "\n",
      "           0       0.93      1.00      0.96      3554\n",
      "           1       0.89      0.22      0.35       367\n",
      "\n",
      "    accuracy                           0.92      3921\n",
      "   macro avg       0.91      0.61      0.66      3921\n",
      "weighted avg       0.92      0.92      0.90      3921\n",
      "\n"
     ]
    }
   ],
   "source": [
    "print(\n",
    "  classification_report(y, tree_gs.best_estimator_.predict(X))\n",
    ")"
   ]
  },
  {
   "cell_type": "code",
   "execution_count": 23,
   "id": "e16589a5-e144-44b5-97ae-fcaeea1cd21b",
   "metadata": {
    "tags": []
   },
   "outputs": [
    {
     "data": {
      "text/plain": [
       "array([[0.97848306, 0.02151694],\n",
       "       [0.97848306, 0.02151694],\n",
       "       [0.97848306, 0.02151694],\n",
       "       ...,\n",
       "       [0.97848306, 0.02151694],\n",
       "       [0.97848306, 0.02151694],\n",
       "       [0.8908046 , 0.1091954 ]])"
      ]
     },
     "execution_count": 23,
     "metadata": {},
     "output_type": "execute_result"
    }
   ],
   "source": [
    "tree_gs.best_estimator_.predict_proba(X)"
   ]
  },
  {
   "cell_type": "markdown",
   "id": "74f1f5dc-0c47-4ddd-a943-f9aad092729e",
   "metadata": {},
   "source": [
    "## Example 2 - SVC"
   ]
  },
  {
   "cell_type": "code",
   "execution_count": 24,
   "id": "0f71ccbb-db86-41de-95b9-fc123fc697a2",
   "metadata": {
    "tags": []
   },
   "outputs": [],
   "source": [
    "from sklearn.svm import SVC\n",
    "from sklearn.pipeline import make_pipeline\n",
    "\n",
    "svc_pipe = make_pipeline(\n",
    "  StandardScaler(),\n",
    "  SVC()\n",
    ")\n",
    "\n",
    "svc_gs = GridSearchCV(\n",
    "  svc_pipe,\n",
    "  param_grid = [\n",
    "    {\"svc__kernel\": [\"rbf\"], \"svc__C\": [0.1, 1, 10, 100]},\n",
    "    {\"svc__kernel\": [\"linear\"], \"svc__C\": [0.1, 1, 10]}\n",
    "  ],\n",
    "  cv = KFold(5, shuffle=True, random_state=1234),\n",
    "  scoring = \"accuracy\",\n",
    "  n_jobs = 10\n",
    ").fit(\n",
    "  X, y\n",
    ")"
   ]
  },
  {
   "cell_type": "code",
   "execution_count": 25,
   "id": "9e319a5d-a231-4a5e-b98d-78e508c5ebcb",
   "metadata": {
    "tags": []
   },
   "outputs": [
    {
     "data": {
      "text/plain": [
       "Pipeline(steps=[('standardscaler', StandardScaler()), ('svc', SVC(C=1))])"
      ]
     },
     "execution_count": 25,
     "metadata": {},
     "output_type": "execute_result"
    }
   ],
   "source": [
    "svc_gs.best_estimator_"
   ]
  },
  {
   "cell_type": "code",
   "execution_count": 26,
   "id": "4a6dba93-ea45-4d49-9d61-2554fa1afdc3",
   "metadata": {
    "tags": []
   },
   "outputs": [
    {
     "data": {
      "text/plain": [
       "0.911243338099571"
      ]
     },
     "execution_count": 26,
     "metadata": {},
     "output_type": "execute_result"
    }
   ],
   "source": [
    "svc_gs.best_score_"
   ]
  },
  {
   "cell_type": "code",
   "execution_count": 27,
   "id": "be7d993b-d1ce-44d2-9db2-7da29251ad5a",
   "metadata": {
    "tags": []
   },
   "outputs": [
    {
     "name": "stdout",
     "output_type": "stream",
     "text": [
      "{'svc__C': 0.1, 'svc__kernel': 'rbf'} Score: 0.9063973742363187\n",
      "{'svc__C': 1, 'svc__kernel': 'rbf'} Score: 0.911243338099571\n",
      "{'svc__C': 10, 'svc__kernel': 'rbf'} Score: 0.9089477447029767\n",
      "{'svc__C': 100, 'svc__kernel': 'rbf'} Score: 0.9099681528662421\n",
      "{'svc__C': 0.1, 'svc__kernel': 'linear'} Score: 0.9063973742363187\n",
      "{'svc__C': 1, 'svc__kernel': 'linear'} Score: 0.9063973742363187\n",
      "{'svc__C': 10, 'svc__kernel': 'linear'} Score: 0.9063973742363187\n"
     ]
    }
   ],
   "source": [
    "for p, s in  zip(svc_gs.cv_results_[\"params\"], svc_gs.cv_results_[\"mean_test_score\"]):\n",
    "  print(f\"{p} Score: {s}\")"
   ]
  },
  {
   "cell_type": "code",
   "execution_count": 28,
   "id": "907a9486-4589-434b-9579-99e90481cccf",
   "metadata": {
    "tags": []
   },
   "outputs": [
    {
     "name": "stdout",
     "output_type": "stream",
     "text": [
      "              precision    recall  f1-score   support\n",
      "\n",
      "           0       0.91      1.00      0.95      3554\n",
      "           1       0.83      0.07      0.13       367\n",
      "\n",
      "    accuracy                           0.91      3921\n",
      "   macro avg       0.87      0.53      0.54      3921\n",
      "weighted avg       0.90      0.91      0.88      3921\n",
      "\n"
     ]
    }
   ],
   "source": [
    "print(\n",
    "  classification_report(y, svc_gs.best_estimator_.predict(X))\n",
    ")"
   ]
  },
  {
   "cell_type": "code",
   "execution_count": 29,
   "id": "fa04d86b-54d2-4d96-a916-0143a4acd78a",
   "metadata": {
    "tags": []
   },
   "outputs": [
    {
     "data": {
      "text/plain": [
       "array([[3549,    5],\n",
       "       [ 342,   25]])"
      ]
     },
     "execution_count": 29,
     "metadata": {},
     "output_type": "execute_result"
    }
   ],
   "source": [
    "confusion_matrix(y, svc_gs.best_estimator_.predict(X))"
   ]
  },
  {
   "cell_type": "code",
   "execution_count": 32,
   "id": "69c6a17d-b92b-40cc-86df-00e36ab01344",
   "metadata": {
    "tags": []
   },
   "outputs": [],
   "source": [
    "#svc_gs.best_estimator_.predict_proba(X)"
   ]
  },
  {
   "cell_type": "markdown",
   "id": "6263febf-7b58-4990-819a-f57636dfd54e",
   "metadata": {},
   "source": [
    "# MNIST Digits"
   ]
  },
  {
   "cell_type": "code",
   "execution_count": 33,
   "id": "efda5670-c186-4f62-ad7e-2ee24c5d0a94",
   "metadata": {
    "tags": []
   },
   "outputs": [],
   "source": [
    "from sklearn.datasets import load_digits\n",
    "digits = load_digits(as_frame=True)"
   ]
  },
  {
   "cell_type": "code",
   "execution_count": 34,
   "id": "1323aafd-df01-4350-9227-219e1ca4a110",
   "metadata": {
    "tags": []
   },
   "outputs": [],
   "source": [
    "X, y = digits.data, digits.target\n",
    "X_train, X_test, y_train, y_test = train_test_split(\n",
    "    X, y, test_size=0.33, shuffle=True, random_state=1234\n",
    ")"
   ]
  },
  {
   "cell_type": "markdown",
   "id": "396b108d-d307-4fd0-ad2e-2c79425a22c3",
   "metadata": {},
   "source": [
    "## Example 3 - Classification Tree"
   ]
  },
  {
   "cell_type": "code",
   "execution_count": 41,
   "id": "e3168bf8-5307-41fd-b27e-28576607810d",
   "metadata": {
    "tags": []
   },
   "outputs": [],
   "source": [
    "digits_tree = GridSearchCV(\n",
    "  DecisionTreeClassifier(),\n",
    "  param_grid = {\n",
    "    \"criterion\": [\"gini\", \"entropy\"],\n",
    "    \"max_depth\": range(2,10)\n",
    "  },\n",
    "  cv = KFold(5, shuffle=True, random_state=12345),\n",
    "  n_jobs = 4\n",
    ").fit(\n",
    "  X_train, y_train\n",
    ")"
   ]
  },
  {
   "cell_type": "code",
   "execution_count": 42,
   "id": "6f1ccec8-dd46-4976-b28c-52e16aa21584",
   "metadata": {
    "tags": []
   },
   "outputs": [
    {
     "data": {
      "text/plain": [
       "DecisionTreeClassifier(criterion='entropy', max_depth=7)"
      ]
     },
     "execution_count": 42,
     "metadata": {},
     "output_type": "execute_result"
    }
   ],
   "source": [
    "digits_tree.best_estimator_"
   ]
  },
  {
   "cell_type": "code",
   "execution_count": 43,
   "id": "cc93f2d1-d70a-46be-9a2e-ef7b7aae891d",
   "metadata": {
    "tags": []
   },
   "outputs": [
    {
     "data": {
      "text/plain": [
       "0.8453769017980637"
      ]
     },
     "execution_count": 43,
     "metadata": {},
     "output_type": "execute_result"
    }
   ],
   "source": [
    "digits_tree.best_score_"
   ]
  },
  {
   "cell_type": "code",
   "execution_count": 44,
   "id": "f21339b5-d18f-4644-8236-a83194cc6ffc",
   "metadata": {
    "tags": []
   },
   "outputs": [
    {
     "data": {
      "text/plain": [
       "0.867003367003367"
      ]
     },
     "execution_count": 44,
     "metadata": {},
     "output_type": "execute_result"
    }
   ],
   "source": [
    "digits_tree.best_estimator_.score(X_test, y_test)"
   ]
  },
  {
   "cell_type": "code",
   "execution_count": 45,
   "id": "2d85aaf0-36cc-4772-8836-1d43c3550990",
   "metadata": {
    "tags": []
   },
   "outputs": [
    {
     "data": {
      "text/plain": [
       "array([[51,  0,  1,  0,  1,  0,  0,  0,  0,  0],\n",
       "       [ 0, 51,  1,  4,  0,  4,  0,  2,  2,  0],\n",
       "       [ 2,  0, 49,  2,  0,  1,  3,  0,  1,  0],\n",
       "       [ 0,  1,  2, 54,  0,  0,  0,  0,  1,  2],\n",
       "       [ 2,  0,  0,  0, 63,  1,  1,  3,  0,  1],\n",
       "       [ 0,  3,  0,  3,  3, 56,  2,  0,  1,  0],\n",
       "       [ 0,  1,  0,  0,  0,  0, 55,  0,  1,  0],\n",
       "       [ 2,  2,  1,  0,  1,  0,  0, 48,  1,  0],\n",
       "       [ 0,  0,  2,  2,  3,  4,  0,  2, 42,  0],\n",
       "       [ 0,  1,  0,  2,  0,  2,  0,  2,  0, 46]])"
      ]
     },
     "execution_count": 45,
     "metadata": {},
     "output_type": "execute_result"
    }
   ],
   "source": [
    "confusion_matrix(\n",
    "  y_test, digits_tree.best_estimator_.predict(X_test)\n",
    ")"
   ]
  },
  {
   "cell_type": "code",
   "execution_count": 40,
   "id": "eb6db157-f298-4bb5-b9e3-6185ed5e2f2e",
   "metadata": {
    "tags": []
   },
   "outputs": [
    {
     "name": "stdout",
     "output_type": "stream",
     "text": [
      "              precision    recall  f1-score   support\n",
      "\n",
      "           0       0.89      0.92      0.91        53\n",
      "           1       0.90      0.88      0.89        64\n",
      "           2       0.87      0.81      0.84        58\n",
      "           3       0.86      0.93      0.90        60\n",
      "           4       0.90      0.89      0.89        71\n",
      "           5       0.88      0.87      0.87        68\n",
      "           6       0.87      0.96      0.92        57\n",
      "           7       0.83      0.91      0.87        55\n",
      "           8       0.85      0.75      0.80        55\n",
      "           9       0.90      0.85      0.87        53\n",
      "\n",
      "    accuracy                           0.88       594\n",
      "   macro avg       0.88      0.88      0.88       594\n",
      "weighted avg       0.88      0.88      0.88       594\n",
      "\n"
     ]
    }
   ],
   "source": [
    "print(\n",
    "  classification_report(y_test, digits_tree.best_estimator_.predict(X_test))\n",
    ")"
   ]
  },
  {
   "cell_type": "markdown",
   "id": "96d51434-5092-4428-9590-e560814ca646",
   "metadata": {},
   "source": [
    "## Example 4 - GridSearchCV w/ Multiple models"
   ]
  },
  {
   "cell_type": "code",
   "execution_count": 46,
   "id": "eb14490b-e809-49a5-ae16-861e01943907",
   "metadata": {},
   "outputs": [],
   "source": [
    "from sklearn.ensemble import RandomForestClassifier\n",
    "\n",
    "p = Pipeline([\n",
    "  (\"model\", DecisionTreeClassifier())\n",
    "])\n",
    "\n",
    "\n",
    "digits_mm = GridSearchCV(\n",
    "  p,\n",
    "  param_grid = {\n",
    "    \"model\": [\n",
    "      DecisionTreeClassifier(),\n",
    "      RandomForestClassifier()\n",
    "    ],\n",
    "    \"model__criterion\": [\"gini\", \"entropy\"],\n",
    "    \"model__max_depth\": range(2,10)\n",
    "  },\n",
    "  cv = KFold(5, shuffle=True, random_state=12345),\n",
    "  n_jobs = 10\n",
    ").fit(\n",
    "  X_train, y_train\n",
    ")"
   ]
  },
  {
   "cell_type": "code",
   "execution_count": 47,
   "id": "3d0e2f04-a5f5-40a9-b4ec-dd38acb8618d",
   "metadata": {},
   "outputs": [
    {
     "data": {
      "text/plain": [
       "Pipeline(steps=[('model',\n",
       "                 RandomForestClassifier(criterion='entropy', max_depth=9))])"
      ]
     },
     "execution_count": 47,
     "metadata": {},
     "output_type": "execute_result"
    }
   ],
   "source": [
    "digits_mm.best_estimator_"
   ]
  },
  {
   "cell_type": "code",
   "execution_count": 48,
   "id": "9fa440e6-5f5d-4d02-ba75-a63dc0c13036",
   "metadata": {},
   "outputs": [
    {
     "data": {
      "text/plain": [
       "0.9717358229598894"
      ]
     },
     "execution_count": 48,
     "metadata": {},
     "output_type": "execute_result"
    }
   ],
   "source": [
    "digits_mm.best_score_"
   ]
  },
  {
   "cell_type": "code",
   "execution_count": 49,
   "id": "c030e40f-c212-4cf6-989e-f1ca5e75d4d1",
   "metadata": {
    "tags": []
   },
   "outputs": [
    {
     "data": {
      "text/plain": [
       "0.9595959595959596"
      ]
     },
     "execution_count": 49,
     "metadata": {},
     "output_type": "execute_result"
    }
   ],
   "source": [
    "digits_mm.best_estimator_.score(X_test, y_test)"
   ]
  },
  {
   "cell_type": "code",
   "execution_count": 50,
   "id": "17426d93-a446-4ea3-839f-0679dd787125",
   "metadata": {},
   "outputs": [
    {
     "data": {
      "text/plain": [
       "array([[53,  0,  0,  0,  0,  0,  0,  0,  0,  0],\n",
       "       [ 0, 64,  0,  0,  0,  0,  0,  0,  0,  0],\n",
       "       [ 0,  0, 56,  0,  0,  0,  0,  0,  0,  2],\n",
       "       [ 0,  1,  0, 58,  0,  0,  0,  0,  1,  0],\n",
       "       [ 0,  0,  0,  0, 68,  0,  0,  2,  1,  0],\n",
       "       [ 0,  0,  0,  0,  1, 63,  1,  0,  0,  3],\n",
       "       [ 0,  0,  0,  0,  0,  0, 56,  0,  1,  0],\n",
       "       [ 0,  0,  0,  0,  0,  0,  0, 55,  0,  0],\n",
       "       [ 0,  3,  1,  0,  0,  0,  0,  0, 50,  1],\n",
       "       [ 0,  0,  0,  1,  0,  1,  0,  3,  1, 47]])"
      ]
     },
     "execution_count": 50,
     "metadata": {},
     "output_type": "execute_result"
    }
   ],
   "source": [
    "confusion_matrix(\n",
    "  y_test, digits_mm.best_estimator_.predict(X_test)\n",
    ")"
   ]
  },
  {
   "cell_type": "code",
   "execution_count": 51,
   "id": "38d24b07-6265-4cd4-bd58-06a2ecc47f50",
   "metadata": {
    "tags": []
   },
   "outputs": [
    {
     "name": "stdout",
     "output_type": "stream",
     "text": [
      "              precision    recall  f1-score   support\n",
      "\n",
      "           0       1.00      1.00      1.00        53\n",
      "           1       0.94      1.00      0.97        64\n",
      "           2       0.98      0.97      0.97        58\n",
      "           3       0.98      0.97      0.97        60\n",
      "           4       0.99      0.96      0.97        71\n",
      "           5       0.98      0.93      0.95        68\n",
      "           6       0.98      0.98      0.98        57\n",
      "           7       0.92      1.00      0.96        55\n",
      "           8       0.93      0.91      0.92        55\n",
      "           9       0.89      0.89      0.89        53\n",
      "\n",
      "    accuracy                           0.96       594\n",
      "   macro avg       0.96      0.96      0.96       594\n",
      "weighted avg       0.96      0.96      0.96       594\n",
      "\n"
     ]
    }
   ],
   "source": [
    "print(\n",
    "  classification_report(y_test, digits_mm.best_estimator_.predict(X_test))\n",
    ")"
   ]
  },
  {
   "cell_type": "code",
   "execution_count": null,
   "id": "0597cd27-c3d3-4583-9583-abc2802c2b9e",
   "metadata": {},
   "outputs": [],
   "source": []
  }
 ],
 "metadata": {
  "kernelspec": {
   "display_name": "Python 3 (ipykernel)",
   "language": "python",
   "name": "python3"
  },
  "language_info": {
   "codemirror_mode": {
    "name": "ipython",
    "version": 3
   },
   "file_extension": ".py",
   "mimetype": "text/x-python",
   "name": "python",
   "nbconvert_exporter": "python",
   "pygments_lexer": "ipython3",
   "version": "3.10.10"
  }
 },
 "nbformat": 4,
 "nbformat_minor": 5
}
