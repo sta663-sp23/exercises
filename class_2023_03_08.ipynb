{
 "cells": [
  {
   "cell_type": "markdown",
   "id": "a86c9f69-45a5-443e-b952-fd2a525ea289",
   "metadata": {},
   "source": [
    "## Setup"
   ]
  },
  {
   "cell_type": "code",
   "execution_count": null,
   "id": "87581066-3fb6-4ac9-88a8-c6b194fe5ce3",
   "metadata": {
    "tags": []
   },
   "outputs": [],
   "source": [
    "import numpy as np\n",
    "import matplotlib as mpl\n",
    "import matplotlib.pyplot as plt\n",
    "import pandas as pd\n",
    "import seaborn as sns"
   ]
  },
  {
   "cell_type": "code",
   "execution_count": null,
   "id": "62015fe7-2d6e-4987-b24c-17ba467140ae",
   "metadata": {
    "tags": []
   },
   "outputs": [],
   "source": [
    "import sklearn\n",
    "\n",
    "sklearn.set_config(display=\"text\")\n",
    "\n",
    "from sklearn.pipeline import make_pipeline, Pipeline\n",
    "from sklearn.preprocessing import OneHotEncoder, StandardScaler\n",
    "from sklearn.model_selection import GridSearchCV, KFold, StratifiedKFold\n",
    "from sklearn.metrics import classification_report, confusion_matrix\n",
    "from sklearn.model_selection import train_test_split"
   ]
  },
  {
   "cell_type": "markdown",
   "id": "b3973ebd-54b3-45f1-bc12-f5f8542d46f7",
   "metadata": {},
   "source": [
    "# SPAM"
   ]
  },
  {
   "cell_type": "code",
   "execution_count": null,
   "id": "d903347f-45fb-4bdf-9fff-6bce1b878991",
   "metadata": {
    "tags": []
   },
   "outputs": [],
   "source": [
    "from sklearn.linear_model import LogisticRegression\n",
    "\n",
    "email = pd.read_csv(\n",
    "  'https://sta663-sp22.github.io/slides/data/email.csv'\n",
    ")[\n",
    "  ['spam', 'exclaim_mess', 'format', 'num_char', 'line_breaks', 'number']\n",
    "]"
   ]
  },
  {
   "cell_type": "code",
   "execution_count": null,
   "id": "868d8a70-e90b-45d6-9813-1f1c880be8b4",
   "metadata": {
    "tags": []
   },
   "outputs": [],
   "source": [
    "email"
   ]
  },
  {
   "cell_type": "code",
   "execution_count": null,
   "id": "f4799dd9-b434-4c64-bd33-7f5dcf5cf1fc",
   "metadata": {
    "tags": []
   },
   "outputs": [],
   "source": [
    "email_dc = pd.get_dummies(email)\n",
    "email_dc"
   ]
  },
  {
   "cell_type": "code",
   "execution_count": null,
   "id": "3d55eeb4-fba3-4eb4-9476-66497d20fa2b",
   "metadata": {
    "tags": []
   },
   "outputs": [],
   "source": [
    "y = email_dc.spam\n",
    "X = email_dc.drop('spam', axis=1)"
   ]
  },
  {
   "cell_type": "markdown",
   "id": "0f4cb733-cf27-4d41-8091-5102338b3cfc",
   "metadata": {},
   "source": [
    "## Baseline - LogisticRegression"
   ]
  },
  {
   "cell_type": "code",
   "execution_count": null,
   "id": "9f2e8aae-45be-4f7e-b14f-36b2967aaec6",
   "metadata": {
    "tags": []
   },
   "outputs": [],
   "source": [
    "m = LogisticRegression(fit_intercept = False, max_iter=500).fit(X, y)"
   ]
  },
  {
   "cell_type": "code",
   "execution_count": null,
   "id": "529a3f49-9fdd-462b-bb31-7e34ba28a9bd",
   "metadata": {
    "tags": []
   },
   "outputs": [],
   "source": [
    "m.coef_"
   ]
  },
  {
   "cell_type": "code",
   "execution_count": null,
   "id": "75e8c14f-a21a-42c9-86bd-9ed25a2832d8",
   "metadata": {
    "tags": []
   },
   "outputs": [],
   "source": [
    "m.score(X,y)"
   ]
  },
  {
   "cell_type": "code",
   "execution_count": null,
   "id": "a5c78d8b-ca61-4cf0-b22f-fdad15ed10a4",
   "metadata": {
    "tags": []
   },
   "outputs": [],
   "source": [
    "confusion_matrix(y, m.predict(X))"
   ]
  },
  {
   "cell_type": "code",
   "execution_count": null,
   "id": "229f951b-a7fa-4855-8dda-11f5efa9bce6",
   "metadata": {
    "tags": []
   },
   "outputs": [],
   "source": [
    "print(\n",
    "  classification_report(y, m.predict(X), zero_division=0)\n",
    ")"
   ]
  },
  {
   "cell_type": "markdown",
   "id": "954687ce-4394-4c67-a76e-5487bc8d9d70",
   "metadata": {},
   "source": [
    "## Example 1 - DecisionTreeClassifier"
   ]
  },
  {
   "cell_type": "code",
   "execution_count": null,
   "id": "18f34262-1d37-4fb9-ab8c-b01791c939ed",
   "metadata": {
    "tags": []
   },
   "outputs": [],
   "source": [
    "from sklearn.tree import DecisionTreeClassifier"
   ]
  },
  {
   "cell_type": "code",
   "execution_count": null,
   "id": "cfddf348-d1aa-4b05-9004-7949beea9a06",
   "metadata": {
    "tags": []
   },
   "outputs": [],
   "source": [
    "tree_gs = GridSearchCV(\n",
    "  DecisionTreeClassifier(),\n",
    "  param_grid = {\n",
    "    \"criterion\": [\"gini\", \"entropy\"],\n",
    "    \"max_depth\": [2,3,4,5,6,7]\n",
    "  },\n",
    "  cv = KFold(10, shuffle=True, random_state=1234),\n",
    "  scoring = \"accuracy\",\n",
    "  n_jobs = 4\n",
    ").fit(\n",
    "  X, y\n",
    ")"
   ]
  },
  {
   "cell_type": "code",
   "execution_count": null,
   "id": "19d8e604-7fd7-4535-9455-92363daceabf",
   "metadata": {
    "tags": []
   },
   "outputs": [],
   "source": [
    "tree_gs.best_estimator_"
   ]
  },
  {
   "cell_type": "code",
   "execution_count": null,
   "id": "62acd271-a2f4-4c49-8e81-b1dd4b039a17",
   "metadata": {
    "tags": []
   },
   "outputs": [],
   "source": [
    "tree_gs.best_score_"
   ]
  },
  {
   "cell_type": "code",
   "execution_count": null,
   "id": "96fa6d97-6169-4980-8c13-f623e29dbe56",
   "metadata": {
    "tags": []
   },
   "outputs": [],
   "source": [
    "for p, s in  zip(tree_gs.cv_results_[\"params\"], tree_gs.cv_results_[\"mean_test_score\"]):\n",
    "  print(f\"{p} Score: {s}\")"
   ]
  },
  {
   "cell_type": "code",
   "execution_count": null,
   "id": "f194b196-e179-432e-933e-21e4818a90d9",
   "metadata": {
    "tags": []
   },
   "outputs": [],
   "source": [
    "confusion_matrix(y, tree_gs.best_estimator_.predict(X))"
   ]
  },
  {
   "cell_type": "code",
   "execution_count": null,
   "id": "253360e9-48ad-4a21-9f76-8db8621b8a5a",
   "metadata": {
    "tags": []
   },
   "outputs": [],
   "source": [
    "print(\n",
    "  classification_report(y, tree_gs.best_estimator_.predict(X))\n",
    ")"
   ]
  },
  {
   "cell_type": "code",
   "execution_count": null,
   "id": "e16589a5-e144-44b5-97ae-fcaeea1cd21b",
   "metadata": {
    "tags": []
   },
   "outputs": [],
   "source": [
    "tree_gs.best_estimator_.predict_proba(X)"
   ]
  },
  {
   "cell_type": "markdown",
   "id": "74f1f5dc-0c47-4ddd-a943-f9aad092729e",
   "metadata": {},
   "source": [
    "## Example 2 - SVC"
   ]
  },
  {
   "cell_type": "code",
   "execution_count": null,
   "id": "0f71ccbb-db86-41de-95b9-fc123fc697a2",
   "metadata": {
    "tags": []
   },
   "outputs": [],
   "source": [
    "from sklearn.svm import SVC\n",
    "from sklearn.pipeline import make_pipeline\n",
    "\n",
    "svc_pipe = make_pipeline(\n",
    "  StandardScaler(),\n",
    "  SVC()\n",
    ")\n",
    "\n",
    "svc_gs = GridSearchCV(\n",
    "  svc_pipe,\n",
    "  param_grid = [\n",
    "    {\"svc__kernel\": [\"rbf\"], \"svc__C\": [0.1, 1, 10, 100]},\n",
    "    {\"svc__kernel\": [\"linear\"], \"svc__C\": [0.1, 1, 10]}\n",
    "  ],\n",
    "  cv = KFold(5, shuffle=True, random_state=1234),\n",
    "  scoring = \"accuracy\",\n",
    "  n_jobs = 10\n",
    ").fit(\n",
    "  X, y\n",
    ")"
   ]
  },
  {
   "cell_type": "code",
   "execution_count": null,
   "id": "9e319a5d-a231-4a5e-b98d-78e508c5ebcb",
   "metadata": {
    "tags": []
   },
   "outputs": [],
   "source": [
    "svc_gs.best_estimator_"
   ]
  },
  {
   "cell_type": "code",
   "execution_count": null,
   "id": "4a6dba93-ea45-4d49-9d61-2554fa1afdc3",
   "metadata": {
    "tags": []
   },
   "outputs": [],
   "source": [
    "svc_gs.best_score_"
   ]
  },
  {
   "cell_type": "code",
   "execution_count": null,
   "id": "be7d993b-d1ce-44d2-9db2-7da29251ad5a",
   "metadata": {
    "tags": []
   },
   "outputs": [],
   "source": [
    "for p, s in  zip(svc_gs.cv_results_[\"params\"], svc_gs.cv_results_[\"mean_test_score\"]):\n",
    "  print(f\"{p} Score: {s}\")"
   ]
  },
  {
   "cell_type": "code",
   "execution_count": null,
   "id": "907a9486-4589-434b-9579-99e90481cccf",
   "metadata": {
    "tags": []
   },
   "outputs": [],
   "source": [
    "print(\n",
    "  classification_report(y, svc_gs.best_estimator_.predict(X))\n",
    ")"
   ]
  },
  {
   "cell_type": "code",
   "execution_count": null,
   "id": "69c6a17d-b92b-40cc-86df-00e36ab01344",
   "metadata": {
    "tags": []
   },
   "outputs": [],
   "source": [
    "svc_gs.best_estimator_.predict_proba(X)"
   ]
  },
  {
   "cell_type": "markdown",
   "id": "6263febf-7b58-4990-819a-f57636dfd54e",
   "metadata": {},
   "source": [
    "# MNIST Digits"
   ]
  },
  {
   "cell_type": "code",
   "execution_count": null,
   "id": "efda5670-c186-4f62-ad7e-2ee24c5d0a94",
   "metadata": {
    "tags": []
   },
   "outputs": [],
   "source": [
    "from sklearn.datasets import load_digits\n",
    "digits = load_digits(as_frame=True)"
   ]
  },
  {
   "cell_type": "code",
   "execution_count": null,
   "id": "1323aafd-df01-4350-9227-219e1ca4a110",
   "metadata": {
    "tags": []
   },
   "outputs": [],
   "source": [
    "X, y = digits.data, digits.target\n",
    "X_train, X_test, y_train, y_test = train_test_split(\n",
    "    X, y, test_size=0.33, shuffle=True, random_state=1234\n",
    ")"
   ]
  },
  {
   "cell_type": "markdown",
   "id": "396b108d-d307-4fd0-ad2e-2c79425a22c3",
   "metadata": {},
   "source": [
    "## Example 3 - Classification Tree"
   ]
  },
  {
   "cell_type": "code",
   "execution_count": null,
   "id": "e3168bf8-5307-41fd-b27e-28576607810d",
   "metadata": {
    "tags": []
   },
   "outputs": [],
   "source": [
    "digits_tree = GridSearchCV(\n",
    "  DecisionTreeClassifier(),\n",
    "  param_grid = {\n",
    "    \"criterion\": [\"gini\", \"entropy\"],\n",
    "    \"max_depth\": range(2,16)\n",
    "  },\n",
    "  cv = KFold(5, shuffle=True, random_state=12345),\n",
    "  n_jobs = 4\n",
    ").fit(\n",
    "  X_train, y_train\n",
    ")"
   ]
  },
  {
   "cell_type": "code",
   "execution_count": null,
   "id": "6f1ccec8-dd46-4976-b28c-52e16aa21584",
   "metadata": {
    "tags": []
   },
   "outputs": [],
   "source": [
    "digits_tree.best_estimator_"
   ]
  },
  {
   "cell_type": "code",
   "execution_count": null,
   "id": "cc93f2d1-d70a-46be-9a2e-ef7b7aae891d",
   "metadata": {
    "tags": []
   },
   "outputs": [],
   "source": [
    "digits_tree.best_score_"
   ]
  },
  {
   "cell_type": "code",
   "execution_count": null,
   "id": "f21339b5-d18f-4644-8236-a83194cc6ffc",
   "metadata": {
    "tags": []
   },
   "outputs": [],
   "source": [
    "digits_tree.best_estimator_.score(X_test, y_test)"
   ]
  },
  {
   "cell_type": "code",
   "execution_count": null,
   "id": "2d85aaf0-36cc-4772-8836-1d43c3550990",
   "metadata": {
    "tags": []
   },
   "outputs": [],
   "source": [
    "confusion_matrix(\n",
    "  y_test, digits_tree.best_estimator_.predict(X_test)\n",
    ")"
   ]
  },
  {
   "cell_type": "code",
   "execution_count": null,
   "id": "eb6db157-f298-4bb5-b9e3-6185ed5e2f2e",
   "metadata": {
    "tags": []
   },
   "outputs": [],
   "source": [
    "print(\n",
    "  classification_report(y_test, digits_tree.best_estimator_.predict(X_test))\n",
    ")"
   ]
  },
  {
   "cell_type": "markdown",
   "id": "96d51434-5092-4428-9590-e560814ca646",
   "metadata": {},
   "source": [
    "## Example 4 - GridSearchCV w/ Multiple models"
   ]
  },
  {
   "cell_type": "code",
   "execution_count": null,
   "id": "eb14490b-e809-49a5-ae16-861e01943907",
   "metadata": {},
   "outputs": [],
   "source": [
    "from sklearn.ensemble import RandomForestClassifier\n",
    "\n",
    "p = Pipeline([\n",
    "  (\"model\", DecisionTreeClassifier())\n",
    "])\n",
    "\n",
    "\n",
    "digits_mm = GridSearchCV(\n",
    "  p,\n",
    "  param_grid = {\n",
    "    \"model\": [\n",
    "      DecisionTreeClassifier(),\n",
    "      RandomForestClassifier()\n",
    "    ],\n",
    "    \"model__criterion\": [\"gini\", \"entropy\"],\n",
    "    \"model__max_depth\": range(2,10)\n",
    "  },\n",
    "  cv = KFold(5, shuffle=True, random_state=12345),\n",
    "  n_jobs = 10\n",
    ").fit(\n",
    "  X_train, y_train\n",
    ")"
   ]
  },
  {
   "cell_type": "code",
   "execution_count": null,
   "id": "3d0e2f04-a5f5-40a9-b4ec-dd38acb8618d",
   "metadata": {},
   "outputs": [],
   "source": [
    "digits_mm.best_estimator_"
   ]
  },
  {
   "cell_type": "code",
   "execution_count": null,
   "id": "9fa440e6-5f5d-4d02-ba75-a63dc0c13036",
   "metadata": {},
   "outputs": [],
   "source": [
    "digits_mm.best_score_"
   ]
  },
  {
   "cell_type": "code",
   "execution_count": null,
   "id": "c030e40f-c212-4cf6-989e-f1ca5e75d4d1",
   "metadata": {
    "tags": []
   },
   "outputs": [],
   "source": [
    "digits_mm.best_estimator_.score(X_test, y_test)"
   ]
  },
  {
   "cell_type": "code",
   "execution_count": null,
   "id": "17426d93-a446-4ea3-839f-0679dd787125",
   "metadata": {},
   "outputs": [],
   "source": [
    "confusion_matrix(\n",
    "  y_test, digits_mm.best_estimator_.predict(X_test)\n",
    ")"
   ]
  },
  {
   "cell_type": "code",
   "execution_count": null,
   "id": "38d24b07-6265-4cd4-bd58-06a2ecc47f50",
   "metadata": {
    "tags": []
   },
   "outputs": [],
   "source": [
    "print(\n",
    "  classification_report(y_test, digits_mm.best_estimator_.predict(X_test))\n",
    ")"
   ]
  },
  {
   "cell_type": "code",
   "execution_count": null,
   "id": "0597cd27-c3d3-4583-9583-abc2802c2b9e",
   "metadata": {},
   "outputs": [],
   "source": []
  }
 ],
 "metadata": {
  "kernelspec": {
   "display_name": "Python 3 (ipykernel)",
   "language": "python",
   "name": "python3"
  },
  "language_info": {
   "codemirror_mode": {
    "name": "ipython",
    "version": 3
   },
   "file_extension": ".py",
   "mimetype": "text/x-python",
   "name": "python",
   "nbconvert_exporter": "python",
   "pygments_lexer": "ipython3",
   "version": "3.10.10"
  }
 },
 "nbformat": 4,
 "nbformat_minor": 5
}
