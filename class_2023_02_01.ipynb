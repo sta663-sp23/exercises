{
 "cells": [
  {
   "cell_type": "code",
   "execution_count": 3,
   "id": "10eb53bd-324a-42b8-948f-d93406f2635a",
   "metadata": {},
   "outputs": [],
   "source": [
    "import numpy as np"
   ]
  },
  {
   "cell_type": "markdown",
   "id": "837b7c5b-69e5-4c3b-be9b-dbf8a1e051d1",
   "metadata": {},
   "source": [
    "## Exercise 1\n",
    "\n",
    "Write an expression to obtain the center 2x2 values (i.e. 5, 6, 9, 10 as a matrix)."
   ]
  },
  {
   "cell_type": "code",
   "execution_count": 4,
   "id": "7ef973b7-ef48-484c-844c-82729c1e9704",
   "metadata": {},
   "outputs": [
    {
     "data": {
      "text/plain": [
       "array([[ 0,  1,  2,  3],\n",
       "       [ 4,  5,  6,  7],\n",
       "       [ 8,  9, 10, 11],\n",
       "       [12, 13, 14, 15]])"
      ]
     },
     "execution_count": 4,
     "metadata": {},
     "output_type": "execute_result"
    }
   ],
   "source": [
    "x = np.arange(16).reshape((4,4)); x"
   ]
  },
  {
   "cell_type": "code",
   "execution_count": 12,
   "id": "0d493c86-06ed-47ad-80f8-7f06b4e8f9ec",
   "metadata": {},
   "outputs": [
    {
     "data": {
      "text/plain": [
       "array([ 5, 10])"
      ]
     },
     "execution_count": 12,
     "metadata": {},
     "output_type": "execute_result"
    }
   ],
   "source": [
    "x[(1,2),(1,2)]"
   ]
  },
  {
   "cell_type": "code",
   "execution_count": 13,
   "id": "23b463b9-1c02-4d11-aa32-34f771a98408",
   "metadata": {},
   "outputs": [
    {
     "data": {
      "text/plain": [
       "array([[ 5,  6],\n",
       "       [ 9, 10]])"
      ]
     },
     "execution_count": 13,
     "metadata": {},
     "output_type": "execute_result"
    }
   ],
   "source": [
    "x[1:3,1:3]"
   ]
  },
  {
   "cell_type": "code",
   "execution_count": 14,
   "id": "f7c24f2e-438b-4b45-9eed-fb099bd3426d",
   "metadata": {},
   "outputs": [
    {
     "data": {
      "text/plain": [
       "array([[ 5,  6],\n",
       "       [ 9, 10]])"
      ]
     },
     "execution_count": 14,
     "metadata": {},
     "output_type": "execute_result"
    }
   ],
   "source": [
    "x[(1,2),:][:, (1,2)]"
   ]
  },
  {
   "cell_type": "markdown",
   "id": "36aa8a2c-c972-496c-ad63-2acc72313f53",
   "metadata": {},
   "source": [
    "## Exercise 2\n",
    "\n",
    "We will now use this to attempt a simple brute force approach to numerical optimization, define a grid of points using `meshgrid()` to approximate the minima the following function:\n",
    "\n",
    "$$f(x,y)=(1−x)^2+100(y−x^2)^2$$\n",
    "\n",
    "Considering values of $x,y \\in (−1,3)$, which value(s) of $x,y$ minimize this function?"
   ]
  },
  {
   "cell_type": "code",
   "execution_count": 29,
   "id": "79eb2baf-b2f9-41d2-9142-7d7c27d06660",
   "metadata": {},
   "outputs": [],
   "source": [
    "pts = np.linspace(-1, 3, 10000)\n",
    "x, y = np.meshgrid(pts, pts)"
   ]
  },
  {
   "cell_type": "code",
   "execution_count": 30,
   "id": "4f93950f-fa45-4157-a639-9da913927efc",
   "metadata": {
    "tags": []
   },
   "outputs": [],
   "source": [
    "f = (1-x)**2 + 100*(y - x**2)**2"
   ]
  },
  {
   "cell_type": "code",
   "execution_count": 31,
   "id": "39b3ecf7-9e4b-4c2a-abc2-aa127d28eb9e",
   "metadata": {},
   "outputs": [
    {
     "data": {
      "text/plain": [
       "(array([1.00020002]), array([1.00060006]))"
      ]
     },
     "execution_count": 31,
     "metadata": {},
     "output_type": "execute_result"
    }
   ],
   "source": [
    "min = np.min(f)\n",
    "\n",
    "(x[f == min],\n",
    " y[f == min])\n"
   ]
  },
  {
   "cell_type": "code",
   "execution_count": 32,
   "id": "ff8834cd-872e-47c5-8b00-132ebc24d420",
   "metadata": {},
   "outputs": [],
   "source": [
    "min_i = np.argmin(f,axis=None)"
   ]
  },
  {
   "cell_type": "code",
   "execution_count": 33,
   "id": "a0a34130-b0dd-4caa-a0cc-a482317d26ef",
   "metadata": {},
   "outputs": [
    {
     "data": {
      "text/plain": [
       "(1.0002000200020005, 1.0006000600060005)"
      ]
     },
     "execution_count": 33,
     "metadata": {},
     "output_type": "execute_result"
    }
   ],
   "source": [
    "( x.reshape(-1)[min_i],\n",
    "  y.reshape(-1)[min_i])"
   ]
  },
  {
   "cell_type": "markdown",
   "id": "b0f1ab35-aaf7-4022-8168-e553353dd2fe",
   "metadata": {},
   "source": [
    "## Exercise 3\n",
    "\n",
    "For each of the following combinations determine what the resulting dimension will be using broadcasting"
   ]
  },
  {
   "cell_type": "markdown",
   "id": "71d54162-2994-4b04-9a9a-c4bc44dca676",
   "metadata": {},
   "source": [
    "* A [128 x 128 x 3] + B [3]\n",
    "\n",
    "```\n",
    "A     128 x 128 x 3\n",
    "B                 3\n",
    "-------------------\n",
    "A + B 128 x 128 x 3\n",
    "```"
   ]
  },
  {
   "cell_type": "markdown",
   "id": "3486e222-e6a4-42ee-b4e8-4523876aec3c",
   "metadata": {},
   "source": [
    "* A [8 x 1 x 6 x 1] + B [7 x 1 x 5]\n",
    "\n",
    "```\n",
    "A     8 x 1 x 6 x 1\n",
    "B         7 x 1 x 5\n",
    "-------------------\n",
    "A + B 8 x 7 x 6 x 5\n",
    "```"
   ]
  },
  {
   "cell_type": "markdown",
   "id": "42b0aa20-ab60-4a9f-9448-ada8b47eeb3b",
   "metadata": {},
   "source": [
    "* A [2 x 1] + B [8 x 4 x 3]\n",
    "\n",
    "```\n",
    "A             2 x 1\n",
    "B         8 x 4 x 3\n",
    "-------------------\n",
    "A + B         X x 3 -> Error\n",
    "```"
   ]
  },
  {
   "cell_type": "markdown",
   "id": "af9df81c-40c0-47a0-802c-b587ce71fc32",
   "metadata": {},
   "source": [
    "* A [3 x 1] + B [15 x 3 x 5]\n",
    "\n",
    "```\n",
    "A             3 x 1\n",
    "B        15 x 3 x 5\n",
    "-------------------\n",
    "A + B    15 x 3 x 5   \n",
    "```"
   ]
  },
  {
   "cell_type": "markdown",
   "id": "1b706abc-70fc-44b6-98c4-49f84f617902",
   "metadata": {},
   "source": [
    "* A [3] + B [4]\n",
    "\n",
    "```\n",
    "A            3\n",
    "B            4\n",
    "--------------\n",
    "A + B        X -> Error\n",
    "```"
   ]
  },
  {
   "cell_type": "code",
   "execution_count": null,
   "id": "0e189b8d-5aac-47ea-a4a2-ab7ef4ff9ba1",
   "metadata": {},
   "outputs": [],
   "source": []
  },
  {
   "cell_type": "markdown",
   "id": "abdf4f63-c8a9-4b4d-abba-003a03785107",
   "metadata": {},
   "source": [
    "## Demo 1"
   ]
  },
  {
   "cell_type": "code",
   "execution_count": 34,
   "id": "557542bf-bf30-41cd-acaf-79c47b00abd7",
   "metadata": {},
   "outputs": [],
   "source": [
    "rng = np.random.default_rng(1234)\n",
    "d = rng.normal(loc=[-1,0,1], scale=[1,2,3], size=(1000,3))"
   ]
  },
  {
   "cell_type": "code",
   "execution_count": 35,
   "id": "72b37783-18a3-4c70-b48d-c14824136fb8",
   "metadata": {},
   "outputs": [
    {
     "data": {
      "text/plain": [
       "array([[-2.60383681,  0.12819983,  3.22267389],\n",
       "       [-0.84738081,  1.72748778,  9.73929767],\n",
       "       [-2.47882336,  1.89094595, -3.99840637],\n",
       "       ...,\n",
       "       [-0.70173602, -1.00685694,  4.73479258],\n",
       "       [-2.53070737, -1.61987846, -3.09503767],\n",
       "       [ 0.20192215, -1.36334125, -1.24706282]])"
      ]
     },
     "execution_count": 35,
     "metadata": {},
     "output_type": "execute_result"
    }
   ],
   "source": [
    "d"
   ]
  },
  {
   "cell_type": "code",
   "execution_count": 36,
   "id": "c6840fcc-92c1-4e95-bacd-fa56c62d5438",
   "metadata": {},
   "outputs": [
    {
     "data": {
      "text/plain": [
       "array([-1.0294382 , -0.01396257,  1.01241784])"
      ]
     },
     "execution_count": 36,
     "metadata": {},
     "output_type": "execute_result"
    }
   ],
   "source": [
    "d.mean(axis=0)"
   ]
  },
  {
   "cell_type": "code",
   "execution_count": 39,
   "id": "a27d2919-fac0-43ef-a7bf-396d26488b68",
   "metadata": {},
   "outputs": [
    {
     "data": {
      "text/plain": [
       "array([0.99674719, 2.03222595, 3.10625219])"
      ]
     },
     "execution_count": 39,
     "metadata": {},
     "output_type": "execute_result"
    }
   ],
   "source": [
    "d.std(axis=0)"
   ]
  },
  {
   "cell_type": "code",
   "execution_count": 40,
   "id": "6185b459-4cbe-42a8-a22e-4da19e9d2eed",
   "metadata": {},
   "outputs": [],
   "source": [
    "d_norm = (d - d.mean(axis=0))/d.std(axis=0) "
   ]
  },
  {
   "cell_type": "code",
   "execution_count": 42,
   "id": "cc7b94f4-6ead-4263-98ed-515d7c10a9d4",
   "metadata": {},
   "outputs": [
    {
     "data": {
      "text/plain": [
       "(1000, 3)"
      ]
     },
     "execution_count": 42,
     "metadata": {},
     "output_type": "execute_result"
    }
   ],
   "source": [
    "d_norm.shape"
   ]
  },
  {
   "cell_type": "code",
   "execution_count": 44,
   "id": "1b44fdb7-2c33-4d93-aba0-2abed3603626",
   "metadata": {},
   "outputs": [
    {
     "data": {
      "text/plain": [
       "(array([ 2.35367281e-17,  7.32747196e-18, -1.79078974e-16]),\n",
       " array([1., 1., 1.]))"
      ]
     },
     "execution_count": 44,
     "metadata": {},
     "output_type": "execute_result"
    }
   ],
   "source": [
    "( d_norm.mean(axis=0),\n",
    "  d_norm.std(axis=0) )"
   ]
  },
  {
   "cell_type": "code",
   "execution_count": null,
   "id": "cb45f6bf-7aac-4542-8430-296407f4a5f8",
   "metadata": {},
   "outputs": [],
   "source": []
  }
 ],
 "metadata": {
  "kernelspec": {
   "display_name": "Python 3 (ipykernel)",
   "language": "python",
   "name": "python3"
  },
  "language_info": {
   "codemirror_mode": {
    "name": "ipython",
    "version": 3
   },
   "file_extension": ".py",
   "mimetype": "text/x-python",
   "name": "python",
   "nbconvert_exporter": "python",
   "pygments_lexer": "ipython3",
   "version": "3.10.9"
  }
 },
 "nbformat": 4,
 "nbformat_minor": 5
}
