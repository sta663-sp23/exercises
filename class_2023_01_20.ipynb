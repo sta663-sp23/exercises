{
 "cells": [
  {
   "cell_type": "markdown",
   "id": "0e3560fa-d5ac-420b-ab2d-8bdc8698ea54",
   "metadata": {},
   "source": [
    "# Class demos"
   ]
  },
  {
   "cell_type": "code",
   "execution_count": null,
   "id": "dc0a72d0-c7b4-4151-876e-1e572f71a6c8",
   "metadata": {},
   "outputs": [
    {
     "data": {
      "text/plain": [
       "[(0, 0), (0, 1), (0, 2), (1, 0), (1, 1), (1, 2), (2, 0), (2, 1), (2, 2)]"
      ]
     },
     "execution_count": null,
     "metadata": {},
     "output_type": "execute_result"
    }
   ],
   "source": [
    "[ (x, y) \n",
    "  for x in range(3) \n",
    "  for y in range(3)\n",
    "]"
   ]
  },
  {
   "cell_type": "code",
   "execution_count": null,
   "id": "755d4a89-3c71-4293-b191-304df7d4e137",
   "metadata": {},
   "outputs": [
    {
     "name": "stdout",
     "output_type": "stream",
     "text": [
      "1\n"
     ]
    }
   ],
   "source": [
    "x = print(1)"
   ]
  },
  {
   "cell_type": "code",
   "execution_count": null,
   "id": "68e6487d-79aa-40cb-aa5a-a076b7025886",
   "metadata": {},
   "outputs": [
    {
     "data": {
      "text/plain": [
       "NoneType"
      ]
     },
     "execution_count": null,
     "metadata": {},
     "output_type": "execute_result"
    }
   ],
   "source": [
    "type(x)"
   ]
  },
  {
   "cell_type": "code",
   "execution_count": null,
   "id": "8114da7f-1ef1-4e90-94ca-603b2ae5c2fe",
   "metadata": {},
   "outputs": [
    {
     "data": {
      "text/plain": [
       "(1, 2, 3)"
      ]
     },
     "execution_count": null,
     "metadata": {},
     "output_type": "execute_result"
    }
   ],
   "source": [
    "1,2,3"
   ]
  },
  {
   "cell_type": "code",
   "execution_count": null,
   "id": "e94f88fd-28d1-4021-9fa8-deceaa0d1bc4",
   "metadata": {},
   "outputs": [
    {
     "data": {
      "text/plain": [
       "['__repr__',\n",
       " '__hash__',\n",
       " '__call__',\n",
       " '__getattribute__',\n",
       " '__lt__',\n",
       " '__le__',\n",
       " '__eq__',\n",
       " '__ne__',\n",
       " '__gt__',\n",
       " '__ge__',\n",
       " '__reduce__',\n",
       " '__module__',\n",
       " '__doc__',\n",
       " '__name__',\n",
       " '__qualname__',\n",
       " '__self__',\n",
       " '__text_signature__',\n",
       " '__new__',\n",
       " '__str__',\n",
       " '__setattr__',\n",
       " '__delattr__',\n",
       " '__init__',\n",
       " '__reduce_ex__',\n",
       " '__subclasshook__',\n",
       " '__init_subclass__',\n",
       " '__format__',\n",
       " '__sizeof__',\n",
       " '__dir__',\n",
       " '__class__']"
      ]
     },
     "execution_count": null,
     "metadata": {},
     "output_type": "execute_result"
    }
   ],
   "source": [
    "max.__dir__()"
   ]
  },
  {
   "cell_type": "markdown",
   "id": "e9c0765d-a00d-4e06-8a8b-9b4a1cc735b5",
   "metadata": {},
   "source": [
    "# Exercise 1"
   ]
  },
  {
   "cell_type": "markdown",
   "id": "17931248-99c4-4e58-adb1-c644a756f5d3",
   "metadata": {},
   "source": [
    "* Create a list containing tuples of x and y coordinates of all points of a regular grid for x∈[0,10] and y∈[0,10]\n"
   ]
  },
  {
   "cell_type": "code",
   "execution_count": null,
   "id": "48218018-2cc8-4ed3-83d9-1e74a78057a4",
   "metadata": {},
   "outputs": [],
   "source": [
    "g = [(x,y) for x in range(11) for y in range(11)]"
   ]
  },
  {
   "cell_type": "code",
   "execution_count": null,
   "id": "f9b3d1d6-2dab-4373-9666-1d818aa594df",
   "metadata": {},
   "outputs": [
    {
     "name": "stdout",
     "output_type": "stream",
     "text": [
      "121\n"
     ]
    }
   ],
   "source": [
    "print(len(g))"
   ]
  },
  {
   "cell_type": "markdown",
   "id": "5b75c2a8-74d0-4c55-8b87-ad065311825f",
   "metadata": {},
   "source": [
    "* Count the number of points where y>x"
   ]
  },
  {
   "cell_type": "code",
   "execution_count": null,
   "id": "e02b6067-a89c-4bf1-bc76-99e01c377b2d",
   "metadata": {},
   "outputs": [
    {
     "data": {
      "text/plain": [
       "55"
      ]
     },
     "execution_count": null,
     "metadata": {},
     "output_type": "execute_result"
    }
   ],
   "source": [
    "len([(x,y) for x in range(11) for y in range(11) if y > x])"
   ]
  },
  {
   "cell_type": "code",
   "execution_count": null,
   "id": "a0cebfa6-e8f2-4d11-8bd7-96bd52cd326a",
   "metadata": {},
   "outputs": [
    {
     "data": {
      "text/plain": [
       "55"
      ]
     },
     "execution_count": null,
     "metadata": {},
     "output_type": "execute_result"
    }
   ],
   "source": [
    "len([(x,y) for x,y in g if y > x])"
   ]
  },
  {
   "cell_type": "markdown",
   "id": "868fddd0-e3c6-4175-9b07-a9f8849cdacf",
   "metadata": {},
   "source": [
    "* Count the number of points x or y is prime."
   ]
  },
  {
   "cell_type": "code",
   "execution_count": null,
   "id": "99483269-4c20-40a2-b2fe-e30ec124551b",
   "metadata": {},
   "outputs": [
    {
     "data": {
      "text/plain": [
       "72"
      ]
     },
     "execution_count": null,
     "metadata": {},
     "output_type": "execute_result"
    }
   ],
   "source": [
    "prime = (2,3,5,7)\n",
    "len([(x,y) for x,y in g if x in prime or y in prime])"
   ]
  },
  {
   "cell_type": "code",
   "execution_count": null,
   "id": "163f60e9-cd8c-4f23-b36f-da0143e25a9e",
   "metadata": {},
   "outputs": [
    {
     "data": {
      "text/plain": [
       "72"
      ]
     },
     "execution_count": null,
     "metadata": {},
     "output_type": "execute_result"
    }
   ],
   "source": [
    "len([(x,y) for x in range(11) for y in range(11) if x in prime or y in prime])"
   ]
  },
  {
   "cell_type": "markdown",
   "id": "83b04647-7947-4623-8bba-4076acc50db9",
   "metadata": {},
   "source": [
    "# Exercise 2"
   ]
  },
  {
   "cell_type": "markdown",
   "id": "1059a829-0547-4257-9096-01168ea156cb",
   "metadata": {},
   "source": [
    "* Write a function, kg_to_lb, that converts a list of weights in kilograms to a list of weights in pounds (there a 1 kg = 2.20462 lbs). Include a doc string and function annotations."
   ]
  },
  {
   "cell_type": "code",
   "execution_count": null,
   "id": "d3075b06-916c-453d-b4c2-08b3e1863027",
   "metadata": {},
   "outputs": [
    {
     "data": {
      "text/plain": [
       "[2.20462, 4.40924, 11.0231, 6.613859999999999]"
      ]
     },
     "execution_count": null,
     "metadata": {},
     "output_type": "execute_result"
    }
   ],
   "source": [
    "def kg_to_lb(wt: list) -> list:\n",
    "    \"\"\"Convert weights in kilograms to pounds\"\"\"\n",
    "    \n",
    "    return [x * 2.20462 for x in wt]\n",
    "\n",
    "kg_to_lb([1,2,5,3])"
   ]
  },
  {
   "cell_type": "markdown",
   "id": "e1bcaf85-d7bf-4b33-9f94-6e34bdd1a05a",
   "metadata": {},
   "source": [
    "* Write a second function, total_lb, that calculates the total weight in pounds of an order, the input arguments should be a list of item weights in kilograms and a list of the number of each item ordered."
   ]
  },
  {
   "cell_type": "code",
   "execution_count": null,
   "id": "a8e2c2d2-c698-4545-b5e5-ac7d7fceef34",
   "metadata": {},
   "outputs": [
    {
     "data": {
      "text/plain": [
       "39.68316"
      ]
     },
     "execution_count": null,
     "metadata": {},
     "output_type": "execute_result"
    }
   ],
   "source": [
    "def total_lb(wt: list, n: list) -> list:\n",
    "    \"\"\"Calculate the total weight of an order (in pounds)\n",
    "    given the item weights (in kgs) and the number ordered\n",
    "    \"\"\"\n",
    "    \n",
    "    return sum([x * y * 2.20462 for x,y in zip(wt, n)])\n",
    "\n",
    "total_lb([1,2,5,3], [1,2,2,1])"
   ]
  }
 ],
 "metadata": {
  "kernelspec": {
   "display_name": "Python 3 (ipykernel)",
   "language": "python",
   "name": "python3"
  }
 },
 "nbformat": 4,
 "nbformat_minor": 5
}
