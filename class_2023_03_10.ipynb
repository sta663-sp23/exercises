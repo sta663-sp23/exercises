{
 "cells": [
  {
   "cell_type": "code",
   "execution_count": 1,
   "id": "8a5db4e1-4c14-491d-99dd-5791deca7838",
   "metadata": {
    "tags": []
   },
   "outputs": [],
   "source": [
    "import numpy as np\n",
    "import matplotlib as mpl\n",
    "import matplotlib.pyplot as plt\n",
    "import pandas as pd\n",
    "import seaborn as sns"
   ]
  },
  {
   "cell_type": "code",
   "execution_count": 2,
   "id": "4b5d630c-6aa2-49a1-8b70-fac54f6e0bf1",
   "metadata": {
    "tags": []
   },
   "outputs": [],
   "source": [
    "import sklearn\n",
    "\n",
    "sklearn.set_config(display=\"text\")\n",
    "\n",
    "from sklearn.base import BaseEstimator, TransformerMixin\n",
    "from sklearn.utils.validation import check_X_y, check_is_fitted"
   ]
  },
  {
   "cell_type": "markdown",
   "id": "c032d679-8d7f-45a8-8e46-b8862d79b665",
   "metadata": {},
   "source": [
    "## Interactions"
   ]
  },
  {
   "cell_type": "code",
   "execution_count": 7,
   "id": "7bebfc01-be5d-453f-a2a7-5cfa7e33496a",
   "metadata": {
    "tags": []
   },
   "outputs": [],
   "source": [
    "class interact_features(BaseEstimator, TransformerMixin):\n",
    "    def __init__(self, interaction_only = False, include_intercept = False):\n",
    "        self.interaction_only = interaction_only\n",
    "        self.include_intercept = include_intercept\n",
    "  \n",
    "    def fit(self, X, y=None):\n",
    "        # https://github.com/scikit-learn/scikit-learn/blob/main/sklearn/base.py#L495\n",
    "        self._validate_data(X=X, reset=True, ensure_min_features=2)\n",
    "        self._check_feature_names(X=X, reset=True)\n",
    "\n",
    "        return self\n",
    "  \n",
    "    def transform(self, X, y=None):\n",
    "        check_is_fitted(self, \"n_features_in_\")\n",
    "        \n",
    "        self._validate_data(X=X, reset=False)\n",
    "        self._check_feature_names(X=X, reset=False)\n",
    "        \n",
    "        X = np.array(X)\n",
    "        \n",
    "        new_cols = []\n",
    "        for i in range(self.n_features_in_-1):\n",
    "          for j in range(1, self.n_features_in_):\n",
    "            new_cols.append( X[:,i] * X[:,j] )\n",
    "        \n",
    "        new_X = np.column_stack(new_cols)\n",
    "        \n",
    "        if not self.interaction_only:\n",
    "          new_X = np.column_stack([X, new_X])\n",
    "        \n",
    "        if self.include_intercept:\n",
    "          new_X = np.column_stack([np.ones((new_X.shape[0],1)), new_X])\n",
    "        \n",
    "        \n",
    "        return new_X\n",
    "\n",
    "    def get_feature_names_out(self):\n",
    "        check_is_fitted(self, \"n_features_in_\")\n",
    "        \n",
    "        if not hasattr(self, \"feature_names_in_\"):\n",
    "          feat_names = [\"x\"+str(i) for i in range(self.n_features_in_)]\n",
    "        else:\n",
    "          feat_names = list(self.feature_names_in_)\n",
    "        \n",
    "        new_feat_names = []\n",
    "        for i in range(self.n_features_in_-1):\n",
    "          for j in range(1, self.n_features_in_):\n",
    "            new_feat_names.append( feat_names[i] + \" * \" + feat_names[j] )\n",
    "        \n",
    "        if not self.interaction_only:\n",
    "          new_feat_names = feat_names + new_feat_names\n",
    "          \n",
    "        if self.include_intercept:\n",
    "          new_feat_names = [\"1\"] + new_feat_names\n",
    "        \n",
    "        return new_feat_names"
   ]
  },
  {
   "cell_type": "code",
   "execution_count": 19,
   "id": "0fa9487f-df89-4fbe-aa9f-134711dd4314",
   "metadata": {
    "tags": []
   },
   "outputs": [],
   "source": [
    "X = pd.DataFrame({\"abc\": range(1,6), \"xyz\": range(5, 0, -1)})\n",
    "Y = pd.DataFrame({\"x1\": range(1,6)})\n",
    "Z = np.array(X)"
   ]
  },
  {
   "cell_type": "markdown",
   "id": "0f6a0a65-32cb-49ae-a127-2805b5ddd221",
   "metadata": {},
   "source": [
    "## Example 1"
   ]
  },
  {
   "cell_type": "code",
   "execution_count": 20,
   "id": "c5b8054e-68ef-4825-ba77-a1987a03efec",
   "metadata": {
    "tags": []
   },
   "outputs": [
    {
     "data": {
      "text/html": [
       "<div>\n",
       "<style scoped>\n",
       "    .dataframe tbody tr th:only-of-type {\n",
       "        vertical-align: middle;\n",
       "    }\n",
       "\n",
       "    .dataframe tbody tr th {\n",
       "        vertical-align: top;\n",
       "    }\n",
       "\n",
       "    .dataframe thead th {\n",
       "        text-align: right;\n",
       "    }\n",
       "</style>\n",
       "<table border=\"1\" class=\"dataframe\">\n",
       "  <thead>\n",
       "    <tr style=\"text-align: right;\">\n",
       "      <th></th>\n",
       "      <th>abc</th>\n",
       "      <th>xyz</th>\n",
       "    </tr>\n",
       "  </thead>\n",
       "  <tbody>\n",
       "    <tr>\n",
       "      <th>0</th>\n",
       "      <td>1</td>\n",
       "      <td>5</td>\n",
       "    </tr>\n",
       "    <tr>\n",
       "      <th>1</th>\n",
       "      <td>2</td>\n",
       "      <td>4</td>\n",
       "    </tr>\n",
       "    <tr>\n",
       "      <th>2</th>\n",
       "      <td>3</td>\n",
       "      <td>3</td>\n",
       "    </tr>\n",
       "    <tr>\n",
       "      <th>3</th>\n",
       "      <td>4</td>\n",
       "      <td>2</td>\n",
       "    </tr>\n",
       "    <tr>\n",
       "      <th>4</th>\n",
       "      <td>5</td>\n",
       "      <td>1</td>\n",
       "    </tr>\n",
       "  </tbody>\n",
       "</table>\n",
       "</div>"
      ],
      "text/plain": [
       "   abc  xyz\n",
       "0    1    5\n",
       "1    2    4\n",
       "2    3    3\n",
       "3    4    2\n",
       "4    5    1"
      ]
     },
     "execution_count": 20,
     "metadata": {},
     "output_type": "execute_result"
    }
   ],
   "source": [
    "X"
   ]
  },
  {
   "cell_type": "code",
   "execution_count": 27,
   "id": "2da4dd13-0c77-4bbf-a40f-46a18b50f5e0",
   "metadata": {},
   "outputs": [],
   "source": [
    "it = interact_features(include_intercept=True).fit(X)"
   ]
  },
  {
   "cell_type": "code",
   "execution_count": 28,
   "id": "3236a12b-3805-4759-97fb-dc824cd0dbdf",
   "metadata": {
    "tags": []
   },
   "outputs": [
    {
     "data": {
      "text/plain": [
       "array([[1., 1., 5., 5.],\n",
       "       [1., 2., 4., 8.],\n",
       "       [1., 3., 3., 9.],\n",
       "       [1., 4., 2., 8.],\n",
       "       [1., 5., 1., 5.]])"
      ]
     },
     "execution_count": 28,
     "metadata": {},
     "output_type": "execute_result"
    }
   ],
   "source": [
    "it.transform(X)"
   ]
  },
  {
   "cell_type": "code",
   "execution_count": 29,
   "id": "df0e43a4-1e07-452a-836c-eda042522259",
   "metadata": {
    "tags": []
   },
   "outputs": [
    {
     "data": {
      "text/plain": [
       "['1', 'abc', 'xyz', 'abc * xyz']"
      ]
     },
     "execution_count": 29,
     "metadata": {},
     "output_type": "execute_result"
    }
   ],
   "source": [
    "it.get_feature_names_out()"
   ]
  },
  {
   "cell_type": "markdown",
   "id": "5b6e7271-1a0e-43e2-a332-77b26402566f",
   "metadata": {},
   "source": [
    "## Example 2"
   ]
  },
  {
   "cell_type": "code",
   "execution_count": 17,
   "id": "57c562ea-e76c-43aa-81a0-d28894ffccf9",
   "metadata": {},
   "outputs": [],
   "source": [
    "it = interact_features()"
   ]
  },
  {
   "cell_type": "code",
   "execution_count": 18,
   "id": "2a6a2ab8-c8ac-48db-bac4-c9b2d8fa8954",
   "metadata": {
    "tags": []
   },
   "outputs": [
    {
     "ename": "NotFittedError",
     "evalue": "This interact_features instance is not fitted yet. Call 'fit' with appropriate arguments before using this estimator.",
     "output_type": "error",
     "traceback": [
      "\u001b[0;31m---------------------------------------------------------------------------\u001b[0m",
      "\u001b[0;31mNotFittedError\u001b[0m                            Traceback (most recent call last)",
      "Cell \u001b[0;32mIn[18], line 1\u001b[0m\n\u001b[0;32m----> 1\u001b[0m \u001b[43mit\u001b[49m\u001b[38;5;241;43m.\u001b[39;49m\u001b[43mget_feature_names_out\u001b[49m\u001b[43m(\u001b[49m\u001b[43m)\u001b[49m\n",
      "Cell \u001b[0;32mIn[7], line 38\u001b[0m, in \u001b[0;36minteract_features.get_feature_names_out\u001b[0;34m(self)\u001b[0m\n\u001b[1;32m     37\u001b[0m \u001b[38;5;28;01mdef\u001b[39;00m \u001b[38;5;21mget_feature_names_out\u001b[39m(\u001b[38;5;28mself\u001b[39m):\n\u001b[0;32m---> 38\u001b[0m     \u001b[43mcheck_is_fitted\u001b[49m\u001b[43m(\u001b[49m\u001b[38;5;28;43mself\u001b[39;49m\u001b[43m,\u001b[49m\u001b[43m \u001b[49m\u001b[38;5;124;43m\"\u001b[39;49m\u001b[38;5;124;43mn_features_in_\u001b[39;49m\u001b[38;5;124;43m\"\u001b[39;49m\u001b[43m)\u001b[49m\n\u001b[1;32m     40\u001b[0m     \u001b[38;5;28;01mif\u001b[39;00m \u001b[38;5;129;01mnot\u001b[39;00m \u001b[38;5;28mhasattr\u001b[39m(\u001b[38;5;28mself\u001b[39m, \u001b[38;5;124m\"\u001b[39m\u001b[38;5;124mfeature_names_in_\u001b[39m\u001b[38;5;124m\"\u001b[39m):\n\u001b[1;32m     41\u001b[0m       feat_names \u001b[38;5;241m=\u001b[39m [\u001b[38;5;124m\"\u001b[39m\u001b[38;5;124mx\u001b[39m\u001b[38;5;124m\"\u001b[39m\u001b[38;5;241m+\u001b[39m\u001b[38;5;28mstr\u001b[39m(i) \u001b[38;5;28;01mfor\u001b[39;00m i \u001b[38;5;129;01min\u001b[39;00m \u001b[38;5;28mrange\u001b[39m(\u001b[38;5;28mself\u001b[39m\u001b[38;5;241m.\u001b[39mn_features_in_)]\n",
      "File \u001b[0;32m/usr/local/lib64/python3.10/site-packages/sklearn/utils/validation.py:1390\u001b[0m, in \u001b[0;36mcheck_is_fitted\u001b[0;34m(estimator, attributes, msg, all_or_any)\u001b[0m\n\u001b[1;32m   1385\u001b[0m     fitted \u001b[38;5;241m=\u001b[39m [\n\u001b[1;32m   1386\u001b[0m         v \u001b[38;5;28;01mfor\u001b[39;00m v \u001b[38;5;129;01min\u001b[39;00m \u001b[38;5;28mvars\u001b[39m(estimator) \u001b[38;5;28;01mif\u001b[39;00m v\u001b[38;5;241m.\u001b[39mendswith(\u001b[38;5;124m\"\u001b[39m\u001b[38;5;124m_\u001b[39m\u001b[38;5;124m\"\u001b[39m) \u001b[38;5;129;01mand\u001b[39;00m \u001b[38;5;129;01mnot\u001b[39;00m v\u001b[38;5;241m.\u001b[39mstartswith(\u001b[38;5;124m\"\u001b[39m\u001b[38;5;124m__\u001b[39m\u001b[38;5;124m\"\u001b[39m)\n\u001b[1;32m   1387\u001b[0m     ]\n\u001b[1;32m   1389\u001b[0m \u001b[38;5;28;01mif\u001b[39;00m \u001b[38;5;129;01mnot\u001b[39;00m fitted:\n\u001b[0;32m-> 1390\u001b[0m     \u001b[38;5;28;01mraise\u001b[39;00m NotFittedError(msg \u001b[38;5;241m%\u001b[39m {\u001b[38;5;124m\"\u001b[39m\u001b[38;5;124mname\u001b[39m\u001b[38;5;124m\"\u001b[39m: \u001b[38;5;28mtype\u001b[39m(estimator)\u001b[38;5;241m.\u001b[39m\u001b[38;5;18m__name__\u001b[39m})\n",
      "\u001b[0;31mNotFittedError\u001b[0m: This interact_features instance is not fitted yet. Call 'fit' with appropriate arguments before using this estimator."
     ]
    }
   ],
   "source": [
    "it.get_feature_names_out()"
   ]
  },
  {
   "cell_type": "markdown",
   "id": "a51b705f-d1ff-48d1-93a7-6669017a4552",
   "metadata": {},
   "source": [
    "## Example 3"
   ]
  },
  {
   "cell_type": "code",
   "execution_count": 24,
   "id": "b35e3eda-ae2f-44e6-abc2-42d5ebbb207e",
   "metadata": {},
   "outputs": [],
   "source": [
    "it = interact_features().fit(Z)"
   ]
  },
  {
   "cell_type": "code",
   "execution_count": 25,
   "id": "a26102ab-b4b1-4b8f-95bd-472a1ffd3aaa",
   "metadata": {
    "tags": []
   },
   "outputs": [
    {
     "data": {
      "text/plain": [
       "array([[1, 5, 5],\n",
       "       [2, 4, 8],\n",
       "       [3, 3, 9],\n",
       "       [4, 2, 8],\n",
       "       [5, 1, 5]])"
      ]
     },
     "execution_count": 25,
     "metadata": {},
     "output_type": "execute_result"
    }
   ],
   "source": [
    "it.transform(Z)"
   ]
  },
  {
   "cell_type": "code",
   "execution_count": 26,
   "id": "f2f98f19-4d50-41b0-8609-afdf6beff54d",
   "metadata": {
    "tags": []
   },
   "outputs": [
    {
     "data": {
      "text/plain": [
       "['x0', 'x1', 'x0 * x1']"
      ]
     },
     "execution_count": 26,
     "metadata": {},
     "output_type": "execute_result"
    }
   ],
   "source": [
    "it.get_feature_names_out()"
   ]
  },
  {
   "cell_type": "code",
   "execution_count": 30,
   "id": "3a1b8b7c-33c0-4960-982c-a189b0ca163d",
   "metadata": {
    "tags": []
   },
   "outputs": [
    {
     "data": {
      "text/plain": [
       "\u001b[0;31mSignature:\u001b[0m\n",
       "\u001b[0msklearn\u001b[0m\u001b[0;34m.\u001b[0m\u001b[0mbase\u001b[0m\u001b[0;34m.\u001b[0m\u001b[0mBaseEstimator\u001b[0m\u001b[0;34m.\u001b[0m\u001b[0m_validate_data\u001b[0m\u001b[0;34m(\u001b[0m\u001b[0;34m\u001b[0m\n",
       "\u001b[0;34m\u001b[0m    \u001b[0mself\u001b[0m\u001b[0;34m,\u001b[0m\u001b[0;34m\u001b[0m\n",
       "\u001b[0;34m\u001b[0m    \u001b[0mX\u001b[0m\u001b[0;34m=\u001b[0m\u001b[0;34m'no_validation'\u001b[0m\u001b[0;34m,\u001b[0m\u001b[0;34m\u001b[0m\n",
       "\u001b[0;34m\u001b[0m    \u001b[0my\u001b[0m\u001b[0;34m=\u001b[0m\u001b[0;34m'no_validation'\u001b[0m\u001b[0;34m,\u001b[0m\u001b[0;34m\u001b[0m\n",
       "\u001b[0;34m\u001b[0m    \u001b[0mreset\u001b[0m\u001b[0;34m=\u001b[0m\u001b[0;32mTrue\u001b[0m\u001b[0;34m,\u001b[0m\u001b[0;34m\u001b[0m\n",
       "\u001b[0;34m\u001b[0m    \u001b[0mvalidate_separately\u001b[0m\u001b[0;34m=\u001b[0m\u001b[0;32mFalse\u001b[0m\u001b[0;34m,\u001b[0m\u001b[0;34m\u001b[0m\n",
       "\u001b[0;34m\u001b[0m    \u001b[0;34m**\u001b[0m\u001b[0mcheck_params\u001b[0m\u001b[0;34m,\u001b[0m\u001b[0;34m\u001b[0m\n",
       "\u001b[0;34m\u001b[0m\u001b[0;34m)\u001b[0m\u001b[0;34m\u001b[0m\u001b[0;34m\u001b[0m\u001b[0m\n",
       "\u001b[0;31mDocstring:\u001b[0m\n",
       "Validate input data and set or check the `n_features_in_` attribute.\n",
       "\n",
       "Parameters\n",
       "----------\n",
       "X : {array-like, sparse matrix, dataframe} of shape                 (n_samples, n_features), default='no validation'\n",
       "    The input samples.\n",
       "    If `'no_validation'`, no validation is performed on `X`. This is\n",
       "    useful for meta-estimator which can delegate input validation to\n",
       "    their underlying estimator(s). In that case `y` must be passed and\n",
       "    the only accepted `check_params` are `multi_output` and\n",
       "    `y_numeric`.\n",
       "\n",
       "y : array-like of shape (n_samples,), default='no_validation'\n",
       "    The targets.\n",
       "\n",
       "    - If `None`, `check_array` is called on `X`. If the estimator's\n",
       "      requires_y tag is True, then an error will be raised.\n",
       "    - If `'no_validation'`, `check_array` is called on `X` and the\n",
       "      estimator's requires_y tag is ignored. This is a default\n",
       "      placeholder and is never meant to be explicitly set. In that case\n",
       "      `X` must be passed.\n",
       "    - Otherwise, only `y` with `_check_y` or both `X` and `y` are\n",
       "      checked with either `check_array` or `check_X_y` depending on\n",
       "      `validate_separately`.\n",
       "\n",
       "reset : bool, default=True\n",
       "    Whether to reset the `n_features_in_` attribute.\n",
       "    If False, the input will be checked for consistency with data\n",
       "    provided when reset was last True.\n",
       "    .. note::\n",
       "       It is recommended to call reset=True in `fit` and in the first\n",
       "       call to `partial_fit`. All other methods that validate `X`\n",
       "       should set `reset=False`.\n",
       "\n",
       "validate_separately : False or tuple of dicts, default=False\n",
       "    Only used if y is not None.\n",
       "    If False, call validate_X_y(). Else, it must be a tuple of kwargs\n",
       "    to be used for calling check_array() on X and y respectively.\n",
       "\n",
       "    `estimator=self` is automatically added to these dicts to generate\n",
       "    more informative error message in case of invalid input data.\n",
       "\n",
       "**check_params : kwargs\n",
       "    Parameters passed to :func:`sklearn.utils.check_array` or\n",
       "    :func:`sklearn.utils.check_X_y`. Ignored if validate_separately\n",
       "    is not False.\n",
       "\n",
       "    `estimator=self` is automatically added to these params to generate\n",
       "    more informative error message in case of invalid input data.\n",
       "\n",
       "Returns\n",
       "-------\n",
       "out : {ndarray, sparse matrix} or tuple of these\n",
       "    The validated input. A tuple is returned if both `X` and `y` are\n",
       "    validated.\n",
       "\u001b[0;31mFile:\u001b[0m      /usr/local/lib64/python3.10/site-packages/sklearn/base.py\n",
       "\u001b[0;31mType:\u001b[0m      function"
      ]
     },
     "metadata": {},
     "output_type": "display_data"
    }
   ],
   "source": [
    "?sklearn.base.BaseEstimator._validate_data"
   ]
  },
  {
   "cell_type": "code",
   "execution_count": null,
   "id": "69928c88-36cd-4c2b-9825-118b3afbaaa6",
   "metadata": {},
   "outputs": [],
   "source": []
  }
 ],
 "metadata": {
  "kernelspec": {
   "display_name": "Python 3 (ipykernel)",
   "language": "python",
   "name": "python3"
  },
  "language_info": {
   "codemirror_mode": {
    "name": "ipython",
    "version": 3
   },
   "file_extension": ".py",
   "mimetype": "text/x-python",
   "name": "python",
   "nbconvert_exporter": "python",
   "pygments_lexer": "ipython3",
   "version": "3.10.10"
  }
 },
 "nbformat": 4,
 "nbformat_minor": 5
}
