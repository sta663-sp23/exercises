{
 "cells": [
  {
   "cell_type": "code",
   "execution_count": 1,
   "id": "8a5db4e1-4c14-491d-99dd-5791deca7838",
   "metadata": {
    "tags": []
   },
   "outputs": [],
   "source": [
    "import numpy as np\n",
    "import matplotlib as mpl\n",
    "import matplotlib.pyplot as plt\n",
    "import pandas as pd\n",
    "import seaborn as sns"
   ]
  },
  {
   "cell_type": "code",
   "execution_count": 2,
   "id": "4b5d630c-6aa2-49a1-8b70-fac54f6e0bf1",
   "metadata": {
    "tags": []
   },
   "outputs": [],
   "source": [
    "import sklearn\n",
    "\n",
    "sklearn.set_config(display=\"text\")\n",
    "\n",
    "from sklearn.base import BaseEstimator, TransformerMixin\n",
    "from sklearn.utils.validation import check_X_y, check_is_fitted"
   ]
  },
  {
   "cell_type": "markdown",
   "id": "c032d679-8d7f-45a8-8e46-b8862d79b665",
   "metadata": {},
   "source": [
    "## Interactions"
   ]
  },
  {
   "cell_type": "code",
   "execution_count": 14,
   "id": "7bebfc01-be5d-453f-a2a7-5cfa7e33496a",
   "metadata": {
    "tags": []
   },
   "outputs": [],
   "source": [
    "class interact_features(BaseEstimator, TransformerMixin):\n",
    "  def __init__(self, interaction_only = False, include_intercept = False):\n",
    "    self.interaction_only = interaction_only\n",
    "    self.include_intercept = include_intercept\n",
    "  \n",
    "  def fit(self, X, y=None):\n",
    "    # https://github.com/scikit-learn/scikit-learn/blob/main/sklearn/base.py#L495\n",
    "    self._validate_data(X=X, reset=True, ensure_min_features=2)\n",
    "    self._check_feature_names(X=X, reset=True)\n",
    "\n",
    "    return self\n",
    "  \n",
    "  def transform(self, X, y=None):\n",
    "    check_is_fitted(self, \"n_features_in_\")\n",
    "    \n",
    "    self._validate_data(X=X, reset=False)\n",
    "    self._check_feature_names(X=X, reset=False)\n",
    "    \n",
    "    X = np.array(X)\n",
    "    \n",
    "    new_cols = []\n",
    "    for i in range(self.n_features_in_-1):\n",
    "      for j in range(1, self.n_features_in_):\n",
    "        new_cols.append( X[:,i] * X[:,j] )\n",
    "\n",
    "    new_X = np.column_stack(new_cols)\n",
    "    \n",
    "    if not self.interaction_only:\n",
    "      new_X = np.column_stack([X, new_X])\n",
    "\n",
    "    if self.include_intercept:\n",
    "      new_X = np.column_stack([np.ones((new_X.shape[0],1)), new_X])\n",
    "\n",
    "    \n",
    "    return new_X\n",
    "\n",
    "  def get_feature_names_out(self):\n",
    "    check_is_fitted(self, \"n_features_in_\")\n",
    "    \n",
    "    if not hasattr(self, \"feature_names_in_\"):\n",
    "      feat_names = [\"x\"+str(i) for i in range(self.n_features_in_)]\n",
    "    else:\n",
    "      feat_names = list(self.feature_names_in_)\n",
    "    \n",
    "    new_feat_names = []\n",
    "    for i in range(self.n_features_in_-1):\n",
    "      for j in range(1, self.n_features_in_):\n",
    "        new_feat_names.append( feat_names[i] + \" * \" + feat_names[j] )\n",
    "    \n",
    "    if not self.interaction_only:\n",
    "      new_feat_names = feat_names + new_feat_names\n",
    "      \n",
    "    if self.include_intercept:\n",
    "      new_feat_names = [\"1\"] + new_feat_names\n",
    "    \n",
    "    return new_feat_names"
   ]
  },
  {
   "cell_type": "code",
   "execution_count": 15,
   "id": "0fa9487f-df89-4fbe-aa9f-134711dd4314",
   "metadata": {
    "tags": []
   },
   "outputs": [],
   "source": [
    "X = pd.DataFrame({\"x1\": range(1,6), \"x2\": range(5, 0, -1)})\n",
    "Y = pd.DataFrame({\"x1\": range(1,6)})\n",
    "Z = np.array(X)"
   ]
  },
  {
   "cell_type": "code",
   "execution_count": 16,
   "id": "7f569121-eeec-461a-8af6-d549b3075310",
   "metadata": {
    "tags": []
   },
   "outputs": [],
   "source": [
    "itf = interact_features().fit(X)"
   ]
  },
  {
   "cell_type": "markdown",
   "id": "0f6a0a65-32cb-49ae-a127-2805b5ddd221",
   "metadata": {},
   "source": [
    "## Example 1"
   ]
  },
  {
   "cell_type": "code",
   "execution_count": null,
   "id": "2da4dd13-0c77-4bbf-a40f-46a18b50f5e0",
   "metadata": {},
   "outputs": [],
   "source": []
  },
  {
   "cell_type": "markdown",
   "id": "5b6e7271-1a0e-43e2-a332-77b26402566f",
   "metadata": {},
   "source": [
    "## Example 2"
   ]
  },
  {
   "cell_type": "code",
   "execution_count": null,
   "id": "57c562ea-e76c-43aa-81a0-d28894ffccf9",
   "metadata": {},
   "outputs": [],
   "source": []
  },
  {
   "cell_type": "markdown",
   "id": "a51b705f-d1ff-48d1-93a7-6669017a4552",
   "metadata": {},
   "source": [
    "## Example 3"
   ]
  },
  {
   "cell_type": "code",
   "execution_count": null,
   "id": "c0722fa1-c318-4721-800c-4aed38bc25fe",
   "metadata": {},
   "outputs": [],
   "source": []
  }
 ],
 "metadata": {
  "kernelspec": {
   "display_name": "Python 3 (ipykernel)",
   "language": "python",
   "name": "python3"
  },
  "language_info": {
   "codemirror_mode": {
    "name": "ipython",
    "version": 3
   },
   "file_extension": ".py",
   "mimetype": "text/x-python",
   "name": "python",
   "nbconvert_exporter": "python",
   "pygments_lexer": "ipython3",
   "version": "3.10.10"
  }
 },
 "nbformat": 4,
 "nbformat_minor": 5
}
