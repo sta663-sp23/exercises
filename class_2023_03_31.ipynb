{
 "cells": [
  {
   "cell_type": "markdown",
   "id": "32ce8fc3-4e3e-4f02-a27d-b4bc37f2f9f7",
   "metadata": {},
   "source": [
    "## Setup"
   ]
  },
  {
   "cell_type": "code",
   "execution_count": null,
   "id": "be6a9c39-9cea-4bb1-af20-8b7be781db03",
   "metadata": {},
   "outputs": [],
   "source": [
    "import numpy as np\n",
    "import pandas as pd\n",
    "import seaborn as sns\n",
    "\n",
    "import pyarrow as pa\n",
    "import polars as pl\n",
    "\n",
    "import os"
   ]
  },
  {
   "cell_type": "markdown",
   "id": "20a2fb8c-46d9-49d1-a467-582e8715a878",
   "metadata": {},
   "source": [
    "## Data\n",
    "\n",
    "These data come from NYC Open Data - specifically the parquet files can be obtained from [toddwschneider/nyc-taxi-data](https://github.com/toddwschneider/nyc-taxi-data) on GitHub. Then urls for the specific files can be found [here](https://github.com/toddwschneider/nyc-taxi-data/blob/master/setup_files/raw_data_urls.txt)."
   ]
  },
  {
   "cell_type": "code",
   "execution_count": null,
   "id": "615657bd-bf46-4c9d-b03b-d73bc4afa28e",
   "metadata": {},
   "outputs": [],
   "source": [
    "#os.listdir(os.path.expanduser(\"~/Scratch/nyc_taxi/\"))"
   ]
  },
  {
   "cell_type": "code",
   "execution_count": null,
   "id": "99835f9b-238f-4997-992d-f5472470a352",
   "metadata": {},
   "outputs": [
    {
     "data": {
      "text/html": [
       "<div><style>\n",
       ".dataframe > thead > tr > th,\n",
       ".dataframe > tbody > tr > td {\n",
       "  text-align: right;\n",
       "}\n",
       "</style>\n",
       "<small>shape: (36256549, 19)</small><table border=\"1\" class=\"dataframe\"><thead><tr><th>VendorID</th><th>tpep_pickup_datetime</th><th>tpep_dropoff_datetime</th><th>passenger_count</th><th>trip_distance</th><th>RatecodeID</th><th>store_and_fwd_flag</th><th>PULocationID</th><th>DOLocationID</th><th>payment_type</th><th>fare_amount</th><th>extra</th><th>mta_tax</th><th>tip_amount</th><th>tolls_amount</th><th>improvement_surcharge</th><th>total_amount</th><th>congestion_surcharge</th><th>airport_fee</th></tr><tr><td>i64</td><td>datetime[ns]</td><td>datetime[ns]</td><td>f64</td><td>f64</td><td>f64</td><td>str</td><td>i64</td><td>i64</td><td>i64</td><td>f64</td><td>f64</td><td>f64</td><td>f64</td><td>f64</td><td>f64</td><td>f64</td><td>f64</td><td>f64</td></tr></thead><tbody><tr><td>1</td><td>2022-01-01 00:35:40</td><td>2022-01-01 00:53:29</td><td>2.0</td><td>3.8</td><td>1.0</td><td>&quot;N&quot;</td><td>142</td><td>236</td><td>1</td><td>14.5</td><td>3.0</td><td>0.5</td><td>3.65</td><td>0.0</td><td>0.3</td><td>21.95</td><td>2.5</td><td>0.0</td></tr><tr><td>1</td><td>2022-01-01 00:33:43</td><td>2022-01-01 00:42:07</td><td>1.0</td><td>2.1</td><td>1.0</td><td>&quot;N&quot;</td><td>236</td><td>42</td><td>1</td><td>8.0</td><td>0.5</td><td>0.5</td><td>4.0</td><td>0.0</td><td>0.3</td><td>13.3</td><td>0.0</td><td>0.0</td></tr><tr><td>2</td><td>2022-01-01 00:53:21</td><td>2022-01-01 01:02:19</td><td>1.0</td><td>0.97</td><td>1.0</td><td>&quot;N&quot;</td><td>166</td><td>166</td><td>1</td><td>7.5</td><td>0.5</td><td>0.5</td><td>1.76</td><td>0.0</td><td>0.3</td><td>10.56</td><td>0.0</td><td>0.0</td></tr><tr><td>2</td><td>2022-01-01 00:25:21</td><td>2022-01-01 00:35:23</td><td>1.0</td><td>1.09</td><td>1.0</td><td>&quot;N&quot;</td><td>114</td><td>68</td><td>2</td><td>8.0</td><td>0.5</td><td>0.5</td><td>0.0</td><td>0.0</td><td>0.3</td><td>11.8</td><td>2.5</td><td>0.0</td></tr><tr><td>2</td><td>2022-01-01 00:36:48</td><td>2022-01-01 01:14:20</td><td>1.0</td><td>4.3</td><td>1.0</td><td>&quot;N&quot;</td><td>68</td><td>163</td><td>1</td><td>23.5</td><td>0.5</td><td>0.5</td><td>3.0</td><td>0.0</td><td>0.3</td><td>30.3</td><td>2.5</td><td>0.0</td></tr><tr><td>1</td><td>2022-01-01 00:40:15</td><td>2022-01-01 01:09:48</td><td>1.0</td><td>10.3</td><td>1.0</td><td>&quot;N&quot;</td><td>138</td><td>161</td><td>1</td><td>33.0</td><td>3.0</td><td>0.5</td><td>13.0</td><td>6.55</td><td>0.3</td><td>56.35</td><td>2.5</td><td>0.0</td></tr><tr><td>2</td><td>2022-01-01 00:20:50</td><td>2022-01-01 00:34:58</td><td>1.0</td><td>5.07</td><td>1.0</td><td>&quot;N&quot;</td><td>233</td><td>87</td><td>1</td><td>17.0</td><td>0.5</td><td>0.5</td><td>5.2</td><td>0.0</td><td>0.3</td><td>26.0</td><td>2.5</td><td>0.0</td></tr><tr><td>2</td><td>2022-01-01 00:13:04</td><td>2022-01-01 00:22:45</td><td>1.0</td><td>2.02</td><td>1.0</td><td>&quot;N&quot;</td><td>238</td><td>152</td><td>2</td><td>9.0</td><td>0.5</td><td>0.5</td><td>0.0</td><td>0.0</td><td>0.3</td><td>12.8</td><td>2.5</td><td>0.0</td></tr><tr><td>2</td><td>2022-01-01 00:30:02</td><td>2022-01-01 00:44:49</td><td>1.0</td><td>2.71</td><td>1.0</td><td>&quot;N&quot;</td><td>166</td><td>236</td><td>1</td><td>12.0</td><td>0.5</td><td>0.5</td><td>2.25</td><td>0.0</td><td>0.3</td><td>18.05</td><td>2.5</td><td>0.0</td></tr><tr><td>2</td><td>2022-01-01 00:48:52</td><td>2022-01-01 00:53:28</td><td>1.0</td><td>0.78</td><td>1.0</td><td>&quot;N&quot;</td><td>236</td><td>141</td><td>2</td><td>5.0</td><td>0.5</td><td>0.5</td><td>0.0</td><td>0.0</td><td>0.3</td><td>8.8</td><td>2.5</td><td>0.0</td></tr><tr><td>2</td><td>2022-01-01 00:55:03</td><td>2022-01-01 01:04:25</td><td>1.0</td><td>1.91</td><td>1.0</td><td>&quot;N&quot;</td><td>141</td><td>229</td><td>2</td><td>8.5</td><td>0.5</td><td>0.5</td><td>0.0</td><td>0.0</td><td>0.3</td><td>12.3</td><td>2.5</td><td>0.0</td></tr><tr><td>2</td><td>2022-01-01 00:31:06</td><td>2022-01-01 00:34:14</td><td>3.0</td><td>0.82</td><td>1.0</td><td>&quot;N&quot;</td><td>114</td><td>90</td><td>2</td><td>4.5</td><td>0.5</td><td>0.5</td><td>0.0</td><td>0.0</td><td>0.3</td><td>8.3</td><td>2.5</td><td>0.0</td></tr><tr><td>&hellip;</td><td>&hellip;</td><td>&hellip;</td><td>&hellip;</td><td>&hellip;</td><td>&hellip;</td><td>&hellip;</td><td>&hellip;</td><td>&hellip;</td><td>&hellip;</td><td>&hellip;</td><td>&hellip;</td><td>&hellip;</td><td>&hellip;</td><td>&hellip;</td><td>&hellip;</td><td>&hellip;</td><td>&hellip;</td><td>&hellip;</td></tr><tr><td>2</td><td>2022-11-30 23:22:21</td><td>2022-11-30 23:53:49</td><td>null</td><td>6.44</td><td>null</td><td>null</td><td>113</td><td>61</td><td>0</td><td>25.91</td><td>0.0</td><td>0.5</td><td>5.84</td><td>0.0</td><td>0.3</td><td>35.05</td><td>null</td><td>null</td></tr><tr><td>2</td><td>2022-11-30 23:30:00</td><td>2022-11-30 23:53:00</td><td>null</td><td>4.21</td><td>null</td><td>null</td><td>230</td><td>148</td><td>0</td><td>24.47</td><td>0.0</td><td>0.5</td><td>5.61</td><td>0.0</td><td>0.3</td><td>33.38</td><td>null</td><td>null</td></tr><tr><td>2</td><td>2022-11-30 23:15:12</td><td>2022-11-30 23:36:00</td><td>null</td><td>6.48</td><td>null</td><td>null</td><td>68</td><td>166</td><td>0</td><td>25.88</td><td>0.0</td><td>0.5</td><td>0.0</td><td>0.0</td><td>0.3</td><td>29.18</td><td>null</td><td>null</td></tr><tr><td>2</td><td>2022-11-30 23:40:17</td><td>2022-11-30 23:43:50</td><td>null</td><td>0.65</td><td>null</td><td>null</td><td>166</td><td>151</td><td>0</td><td>12.33</td><td>0.0</td><td>0.5</td><td>2.63</td><td>0.0</td><td>0.3</td><td>15.76</td><td>null</td><td>null</td></tr><tr><td>2</td><td>2022-11-30 23:21:00</td><td>2022-11-30 23:44:00</td><td>null</td><td>4.48</td><td>null</td><td>null</td><td>255</td><td>61</td><td>0</td><td>23.87</td><td>0.0</td><td>0.5</td><td>4.93</td><td>0.0</td><td>0.3</td><td>29.6</td><td>null</td><td>null</td></tr><tr><td>1</td><td>2022-11-30 23:22:40</td><td>2022-11-30 23:40:51</td><td>null</td><td>0.0</td><td>null</td><td>null</td><td>224</td><td>50</td><td>0</td><td>20.22</td><td>0.0</td><td>0.5</td><td>0.0</td><td>0.0</td><td>0.3</td><td>23.52</td><td>null</td><td>null</td></tr><tr><td>1</td><td>2022-11-30 23:58:12</td><td>2022-12-01 00:26:28</td><td>null</td><td>0.0</td><td>null</td><td>null</td><td>144</td><td>116</td><td>0</td><td>33.79</td><td>0.0</td><td>0.5</td><td>0.0</td><td>0.0</td><td>0.3</td><td>37.09</td><td>null</td><td>null</td></tr><tr><td>1</td><td>2022-11-30 23:17:09</td><td>2022-11-30 23:27:15</td><td>null</td><td>0.0</td><td>null</td><td>null</td><td>144</td><td>249</td><td>0</td><td>13.46</td><td>0.0</td><td>0.5</td><td>0.0</td><td>0.0</td><td>0.3</td><td>16.76</td><td>null</td><td>null</td></tr><tr><td>2</td><td>2022-11-30 23:48:48</td><td>2022-12-01 00:05:48</td><td>null</td><td>4.1</td><td>null</td><td>null</td><td>45</td><td>106</td><td>0</td><td>13.59</td><td>0.0</td><td>0.5</td><td>2.0</td><td>0.0</td><td>0.3</td><td>18.89</td><td>null</td><td>null</td></tr><tr><td>1</td><td>2022-11-30 23:04:36</td><td>2022-11-30 23:13:39</td><td>null</td><td>1.4</td><td>null</td><td>null</td><td>163</td><td>141</td><td>0</td><td>8.0</td><td>0.5</td><td>0.5</td><td>1.18</td><td>0.0</td><td>0.3</td><td>12.98</td><td>null</td><td>null</td></tr><tr><td>1</td><td>2022-11-30 23:18:37</td><td>2022-11-30 23:30:48</td><td>null</td><td>2.5</td><td>null</td><td>null</td><td>161</td><td>143</td><td>0</td><td>10.5</td><td>0.5</td><td>0.5</td><td>2.15</td><td>0.0</td><td>0.3</td><td>16.45</td><td>null</td><td>null</td></tr><tr><td>1</td><td>2022-11-30 23:30:50</td><td>2022-11-30 23:51:14</td><td>null</td><td>0.0</td><td>null</td><td>null</td><td>74</td><td>232</td><td>0</td><td>24.97</td><td>0.0</td><td>0.5</td><td>0.0</td><td>0.0</td><td>0.3</td><td>28.27</td><td>null</td><td>null</td></tr></tbody></table></div>"
      ],
      "text/plain": [
       "shape: (36256549, 19)\n",
       "┌──────────┬────────────┬────────────┬────────────┬───┬────────────┬────────────┬────────────┬───────────┐\n",
       "│ VendorID ┆ tpep_picku ┆ tpep_dropo ┆ passenger_ ┆ … ┆ improvemen ┆ total_amou ┆ congestion ┆ airport_f │\n",
       "│ ---      ┆ p_datetime ┆ ff_datetim ┆ count      ┆   ┆ t_surcharg ┆ nt         ┆ _surcharge ┆ ee        │\n",
       "│ i64      ┆ ---        ┆ e          ┆ ---        ┆   ┆ e          ┆ ---        ┆ ---        ┆ ---       │\n",
       "│          ┆ datetime[n ┆ ---        ┆ f64        ┆   ┆ ---        ┆ f64        ┆ f64        ┆ f64       │\n",
       "│          ┆ s]         ┆ datetime[n ┆            ┆   ┆ f64        ┆            ┆            ┆           │\n",
       "│          ┆            ┆ s]         ┆            ┆   ┆            ┆            ┆            ┆           │\n",
       "╞══════════╪════════════╪════════════╪════════════╪═══╪════════════╪════════════╪════════════╪═══════════╡\n",
       "│ 1        ┆ 2022-01-01 ┆ 2022-01-01 ┆ 2.0        ┆ … ┆ 0.3        ┆ 21.95      ┆ 2.5        ┆ 0.0       │\n",
       "│          ┆ 00:35:40   ┆ 00:53:29   ┆            ┆   ┆            ┆            ┆            ┆           │\n",
       "│ 1        ┆ 2022-01-01 ┆ 2022-01-01 ┆ 1.0        ┆ … ┆ 0.3        ┆ 13.3       ┆ 0.0        ┆ 0.0       │\n",
       "│          ┆ 00:33:43   ┆ 00:42:07   ┆            ┆   ┆            ┆            ┆            ┆           │\n",
       "│ 2        ┆ 2022-01-01 ┆ 2022-01-01 ┆ 1.0        ┆ … ┆ 0.3        ┆ 10.56      ┆ 0.0        ┆ 0.0       │\n",
       "│          ┆ 00:53:21   ┆ 01:02:19   ┆            ┆   ┆            ┆            ┆            ┆           │\n",
       "│ 2        ┆ 2022-01-01 ┆ 2022-01-01 ┆ 1.0        ┆ … ┆ 0.3        ┆ 11.8       ┆ 2.5        ┆ 0.0       │\n",
       "│          ┆ 00:25:21   ┆ 00:35:23   ┆            ┆   ┆            ┆            ┆            ┆           │\n",
       "│ …        ┆ …          ┆ …          ┆ …          ┆ … ┆ …          ┆ …          ┆ …          ┆ …         │\n",
       "│ 2        ┆ 2022-11-30 ┆ 2022-12-01 ┆ null       ┆ … ┆ 0.3        ┆ 18.89      ┆ null       ┆ null      │\n",
       "│          ┆ 23:48:48   ┆ 00:05:48   ┆            ┆   ┆            ┆            ┆            ┆           │\n",
       "│ 1        ┆ 2022-11-30 ┆ 2022-11-30 ┆ null       ┆ … ┆ 0.3        ┆ 12.98      ┆ null       ┆ null      │\n",
       "│          ┆ 23:04:36   ┆ 23:13:39   ┆            ┆   ┆            ┆            ┆            ┆           │\n",
       "│ 1        ┆ 2022-11-30 ┆ 2022-11-30 ┆ null       ┆ … ┆ 0.3        ┆ 16.45      ┆ null       ┆ null      │\n",
       "│          ┆ 23:18:37   ┆ 23:30:48   ┆            ┆   ┆            ┆            ┆            ┆           │\n",
       "│ 1        ┆ 2022-11-30 ┆ 2022-11-30 ┆ null       ┆ … ┆ 0.3        ┆ 28.27      ┆ null       ┆ null      │\n",
       "│          ┆ 23:30:50   ┆ 23:51:14   ┆            ┆   ┆            ┆            ┆            ┆           │\n",
       "└──────────┴────────────┴────────────┴────────────┴───┴────────────┴────────────┴────────────┴───────────┘"
      ]
     },
     "execution_count": null,
     "metadata": {},
     "output_type": "execute_result"
    }
   ],
   "source": [
    "df_eager = pl.read_parquet(\"~/Scratch/nyc_taxi/yellow_tripdata_2022-*.parquet\")\n",
    "df_eager"
   ]
  },
  {
   "cell_type": "markdown",
   "id": "b553a470-7977-4395-80a7-100af2dc478f",
   "metadata": {},
   "source": [
    "## Demo"
   ]
  },
  {
   "cell_type": "code",
   "execution_count": null,
   "id": "0f0e931d-0aa8-4d3a-b00e-dd0b0d5bf02d",
   "metadata": {},
   "outputs": [],
   "source": [
    "df_eager.select([\n",
    "      \"tpep_pickup_datetime\", \"tip_amount\", \"fare_amount\", \"total_amount\"\n",
    "    ])"
   ]
  },
  {
   "cell_type": "code",
   "execution_count": null,
   "id": "fffdc762-9990-457c-be1f-2eb04e7aa6ff",
   "metadata": {},
   "outputs": [
    {
     "data": {
      "text/html": [
       "<div><style>\n",
       ".dataframe > thead > tr > th,\n",
       ".dataframe > tbody > tr > td {\n",
       "  text-align: right;\n",
       "}\n",
       "</style>\n",
       "<small>shape: (27513713, 5)</small><table border=\"1\" class=\"dataframe\"><thead><tr><th>tpep_pickup_datetime</th><th>tip_amount</th><th>fare_amount</th><th>total_amount</th><th>tip_perc</th></tr><tr><td>datetime[ns]</td><td>f64</td><td>f64</td><td>f64</td><td>f64</td></tr></thead><tbody><tr><td>2022-02-05 07:49:26</td><td>0.01</td><td>500.0</td><td>500.31</td><td>0.00002</td></tr><tr><td>2022-11-09 21:51:13</td><td>0.01</td><td>496.0</td><td>496.31</td><td>0.00002</td></tr><tr><td>2022-11-06 22:13:30</td><td>0.01</td><td>495.0</td><td>495.31</td><td>0.00002</td></tr><tr><td>2022-11-02 22:09:46</td><td>0.01</td><td>490.0</td><td>490.31</td><td>0.00002</td></tr><tr><td>2022-11-11 23:32:51</td><td>0.01</td><td>490.0</td><td>490.31</td><td>0.00002</td></tr><tr><td>2022-11-04 22:08:54</td><td>0.01</td><td>487.0</td><td>489.81</td><td>0.00002</td></tr><tr><td>2022-08-19 14:56:34</td><td>0.01</td><td>450.0</td><td>466.56</td><td>0.000021</td></tr><tr><td>2022-07-05 14:53:07</td><td>0.01</td><td>400.0</td><td>400.31</td><td>0.000025</td></tr><tr><td>2022-07-08 15:57:56</td><td>0.01</td><td>350.0</td><td>352.06</td><td>0.000028</td></tr><tr><td>2022-09-28 17:46:30</td><td>0.01</td><td>350.0</td><td>350.31</td><td>0.000029</td></tr><tr><td>2022-06-07 21:39:50</td><td>0.01</td><td>310.0</td><td>330.36</td><td>0.00003</td></tr><tr><td>2022-08-23 14:52:37</td><td>0.01</td><td>325.0</td><td>325.31</td><td>0.000031</td></tr><tr><td>&hellip;</td><td>&hellip;</td><td>&hellip;</td><td>&hellip;</td><td>&hellip;</td></tr><tr><td>2022-04-20 22:45:06</td><td>120.0</td><td>0.01</td><td>120.31</td><td>387.096774</td></tr><tr><td>2022-08-15 10:57:57</td><td>120.0</td><td>0.01</td><td>120.31</td><td>387.096774</td></tr><tr><td>2022-04-02 17:30:53</td><td>125.0</td><td>0.01</td><td>125.31</td><td>403.225806</td></tr><tr><td>2022-06-13 19:18:58</td><td>150.0</td><td>0.01</td><td>150.31</td><td>483.870968</td></tr><tr><td>2022-08-05 21:03:47</td><td>150.0</td><td>0.01</td><td>150.31</td><td>483.870968</td></tr><tr><td>2022-06-25 10:01:47</td><td>155.0</td><td>0.01</td><td>155.31</td><td>500.0</td></tr><tr><td>2022-10-29 19:28:41</td><td>155.0</td><td>0.01</td><td>155.31</td><td>500.0</td></tr><tr><td>2022-01-09 00:56:26</td><td>168.88</td><td>0.01</td><td>169.19</td><td>544.774194</td></tr><tr><td>2022-08-19 11:32:01</td><td>217.0</td><td>0.01</td><td>217.31</td><td>700.0</td></tr><tr><td>2022-04-12 11:44:10</td><td>225.0</td><td>0.01</td><td>225.31</td><td>725.806452</td></tr><tr><td>2022-07-25 13:32:00</td><td>250.0</td><td>0.01</td><td>250.31</td><td>806.451613</td></tr><tr><td>2022-10-15 05:23:22</td><td>500.0</td><td>0.01</td><td>500.31</td><td>1612.903226</td></tr></tbody></table></div>"
      ],
      "text/plain": [
       "shape: (27513713, 5)\n",
       "┌──────────────────────┬────────────┬─────────────┬──────────────┬─────────────┐\n",
       "│ tpep_pickup_datetime ┆ tip_amount ┆ fare_amount ┆ total_amount ┆ tip_perc    │\n",
       "│ ---                  ┆ ---        ┆ ---         ┆ ---          ┆ ---         │\n",
       "│ datetime[ns]         ┆ f64        ┆ f64         ┆ f64          ┆ f64         │\n",
       "╞══════════════════════╪════════════╪═════════════╪══════════════╪═════════════╡\n",
       "│ 2022-02-05 07:49:26  ┆ 0.01       ┆ 500.0       ┆ 500.31       ┆ 0.00002     │\n",
       "│ 2022-11-09 21:51:13  ┆ 0.01       ┆ 496.0       ┆ 496.31       ┆ 0.00002     │\n",
       "│ 2022-11-06 22:13:30  ┆ 0.01       ┆ 495.0       ┆ 495.31       ┆ 0.00002     │\n",
       "│ 2022-11-02 22:09:46  ┆ 0.01       ┆ 490.0       ┆ 490.31       ┆ 0.00002     │\n",
       "│ …                    ┆ …          ┆ …           ┆ …            ┆ …           │\n",
       "│ 2022-08-19 11:32:01  ┆ 217.0      ┆ 0.01        ┆ 217.31       ┆ 700.0       │\n",
       "│ 2022-04-12 11:44:10  ┆ 225.0      ┆ 0.01        ┆ 225.31       ┆ 725.806452  │\n",
       "│ 2022-07-25 13:32:00  ┆ 250.0      ┆ 0.01        ┆ 250.31       ┆ 806.451613  │\n",
       "│ 2022-10-15 05:23:22  ┆ 500.0      ┆ 0.01        ┆ 500.31       ┆ 1612.903226 │\n",
       "└──────────────────────┴────────────┴─────────────┴──────────────┴─────────────┘"
      ]
     },
     "execution_count": null,
     "metadata": {},
     "output_type": "execute_result"
    }
   ],
   "source": [
    "df_eager.filter(\n",
    "    (pl.col(\"fare_amount\") > 0) &\n",
    "    (pl.col(\"tip_amount\") > 0)\n",
    ").select([\n",
    "    \"tpep_pickup_datetime\", \"tip_amount\", \"fare_amount\", \"total_amount\",\n",
    "    (pl.col(\"tip_amount\") / (pl.col(\"total_amount\") - pl.col(\"tip_amount\"))).alias(\"tip_perc\")\n",
    "]).select(\n",
    "    pl.all().sort_by(\"tip_perc\")\n",
    ")\n"
   ]
  },
  {
   "cell_type": "code",
   "execution_count": null,
   "id": "95dd182d-bbb7-43d4-84ee-bdaab7ff5bbc",
   "metadata": {},
   "outputs": [
    {
     "data": {
      "text/html": [
       "<div><style>\n",
       ".dataframe > thead > tr > th,\n",
       ".dataframe > tbody > tr > td {\n",
       "  text-align: right;\n",
       "}\n",
       "</style>\n",
       "<small>shape: (1, 3)</small><table border=\"1\" class=\"dataframe\"><thead><tr><th>mean</th><th>min</th><th>max</th></tr><tr><td>f64</td><td>f64</td><td>f64</td></tr></thead><tbody><tr><td>0.195446</td><td>0.00002</td><td>1612.903226</td></tr></tbody></table></div>"
      ],
      "text/plain": [
       "shape: (1, 3)\n",
       "┌──────────┬─────────┬─────────────┐\n",
       "│ mean     ┆ min     ┆ max         │\n",
       "│ ---      ┆ ---     ┆ ---         │\n",
       "│ f64      ┆ f64     ┆ f64         │\n",
       "╞══════════╪═════════╪═════════════╡\n",
       "│ 0.195446 ┆ 0.00002 ┆ 1612.903226 │\n",
       "└──────────┴─────────┴─────────────┘"
      ]
     },
     "execution_count": null,
     "metadata": {},
     "output_type": "execute_result"
    }
   ],
   "source": [
    "df_eager.filter(\n",
    "    (pl.col(\"fare_amount\") > 0) &\n",
    "    (pl.col(\"tip_amount\") > 0)\n",
    ").select([\n",
    "    \"tpep_pickup_datetime\", \"tip_amount\", \"fare_amount\", \"total_amount\",\n",
    "    (pl.col(\"tip_amount\") / (pl.col(\"total_amount\") - pl.col(\"tip_amount\"))).alias(\"tip_perc\")\n",
    "]).select(\n",
    "    pl.mean(\"tip_perc\").alias(\"mean\"),\n",
    "    pl.min(\"tip_perc\").alias(\"min\"),\n",
    "    pl.max(\"tip_perc\").alias(\"max\")\n",
    ")\n"
   ]
  },
  {
   "cell_type": "code",
   "execution_count": null,
   "id": "14055353-c08f-4127-bc0b-a2c57ec105dd",
   "metadata": {},
   "outputs": [
    {
     "data": {
      "text/html": [
       "<div><style>\n",
       ".dataframe > thead > tr > th,\n",
       ".dataframe > tbody > tr > td {\n",
       "  text-align: right;\n",
       "}\n",
       "</style>\n",
       "<small>shape: (7, 25)</small><table border=\"1\" class=\"dataframe\"><thead><tr><th>wday</th><th>0</th><th>1</th><th>2</th><th>3</th><th>4</th><th>5</th><th>6</th><th>7</th><th>8</th><th>9</th><th>10</th><th>11</th><th>12</th><th>13</th><th>14</th><th>15</th><th>16</th><th>17</th><th>18</th><th>19</th><th>20</th><th>21</th><th>22</th><th>23</th></tr><tr><td>u32</td><td>f64</td><td>f64</td><td>f64</td><td>f64</td><td>f64</td><td>f64</td><td>f64</td><td>f64</td><td>f64</td><td>f64</td><td>f64</td><td>f64</td><td>f64</td><td>f64</td><td>f64</td><td>f64</td><td>f64</td><td>f64</td><td>f64</td><td>f64</td><td>f64</td><td>f64</td><td>f64</td><td>f64</td></tr></thead><tbody><tr><td>1</td><td>0.199</td><td>0.202</td><td>0.218</td><td>0.216</td><td>0.206</td><td>0.196</td><td>0.19</td><td>0.19</td><td>0.191</td><td>0.195</td><td>0.202</td><td>0.198</td><td>0.199</td><td>0.204</td><td>0.197</td><td>0.197</td><td>0.193</td><td>0.194</td><td>0.192</td><td>0.194</td><td>0.194</td><td>0.196</td><td>0.194</td><td>0.196</td></tr><tr><td>2</td><td>0.199</td><td>0.203</td><td>0.208</td><td>0.212</td><td>0.211</td><td>0.196</td><td>0.193</td><td>0.193</td><td>0.191</td><td>0.195</td><td>0.199</td><td>0.201</td><td>0.198</td><td>0.199</td><td>0.198</td><td>0.196</td><td>0.195</td><td>0.192</td><td>0.192</td><td>0.193</td><td>0.194</td><td>0.196</td><td>0.195</td><td>0.195</td></tr><tr><td>3</td><td>0.2</td><td>0.203</td><td>0.211</td><td>0.215</td><td>0.208</td><td>0.2</td><td>0.194</td><td>0.191</td><td>0.191</td><td>0.195</td><td>0.197</td><td>0.198</td><td>0.197</td><td>0.199</td><td>0.197</td><td>0.196</td><td>0.194</td><td>0.192</td><td>0.191</td><td>0.191</td><td>0.194</td><td>0.195</td><td>0.196</td><td>0.195</td></tr><tr><td>4</td><td>0.203</td><td>0.205</td><td>0.211</td><td>0.214</td><td>0.209</td><td>0.199</td><td>0.192</td><td>0.192</td><td>0.192</td><td>0.195</td><td>0.197</td><td>0.197</td><td>0.198</td><td>0.199</td><td>0.197</td><td>0.197</td><td>0.194</td><td>0.193</td><td>0.192</td><td>0.192</td><td>0.193</td><td>0.194</td><td>0.196</td><td>0.195</td></tr><tr><td>5</td><td>0.195</td><td>0.201</td><td>0.204</td><td>0.208</td><td>0.214</td><td>0.201</td><td>0.194</td><td>0.191</td><td>0.193</td><td>0.196</td><td>0.197</td><td>0.201</td><td>0.198</td><td>0.198</td><td>0.197</td><td>0.196</td><td>0.194</td><td>0.193</td><td>0.192</td><td>0.191</td><td>0.192</td><td>0.195</td><td>0.194</td><td>0.192</td></tr><tr><td>6</td><td>0.192</td><td>0.194</td><td>0.197</td><td>0.201</td><td>0.207</td><td>0.298</td><td>0.201</td><td>0.201</td><td>0.2</td><td>0.199</td><td>0.202</td><td>0.197</td><td>0.196</td><td>0.196</td><td>0.196</td><td>0.196</td><td>0.196</td><td>0.197</td><td>0.195</td><td>0.195</td><td>0.191</td><td>0.192</td><td>0.192</td><td>0.192</td></tr><tr><td>7</td><td>0.195</td><td>0.195</td><td>0.195</td><td>0.198</td><td>0.215</td><td>0.212</td><td>0.199</td><td>0.2</td><td>0.2</td><td>0.198</td><td>0.198</td><td>0.197</td><td>0.197</td><td>0.196</td><td>0.195</td><td>0.197</td><td>0.195</td><td>0.195</td><td>0.196</td><td>0.196</td><td>0.194</td><td>0.193</td><td>0.194</td><td>0.195</td></tr></tbody></table></div>"
      ],
      "text/plain": [
       "shape: (7, 25)\n",
       "┌──────┬───────┬───────┬───────┬───┬───────┬───────┬───────┬───────┐\n",
       "│ wday ┆ 0     ┆ 1     ┆ 2     ┆ … ┆ 20    ┆ 21    ┆ 22    ┆ 23    │\n",
       "│ ---  ┆ ---   ┆ ---   ┆ ---   ┆   ┆ ---   ┆ ---   ┆ ---   ┆ ---   │\n",
       "│ u32  ┆ f64   ┆ f64   ┆ f64   ┆   ┆ f64   ┆ f64   ┆ f64   ┆ f64   │\n",
       "╞══════╪═══════╪═══════╪═══════╪═══╪═══════╪═══════╪═══════╪═══════╡\n",
       "│ 1    ┆ 0.199 ┆ 0.202 ┆ 0.218 ┆ … ┆ 0.194 ┆ 0.196 ┆ 0.194 ┆ 0.196 │\n",
       "│ 2    ┆ 0.199 ┆ 0.203 ┆ 0.208 ┆ … ┆ 0.194 ┆ 0.196 ┆ 0.195 ┆ 0.195 │\n",
       "│ 3    ┆ 0.2   ┆ 0.203 ┆ 0.211 ┆ … ┆ 0.194 ┆ 0.195 ┆ 0.196 ┆ 0.195 │\n",
       "│ 4    ┆ 0.203 ┆ 0.205 ┆ 0.211 ┆ … ┆ 0.193 ┆ 0.194 ┆ 0.196 ┆ 0.195 │\n",
       "│ 5    ┆ 0.195 ┆ 0.201 ┆ 0.204 ┆ … ┆ 0.192 ┆ 0.195 ┆ 0.194 ┆ 0.192 │\n",
       "│ 6    ┆ 0.192 ┆ 0.194 ┆ 0.197 ┆ … ┆ 0.191 ┆ 0.192 ┆ 0.192 ┆ 0.192 │\n",
       "│ 7    ┆ 0.195 ┆ 0.195 ┆ 0.195 ┆ … ┆ 0.194 ┆ 0.193 ┆ 0.194 ┆ 0.195 │\n",
       "└──────┴───────┴───────┴───────┴───┴───────┴───────┴───────┴───────┘"
      ]
     },
     "execution_count": null,
     "metadata": {},
     "output_type": "execute_result"
    }
   ],
   "source": [
    "    df_eager.filter(\n",
    "      (pl.col(\"fare_amount\") > 0) &\n",
    "      (pl.col(\"tip_amount\") > 0)\n",
    "    ).select([\n",
    "      \"tpep_pickup_datetime\", \"tip_amount\", \"fare_amount\", \"total_amount\",\n",
    "      (pl.col(\"tip_amount\") / (pl.col(\"total_amount\") - pl.col(\"tip_amount\"))).alias(\"tip_perc\"),\n",
    "      pl.col(\"tpep_pickup_datetime\").dt.hour().alias(\"hour\"),\n",
    "      pl.col(\"tpep_pickup_datetime\").dt.weekday().alias(\"wday\")\n",
    "    ]).groupby(\n",
    "      [\"hour\",\"wday\"]\n",
    "    ).agg([\n",
    "      pl.mean(\"tip_perc\").alias(\"mean_tip_perc\")\n",
    "    ]).with_columns([\n",
    "      pl.col(\"mean_tip_perc\").round(3)\n",
    "    ]).with_columns([\n",
    "      pl.all().sort_by([\"wday\", \"hour\"])\n",
    "    ]).pivot(\n",
    "      values=\"mean_tip_perc\", index=\"wday\", columns=\"hour\"\n",
    "    )"
   ]
  },
  {
   "cell_type": "markdown",
   "id": "33b467a1-df29-4347-b58a-7c6845a06ff9",
   "metadata": {},
   "source": [
    "## Lazy data"
   ]
  },
  {
   "cell_type": "code",
   "execution_count": null,
   "id": "4b661759-76e0-49a9-a783-bfaf98d48a30",
   "metadata": {},
   "outputs": [
    {
     "data": {
      "image/svg+xml": [
       "<svg xmlns=\"http://www.w3.org/2000/svg\" xmlns:xlink=\"http://www.w3.org/1999/xlink\" width=\"5435pt\" height=\"205pt\" viewBox=\"0.00 0.00 5435.00 205.00\">\n",
       "<g id=\"graph0\" class=\"graph\" transform=\"scale(1 1) rotate(0) translate(4 201)\">\n",
       "<title>polars_query</title>\n",
       "<polygon fill=\"white\" stroke=\"none\" points=\"-4,4 -4,-201 5431,-201 5431,4 -4,4\"/>\n",
       "<!-- RECHUNK [(0, 0)] -->\n",
       "<g id=\"node1\" class=\"node\">\n",
       "<title>RECHUNK [(0, 0)]</title>\n",
       "<polygon fill=\"none\" stroke=\"black\" points=\"2754.5,-197 2672.5,-197 2672.5,-161 2754.5,-161 2754.5,-197\"/>\n",
       "<text text-anchor=\"middle\" x=\"2713.5\" y=\"-175.3\" font-family=\"Times,serif\" font-size=\"14.00\">RECHUNK</text>\n",
       "</g>\n",
       "<!-- UNION [(0, 1)] -->\n",
       "<g id=\"node2\" class=\"node\">\n",
       "<title>UNION [(0, 1)]</title>\n",
       "<polygon fill=\"none\" stroke=\"black\" points=\"2743.5,-125 2683.5,-125 2683.5,-89 2743.5,-89 2743.5,-125\"/>\n",
       "<text text-anchor=\"middle\" x=\"2713.5\" y=\"-103.3\" font-family=\"Times,serif\" font-size=\"14.00\">UNION</text>\n",
       "</g>\n",
       "<!-- RECHUNK [(0, 0)]&#45;&#45;UNION [(0, 1)] -->\n",
       "<g id=\"edge1\" class=\"edge\">\n",
       "<title>RECHUNK [(0, 0)]--UNION [(0, 1)]</title>\n",
       "<path fill=\"none\" stroke=\"black\" d=\"M2713.5,-160.7C2713.5,-149.85 2713.5,-135.92 2713.5,-125.1\"/>\n",
       "</g>\n",
       "<!-- PARQUET SCAN /Users/rundel/Scratch/nyc_taxi/yellow_tripdata_2022&#45;01.parquet;\n",
       "π */19;\n",
       "σ &#45; [(0, 2)] -->\n",
       "<g id=\"node3\" class=\"node\">\n",
       "<title>PARQUET SCAN /Users/rundel/Scratch/nyc_taxi/yellow_tripdata_2022-01.parquet;\n",
       "π */19;\n",
       "σ - [(0, 2)]</title>\n",
       "<polygon fill=\"none\" stroke=\"black\" points=\"477,-53 0,-53 0,0 477,0 477,-53\"/>\n",
       "<text text-anchor=\"middle\" x=\"238.5\" y=\"-37.8\" font-family=\"Times,serif\" font-size=\"14.00\">PARQUET SCAN /Users/rundel/Scratch/nyc_taxi/yellow_tripdata_2022-01.parquet;</text>\n",
       "<text text-anchor=\"middle\" x=\"238.5\" y=\"-22.8\" font-family=\"Times,serif\" font-size=\"14.00\">π */19;</text>\n",
       "<text text-anchor=\"middle\" x=\"238.5\" y=\"-7.8\" font-family=\"Times,serif\" font-size=\"14.00\">σ -</text>\n",
       "</g>\n",
       "<!-- UNION [(0, 1)]&#45;&#45;PARQUET SCAN /Users/rundel/Scratch/nyc_taxi/yellow_tripdata_2022&#45;01.parquet;\n",
       "π */19;\n",
       "σ &#45; [(0, 2)] -->\n",
       "<g id=\"edge2\" class=\"edge\">\n",
       "<title>UNION [(0, 1)]--PARQUET SCAN /Users/rundel/Scratch/nyc_taxi/yellow_tripdata_2022-01.parquet;\n",
       "π */19;\n",
       "σ - [(0, 2)]</title>\n",
       "<path fill=\"none\" stroke=\"black\" d=\"M2683,-106.18C2486.87,-107.17 1382.79,-109.9 485.5,-53 482.81,-52.83 480.11,-52.65 477.39,-52.47\"/>\n",
       "</g>\n",
       "<!-- PARQUET SCAN /Users/rundel/Scratch/nyc_taxi/yellow_tripdata_2022&#45;02.parquet;\n",
       "π */19;\n",
       "σ &#45; [(1, 2)] -->\n",
       "<g id=\"node4\" class=\"node\">\n",
       "<title>PARQUET SCAN /Users/rundel/Scratch/nyc_taxi/yellow_tripdata_2022-02.parquet;\n",
       "π */19;\n",
       "σ - [(1, 2)]</title>\n",
       "<polygon fill=\"none\" stroke=\"black\" points=\"972,-53 495,-53 495,0 972,0 972,-53\"/>\n",
       "<text text-anchor=\"middle\" x=\"733.5\" y=\"-37.8\" font-family=\"Times,serif\" font-size=\"14.00\">PARQUET SCAN /Users/rundel/Scratch/nyc_taxi/yellow_tripdata_2022-02.parquet;</text>\n",
       "<text text-anchor=\"middle\" x=\"733.5\" y=\"-22.8\" font-family=\"Times,serif\" font-size=\"14.00\">π */19;</text>\n",
       "<text text-anchor=\"middle\" x=\"733.5\" y=\"-7.8\" font-family=\"Times,serif\" font-size=\"14.00\">σ -</text>\n",
       "</g>\n",
       "<!-- UNION [(0, 1)]&#45;&#45;PARQUET SCAN /Users/rundel/Scratch/nyc_taxi/yellow_tripdata_2022&#45;02.parquet;\n",
       "π */19;\n",
       "σ &#45; [(1, 2)] -->\n",
       "<g id=\"edge3\" class=\"edge\">\n",
       "<title>UNION [(0, 1)]--PARQUET SCAN /Users/rundel/Scratch/nyc_taxi/yellow_tripdata_2022-02.parquet;\n",
       "π */19;\n",
       "σ - [(1, 2)]</title>\n",
       "<path fill=\"none\" stroke=\"black\" d=\"M2683.24,-105.89C2514.14,-105.12 1669.03,-99.01 980.5,-53 977.81,-52.82 975.11,-52.63 972.39,-52.44\"/>\n",
       "</g>\n",
       "<!-- PARQUET SCAN /Users/rundel/Scratch/nyc_taxi/yellow_tripdata_2022&#45;03.parquet;\n",
       "π */19;\n",
       "σ &#45; [(2, 2)] -->\n",
       "<g id=\"node5\" class=\"node\">\n",
       "<title>PARQUET SCAN /Users/rundel/Scratch/nyc_taxi/yellow_tripdata_2022-03.parquet;\n",
       "π */19;\n",
       "σ - [(2, 2)]</title>\n",
       "<polygon fill=\"none\" stroke=\"black\" points=\"1467,-53 990,-53 990,0 1467,0 1467,-53\"/>\n",
       "<text text-anchor=\"middle\" x=\"1228.5\" y=\"-37.8\" font-family=\"Times,serif\" font-size=\"14.00\">PARQUET SCAN /Users/rundel/Scratch/nyc_taxi/yellow_tripdata_2022-03.parquet;</text>\n",
       "<text text-anchor=\"middle\" x=\"1228.5\" y=\"-22.8\" font-family=\"Times,serif\" font-size=\"14.00\">π */19;</text>\n",
       "<text text-anchor=\"middle\" x=\"1228.5\" y=\"-7.8\" font-family=\"Times,serif\" font-size=\"14.00\">σ -</text>\n",
       "</g>\n",
       "<!-- UNION [(0, 1)]&#45;&#45;PARQUET SCAN /Users/rundel/Scratch/nyc_taxi/yellow_tripdata_2022&#45;03.parquet;\n",
       "π */19;\n",
       "σ &#45; [(2, 2)] -->\n",
       "<g id=\"edge4\" class=\"edge\">\n",
       "<title>UNION [(0, 1)]--PARQUET SCAN /Users/rundel/Scratch/nyc_taxi/yellow_tripdata_2022-03.parquet;\n",
       "π */19;\n",
       "σ - [(2, 2)]</title>\n",
       "<path fill=\"none\" stroke=\"black\" d=\"M2683.3,-105.38C2544.81,-102.38 1956.64,-88.1 1475.5,-53 1472.81,-52.8 1470.11,-52.6 1467.39,-52.4\"/>\n",
       "</g>\n",
       "<!-- PARQUET SCAN /Users/rundel/Scratch/nyc_taxi/yellow_tripdata_2022&#45;04.parquet;\n",
       "π */19;\n",
       "σ &#45; [(3, 2)] -->\n",
       "<g id=\"node6\" class=\"node\">\n",
       "<title>PARQUET SCAN /Users/rundel/Scratch/nyc_taxi/yellow_tripdata_2022-04.parquet;\n",
       "π */19;\n",
       "σ - [(3, 2)]</title>\n",
       "<polygon fill=\"none\" stroke=\"black\" points=\"1962,-53 1485,-53 1485,0 1962,0 1962,-53\"/>\n",
       "<text text-anchor=\"middle\" x=\"1723.5\" y=\"-37.8\" font-family=\"Times,serif\" font-size=\"14.00\">PARQUET SCAN /Users/rundel/Scratch/nyc_taxi/yellow_tripdata_2022-04.parquet;</text>\n",
       "<text text-anchor=\"middle\" x=\"1723.5\" y=\"-22.8\" font-family=\"Times,serif\" font-size=\"14.00\">π */19;</text>\n",
       "<text text-anchor=\"middle\" x=\"1723.5\" y=\"-7.8\" font-family=\"Times,serif\" font-size=\"14.00\">σ -</text>\n",
       "</g>\n",
       "<!-- UNION [(0, 1)]&#45;&#45;PARQUET SCAN /Users/rundel/Scratch/nyc_taxi/yellow_tripdata_2022&#45;04.parquet;\n",
       "π */19;\n",
       "σ &#45; [(3, 2)] -->\n",
       "<g id=\"edge5\" class=\"edge\">\n",
       "<title>UNION [(0, 1)]--PARQUET SCAN /Users/rundel/Scratch/nyc_taxi/yellow_tripdata_2022-04.parquet;\n",
       "π */19;\n",
       "σ - [(3, 2)]</title>\n",
       "<path fill=\"none\" stroke=\"black\" d=\"M2683.04,-104.17C2581.73,-98.03 2246.84,-77.11 1970.5,-53 1967.82,-52.77 1965.12,-52.53 1962.4,-52.29\"/>\n",
       "</g>\n",
       "<!-- PARQUET SCAN /Users/rundel/Scratch/nyc_taxi/yellow_tripdata_2022&#45;05.parquet;\n",
       "π */19;\n",
       "σ &#45; [(4, 2)] -->\n",
       "<g id=\"node7\" class=\"node\">\n",
       "<title>PARQUET SCAN /Users/rundel/Scratch/nyc_taxi/yellow_tripdata_2022-05.parquet;\n",
       "π */19;\n",
       "σ - [(4, 2)]</title>\n",
       "<polygon fill=\"none\" stroke=\"black\" points=\"2457,-53 1980,-53 1980,0 2457,0 2457,-53\"/>\n",
       "<text text-anchor=\"middle\" x=\"2218.5\" y=\"-37.8\" font-family=\"Times,serif\" font-size=\"14.00\">PARQUET SCAN /Users/rundel/Scratch/nyc_taxi/yellow_tripdata_2022-05.parquet;</text>\n",
       "<text text-anchor=\"middle\" x=\"2218.5\" y=\"-22.8\" font-family=\"Times,serif\" font-size=\"14.00\">π */19;</text>\n",
       "<text text-anchor=\"middle\" x=\"2218.5\" y=\"-7.8\" font-family=\"Times,serif\" font-size=\"14.00\">σ -</text>\n",
       "</g>\n",
       "<!-- UNION [(0, 1)]&#45;&#45;PARQUET SCAN /Users/rundel/Scratch/nyc_taxi/yellow_tripdata_2022&#45;05.parquet;\n",
       "π */19;\n",
       "σ &#45; [(4, 2)] -->\n",
       "<g id=\"edge6\" class=\"edge\">\n",
       "<title>UNION [(0, 1)]--PARQUET SCAN /Users/rundel/Scratch/nyc_taxi/yellow_tripdata_2022-05.parquet;\n",
       "π */19;\n",
       "σ - [(4, 2)]</title>\n",
       "<path fill=\"none\" stroke=\"black\" d=\"M2683.28,-101.21C2624.56,-91.9 2491.25,-70.75 2382.4,-53.49\"/>\n",
       "</g>\n",
       "<!-- PARQUET SCAN /Users/rundel/Scratch/nyc_taxi/yellow_tripdata_2022&#45;06.parquet;\n",
       "π */19;\n",
       "σ &#45; [(5, 2)] -->\n",
       "<g id=\"node8\" class=\"node\">\n",
       "<title>PARQUET SCAN /Users/rundel/Scratch/nyc_taxi/yellow_tripdata_2022-06.parquet;\n",
       "π */19;\n",
       "σ - [(5, 2)]</title>\n",
       "<polygon fill=\"none\" stroke=\"black\" points=\"2952,-53 2475,-53 2475,0 2952,0 2952,-53\"/>\n",
       "<text text-anchor=\"middle\" x=\"2713.5\" y=\"-37.8\" font-family=\"Times,serif\" font-size=\"14.00\">PARQUET SCAN /Users/rundel/Scratch/nyc_taxi/yellow_tripdata_2022-06.parquet;</text>\n",
       "<text text-anchor=\"middle\" x=\"2713.5\" y=\"-22.8\" font-family=\"Times,serif\" font-size=\"14.00\">π */19;</text>\n",
       "<text text-anchor=\"middle\" x=\"2713.5\" y=\"-7.8\" font-family=\"Times,serif\" font-size=\"14.00\">σ -</text>\n",
       "</g>\n",
       "<!-- UNION [(0, 1)]&#45;&#45;PARQUET SCAN /Users/rundel/Scratch/nyc_taxi/yellow_tripdata_2022&#45;06.parquet;\n",
       "π */19;\n",
       "σ &#45; [(5, 2)] -->\n",
       "<g id=\"edge7\" class=\"edge\">\n",
       "<title>UNION [(0, 1)]--PARQUET SCAN /Users/rundel/Scratch/nyc_taxi/yellow_tripdata_2022-06.parquet;\n",
       "π */19;\n",
       "σ - [(5, 2)]</title>\n",
       "<path fill=\"none\" stroke=\"black\" d=\"M2713.5,-88.58C2713.5,-78.19 2713.5,-64.81 2713.5,-53.22\"/>\n",
       "</g>\n",
       "<!-- PARQUET SCAN /Users/rundel/Scratch/nyc_taxi/yellow_tripdata_2022&#45;07.parquet;\n",
       "π */19;\n",
       "σ &#45; [(6, 2)] -->\n",
       "<g id=\"node9\" class=\"node\">\n",
       "<title>PARQUET SCAN /Users/rundel/Scratch/nyc_taxi/yellow_tripdata_2022-07.parquet;\n",
       "π */19;\n",
       "σ - [(6, 2)]</title>\n",
       "<polygon fill=\"none\" stroke=\"black\" points=\"3447,-53 2970,-53 2970,0 3447,0 3447,-53\"/>\n",
       "<text text-anchor=\"middle\" x=\"3208.5\" y=\"-37.8\" font-family=\"Times,serif\" font-size=\"14.00\">PARQUET SCAN /Users/rundel/Scratch/nyc_taxi/yellow_tripdata_2022-07.parquet;</text>\n",
       "<text text-anchor=\"middle\" x=\"3208.5\" y=\"-22.8\" font-family=\"Times,serif\" font-size=\"14.00\">π */19;</text>\n",
       "<text text-anchor=\"middle\" x=\"3208.5\" y=\"-7.8\" font-family=\"Times,serif\" font-size=\"14.00\">σ -</text>\n",
       "</g>\n",
       "<!-- UNION [(0, 1)]&#45;&#45;PARQUET SCAN /Users/rundel/Scratch/nyc_taxi/yellow_tripdata_2022&#45;07.parquet;\n",
       "π */19;\n",
       "σ &#45; [(6, 2)] -->\n",
       "<g id=\"edge8\" class=\"edge\">\n",
       "<title>UNION [(0, 1)]--PARQUET SCAN /Users/rundel/Scratch/nyc_taxi/yellow_tripdata_2022-07.parquet;\n",
       "π */19;\n",
       "σ - [(6, 2)]</title>\n",
       "<path fill=\"none\" stroke=\"black\" d=\"M2743.72,-101.21C2802.44,-91.9 2935.75,-70.75 3044.6,-53.49\"/>\n",
       "</g>\n",
       "<!-- PARQUET SCAN /Users/rundel/Scratch/nyc_taxi/yellow_tripdata_2022&#45;08.parquet;\n",
       "π */19;\n",
       "σ &#45; [(7, 2)] -->\n",
       "<g id=\"node10\" class=\"node\">\n",
       "<title>PARQUET SCAN /Users/rundel/Scratch/nyc_taxi/yellow_tripdata_2022-08.parquet;\n",
       "π */19;\n",
       "σ - [(7, 2)]</title>\n",
       "<polygon fill=\"none\" stroke=\"black\" points=\"3942,-53 3465,-53 3465,0 3942,0 3942,-53\"/>\n",
       "<text text-anchor=\"middle\" x=\"3703.5\" y=\"-37.8\" font-family=\"Times,serif\" font-size=\"14.00\">PARQUET SCAN /Users/rundel/Scratch/nyc_taxi/yellow_tripdata_2022-08.parquet;</text>\n",
       "<text text-anchor=\"middle\" x=\"3703.5\" y=\"-22.8\" font-family=\"Times,serif\" font-size=\"14.00\">π */19;</text>\n",
       "<text text-anchor=\"middle\" x=\"3703.5\" y=\"-7.8\" font-family=\"Times,serif\" font-size=\"14.00\">σ -</text>\n",
       "</g>\n",
       "<!-- UNION [(0, 1)]&#45;&#45;PARQUET SCAN /Users/rundel/Scratch/nyc_taxi/yellow_tripdata_2022&#45;08.parquet;\n",
       "π */19;\n",
       "σ &#45; [(7, 2)] -->\n",
       "<g id=\"edge9\" class=\"edge\">\n",
       "<title>UNION [(0, 1)]--PARQUET SCAN /Users/rundel/Scratch/nyc_taxi/yellow_tripdata_2022-08.parquet;\n",
       "π */19;\n",
       "σ - [(7, 2)]</title>\n",
       "<path fill=\"none\" stroke=\"black\" d=\"M2743.96,-104.17C2845.27,-98.03 3180.16,-77.11 3456.5,-53 3459.18,-52.77 3461.88,-52.53 3464.6,-52.29\"/>\n",
       "</g>\n",
       "<!-- PARQUET SCAN /Users/rundel/Scratch/nyc_taxi/yellow_tripdata_2022&#45;09.parquet;\n",
       "π */19;\n",
       "σ &#45; [(8, 2)] -->\n",
       "<g id=\"node11\" class=\"node\">\n",
       "<title>PARQUET SCAN /Users/rundel/Scratch/nyc_taxi/yellow_tripdata_2022-09.parquet;\n",
       "π */19;\n",
       "σ - [(8, 2)]</title>\n",
       "<polygon fill=\"none\" stroke=\"black\" points=\"4437,-53 3960,-53 3960,0 4437,0 4437,-53\"/>\n",
       "<text text-anchor=\"middle\" x=\"4198.5\" y=\"-37.8\" font-family=\"Times,serif\" font-size=\"14.00\">PARQUET SCAN /Users/rundel/Scratch/nyc_taxi/yellow_tripdata_2022-09.parquet;</text>\n",
       "<text text-anchor=\"middle\" x=\"4198.5\" y=\"-22.8\" font-family=\"Times,serif\" font-size=\"14.00\">π */19;</text>\n",
       "<text text-anchor=\"middle\" x=\"4198.5\" y=\"-7.8\" font-family=\"Times,serif\" font-size=\"14.00\">σ -</text>\n",
       "</g>\n",
       "<!-- UNION [(0, 1)]&#45;&#45;PARQUET SCAN /Users/rundel/Scratch/nyc_taxi/yellow_tripdata_2022&#45;09.parquet;\n",
       "π */19;\n",
       "σ &#45; [(8, 2)] -->\n",
       "<g id=\"edge10\" class=\"edge\">\n",
       "<title>UNION [(0, 1)]--PARQUET SCAN /Users/rundel/Scratch/nyc_taxi/yellow_tripdata_2022-09.parquet;\n",
       "π */19;\n",
       "σ - [(8, 2)]</title>\n",
       "<path fill=\"none\" stroke=\"black\" d=\"M2743.7,-105.38C2882.19,-102.38 3470.36,-88.1 3951.5,-53 3954.19,-52.8 3956.89,-52.6 3959.61,-52.4\"/>\n",
       "</g>\n",
       "<!-- PARQUET SCAN /Users/rundel/Scratch/nyc_taxi/yellow_tripdata_2022&#45;10.parquet;\n",
       "π */19;\n",
       "σ &#45; [(9, 2)] -->\n",
       "<g id=\"node12\" class=\"node\">\n",
       "<title>PARQUET SCAN /Users/rundel/Scratch/nyc_taxi/yellow_tripdata_2022-10.parquet;\n",
       "π */19;\n",
       "σ - [(9, 2)]</title>\n",
       "<polygon fill=\"none\" stroke=\"black\" points=\"4932,-53 4455,-53 4455,0 4932,0 4932,-53\"/>\n",
       "<text text-anchor=\"middle\" x=\"4693.5\" y=\"-37.8\" font-family=\"Times,serif\" font-size=\"14.00\">PARQUET SCAN /Users/rundel/Scratch/nyc_taxi/yellow_tripdata_2022-10.parquet;</text>\n",
       "<text text-anchor=\"middle\" x=\"4693.5\" y=\"-22.8\" font-family=\"Times,serif\" font-size=\"14.00\">π */19;</text>\n",
       "<text text-anchor=\"middle\" x=\"4693.5\" y=\"-7.8\" font-family=\"Times,serif\" font-size=\"14.00\">σ -</text>\n",
       "</g>\n",
       "<!-- UNION [(0, 1)]&#45;&#45;PARQUET SCAN /Users/rundel/Scratch/nyc_taxi/yellow_tripdata_2022&#45;10.parquet;\n",
       "π */19;\n",
       "σ &#45; [(9, 2)] -->\n",
       "<g id=\"edge11\" class=\"edge\">\n",
       "<title>UNION [(0, 1)]--PARQUET SCAN /Users/rundel/Scratch/nyc_taxi/yellow_tripdata_2022-10.parquet;\n",
       "π */19;\n",
       "σ - [(9, 2)]</title>\n",
       "<path fill=\"none\" stroke=\"black\" d=\"M2743.76,-105.89C2912.86,-105.12 3757.97,-99.01 4446.5,-53 4449.19,-52.82 4451.89,-52.63 4454.61,-52.44\"/>\n",
       "</g>\n",
       "<!-- PARQUET SCAN /Users/rundel/Scratch/nyc_taxi/yellow_tripdata_2022&#45;11.parquet;\n",
       "π */19;\n",
       "σ &#45; [(10, 2)] -->\n",
       "<g id=\"node13\" class=\"node\">\n",
       "<title>PARQUET SCAN /Users/rundel/Scratch/nyc_taxi/yellow_tripdata_2022-11.parquet;\n",
       "π */19;\n",
       "σ - [(10, 2)]</title>\n",
       "<polygon fill=\"none\" stroke=\"black\" points=\"5427,-53 4950,-53 4950,0 5427,0 5427,-53\"/>\n",
       "<text text-anchor=\"middle\" x=\"5188.5\" y=\"-37.8\" font-family=\"Times,serif\" font-size=\"14.00\">PARQUET SCAN /Users/rundel/Scratch/nyc_taxi/yellow_tripdata_2022-11.parquet;</text>\n",
       "<text text-anchor=\"middle\" x=\"5188.5\" y=\"-22.8\" font-family=\"Times,serif\" font-size=\"14.00\">π */19;</text>\n",
       "<text text-anchor=\"middle\" x=\"5188.5\" y=\"-7.8\" font-family=\"Times,serif\" font-size=\"14.00\">σ -</text>\n",
       "</g>\n",
       "<!-- UNION [(0, 1)]&#45;&#45;PARQUET SCAN /Users/rundel/Scratch/nyc_taxi/yellow_tripdata_2022&#45;11.parquet;\n",
       "π */19;\n",
       "σ &#45; [(10, 2)] -->\n",
       "<g id=\"edge12\" class=\"edge\">\n",
       "<title>UNION [(0, 1)]--PARQUET SCAN /Users/rundel/Scratch/nyc_taxi/yellow_tripdata_2022-11.parquet;\n",
       "π */19;\n",
       "σ - [(10, 2)]</title>\n",
       "<path fill=\"none\" stroke=\"black\" d=\"M2744,-106.18C2940.13,-107.17 4044.21,-109.9 4941.5,-53 4944.19,-52.83 4946.89,-52.65 4949.61,-52.47\"/>\n",
       "</g>\n",
       "</g>\n",
       "</svg>"
      ],
      "text/plain": [
       "<IPython.core.display.SVG object>"
      ]
     },
     "metadata": {},
     "output_type": "display_data"
    }
   ],
   "source": [
    "df_lazy  = pl.scan_parquet(\"~/Scratch/nyc_taxi/yellow_tripdata_2022-*.parquet\")\n",
    "df_lazy.show_graph()"
   ]
  },
  {
   "cell_type": "markdown",
   "id": "b5e2513a-f1b4-4134-bfe6-81d2521e91f8",
   "metadata": {},
   "source": [
    "## Performance"
   ]
  },
  {
   "cell_type": "code",
   "execution_count": null,
   "id": "9ecd2a9d-9414-4630-9691-97c0041bafc5",
   "metadata": {},
   "outputs": [],
   "source": [
    "def lazy():\n",
    "    df_lazy.filter(\n",
    "      (pl.col(\"fare_amount\") > 0) &\n",
    "      (pl.col(\"tip_amount\") > 0)\n",
    "    ).select([\n",
    "      \"tpep_pickup_datetime\", \"tip_amount\", \"fare_amount\", \"total_amount\",\n",
    "      (pl.col(\"tip_amount\") / (pl.col(\"total_amount\") - pl.col(\"tip_amount\"))).alias(\"tip_perc\"),\n",
    "      pl.col(\"tpep_pickup_datetime\").dt.hour().alias(\"hour\"),\n",
    "      pl.col(\"tpep_pickup_datetime\").dt.weekday().alias(\"wday\")\n",
    "    ]).groupby(\n",
    "      [\"hour\",\"wday\"]\n",
    "    ).agg([\n",
    "      pl.mean(\"tip_perc\").alias(\"mean_tip_perc\")\n",
    "    ]).with_columns([\n",
    "      pl.col(\"mean_tip_perc\").round(3)\n",
    "    ]).with_columns([\n",
    "      pl.all().sort_by([\"wday\", \"hour\"])\n",
    "    ]).collect(\n",
    "    ).pivot(\n",
    "      values=\"mean_tip_perc\", index=\"wday\", columns=\"hour\"\n",
    "    )\n",
    "\n",
    "def eager():\n",
    "    df_eager.filter(\n",
    "      (pl.col(\"fare_amount\") > 0) &\n",
    "      (pl.col(\"tip_amount\") > 0)\n",
    "    ).select([\n",
    "      \"tpep_pickup_datetime\", \"tip_amount\", \"fare_amount\", \"total_amount\",\n",
    "      (pl.col(\"tip_amount\") / (pl.col(\"total_amount\") - pl.col(\"tip_amount\"))).alias(\"tip_perc\"),\n",
    "      pl.col(\"tpep_pickup_datetime\").dt.hour().alias(\"hour\"),\n",
    "      pl.col(\"tpep_pickup_datetime\").dt.weekday().alias(\"wday\")\n",
    "    ]).groupby(\n",
    "      [\"hour\",\"wday\"]\n",
    "    ).agg([\n",
    "      pl.mean(\"tip_perc\").alias(\"mean_tip_perc\")\n",
    "    ]).with_columns([\n",
    "      pl.col(\"mean_tip_perc\").round(3)\n",
    "    ]).with_columns([\n",
    "      pl.all().sort_by([\"wday\", \"hour\"])\n",
    "    ]).pivot(\n",
    "      values=\"mean_tip_perc\", index=\"wday\", columns=\"hour\"\n",
    "    )"
   ]
  },
  {
   "cell_type": "code",
   "execution_count": null,
   "id": "550d18a9-05fe-4ef5-a6d6-259b9ee230ef",
   "metadata": {},
   "outputs": [
    {
     "name": "stderr",
     "output_type": "stream",
     "text": [
      "PARTITIONED DS\n",
      "PARTITIONED DS\n",
      "PARTITIONED DS\n",
      "PARTITIONED DS\n",
      "PARTITIONED DS\n",
      "PARTITIONED DS\n",
      "PARTITIONED DS\n"
     ]
    },
    {
     "name": "stdout",
     "output_type": "stream",
     "text": [
      "702 ms ± 27.8 ms per loop (mean ± std. dev. of 7 runs, 1 loop each)\n"
     ]
    },
    {
     "name": "stderr",
     "output_type": "stream",
     "text": [
      "PARTITIONED DS\n"
     ]
    }
   ],
   "source": [
    "%timeit lazy()"
   ]
  },
  {
   "cell_type": "code",
   "execution_count": null,
   "id": "5594515f-44ad-4ced-b461-3fa98b0a209a",
   "metadata": {},
   "outputs": [
    {
     "name": "stdout",
     "output_type": "stream",
     "text": [
      "2.79 s ± 124 ms per loop (mean ± std. dev. of 7 runs, 1 loop each)\n"
     ]
    }
   ],
   "source": [
    "%timeit eager()"
   ]
  },
  {
   "cell_type": "code",
   "execution_count": null,
   "id": "78d3c562-d30f-4e94-bdc5-96a8c7657e7f",
   "metadata": {},
   "outputs": [],
   "source": []
  }
 ],
 "metadata": {
  "kernelspec": {
   "display_name": "python3",
   "language": "python",
   "name": "python3"
  }
 },
 "nbformat": 4,
 "nbformat_minor": 5
}
