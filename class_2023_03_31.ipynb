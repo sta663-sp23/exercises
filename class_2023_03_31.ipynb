{
 "cells": [
  {
   "cell_type": "markdown",
   "id": "32ce8fc3-4e3e-4f02-a27d-b4bc37f2f9f7",
   "metadata": {},
   "source": [
    "## Setup"
   ]
  },
  {
   "cell_type": "code",
   "execution_count": null,
   "id": "be6a9c39-9cea-4bb1-af20-8b7be781db03",
   "metadata": {},
   "outputs": [],
   "source": [
    "import numpy as np\n",
    "import pandas as pd\n",
    "import seaborn as sns\n",
    "\n",
    "import pyarrow as pa\n",
    "import polars as pl\n",
    "\n",
    "import os"
   ]
  },
  {
   "cell_type": "markdown",
   "id": "20a2fb8c-46d9-49d1-a467-582e8715a878",
   "metadata": {},
   "source": [
    "## Data\n",
    "\n",
    "These data come from NYC Open Data - specifically the parquet files can be obtained from [toddwschneider/nyc-taxi-data](https://github.com/toddwschneider/nyc-taxi-data) on GitHub. Then urls for the specific files can be found [here](https://github.com/toddwschneider/nyc-taxi-data/blob/master/setup_files/raw_data_urls.txt)."
   ]
  },
  {
   "cell_type": "code",
   "execution_count": null,
   "id": "615657bd-bf46-4c9d-b03b-d73bc4afa28e",
   "metadata": {},
   "outputs": [],
   "source": [
    "#os.listdir(os.path.expanduser(\"~/Scratch/nyc_taxi/\"))"
   ]
  },
  {
   "cell_type": "code",
   "execution_count": null,
   "id": "99835f9b-238f-4997-992d-f5472470a352",
   "metadata": {},
   "outputs": [],
   "source": [
    "df_eager = pl.read_parquet(\"~/Scratch/nyc_taxi/yellow_tripdata_2022-*.parquet\")\n",
    "df_eager"
   ]
  },
  {
   "cell_type": "code",
   "execution_count": null,
   "id": "da119b48-394a-4b4e-9086-74b4e1de847b",
   "metadata": {},
   "outputs": [],
   "source": []
  },
  {
   "cell_type": "markdown",
   "id": "b553a470-7977-4395-80a7-100af2dc478f",
   "metadata": {},
   "source": [
    "## Demo"
   ]
  },
  {
   "cell_type": "code",
   "execution_count": null,
   "id": "0f0e931d-0aa8-4d3a-b00e-dd0b0d5bf02d",
   "metadata": {},
   "outputs": [],
   "source": []
  },
  {
   "cell_type": "markdown",
   "id": "33b467a1-df29-4347-b58a-7c6845a06ff9",
   "metadata": {},
   "source": [
    "## Lazy data"
   ]
  },
  {
   "cell_type": "code",
   "execution_count": null,
   "id": "4b661759-76e0-49a9-a783-bfaf98d48a30",
   "metadata": {},
   "outputs": [],
   "source": [
    "df_lazy  = pl.scan_parquet(\"~/Scratch/nyc_taxi/yellow_tripdata_2022-*.parquet\")\n",
    "df_lazy.show_graph()"
   ]
  },
  {
   "cell_type": "markdown",
   "id": "b5e2513a-f1b4-4134-bfe6-81d2521e91f8",
   "metadata": {},
   "source": [
    "## Performance"
   ]
  },
  {
   "cell_type": "code",
   "execution_count": null,
   "id": "9ecd2a9d-9414-4630-9691-97c0041bafc5",
   "metadata": {},
   "outputs": [],
   "source": [
    "def lazy():\n",
    "    df_lazy.filter(\n",
    "      (pl.col(\"fare_amount\") > 0) &\n",
    "      (pl.col(\"tip_amount\") > 0)\n",
    "    ).select([\n",
    "      \"tpep_pickup_datetime\", \"tip_amount\", \"fare_amount\", \"total_amount\",\n",
    "      (pl.col(\"tip_amount\") / (pl.col(\"total_amount\") - pl.col(\"tip_amount\"))).alias(\"tip_perc\"),\n",
    "      pl.col(\"tpep_pickup_datetime\").dt.hour().alias(\"hour\"),\n",
    "      pl.col(\"tpep_pickup_datetime\").dt.weekday().alias(\"wday\")\n",
    "    ]).groupby(\n",
    "      [\"hour\",\"wday\"]\n",
    "    ).agg([\n",
    "      pl.mean(\"tip_perc\").alias(\"mean_tip_perc\")\n",
    "    ]).with_columns([\n",
    "      pl.col(\"mean_tip_perc\").round(3)\n",
    "    ]).with_columns([\n",
    "      pl.all().sort_by([\"wday\", \"hour\"])\n",
    "    ]).collect(\n",
    "    ).pivot(\n",
    "      values=\"mean_tip_perc\", index=\"wday\", columns=\"hour\"\n",
    "    )\n",
    "\n",
    "def eager():\n",
    "    df_eager.filter(\n",
    "      (pl.col(\"fare_amount\") > 0) &\n",
    "      (pl.col(\"tip_amount\") > 0)\n",
    "    ).select([\n",
    "      \"tpep_pickup_datetime\", \"tip_amount\", \"fare_amount\", \"total_amount\",\n",
    "      (pl.col(\"tip_amount\") / (pl.col(\"total_amount\") - pl.col(\"tip_amount\"))).alias(\"tip_perc\"),\n",
    "      pl.col(\"tpep_pickup_datetime\").dt.hour().alias(\"hour\"),\n",
    "      pl.col(\"tpep_pickup_datetime\").dt.weekday().alias(\"wday\")\n",
    "    ]).groupby(\n",
    "      [\"hour\",\"wday\"]\n",
    "    ).agg([\n",
    "      pl.mean(\"tip_perc\").alias(\"mean_tip_perc\")\n",
    "    ]).with_columns([\n",
    "      pl.col(\"mean_tip_perc\").round(3)\n",
    "    ]).with_columns([\n",
    "      pl.all().sort_by([\"wday\", \"hour\"])\n",
    "    ]).pivot(\n",
    "      values=\"mean_tip_perc\", index=\"wday\", columns=\"hour\"\n",
    "    )"
   ]
  },
  {
   "cell_type": "code",
   "execution_count": null,
   "id": "550d18a9-05fe-4ef5-a6d6-259b9ee230ef",
   "metadata": {},
   "outputs": [],
   "source": [
    "%timeit lazy()"
   ]
  },
  {
   "cell_type": "code",
   "execution_count": null,
   "id": "5594515f-44ad-4ced-b461-3fa98b0a209a",
   "metadata": {},
   "outputs": [],
   "source": [
    "%timeit eager()"
   ]
  }
 ],
 "metadata": {
  "kernelspec": {
   "display_name": "python3",
   "language": "python",
   "name": "python3"
  }
 },
 "nbformat": 4,
 "nbformat_minor": 5
}
