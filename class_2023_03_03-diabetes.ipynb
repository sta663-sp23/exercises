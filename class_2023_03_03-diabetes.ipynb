{
 "cells": [
  {
   "cell_type": "markdown",
   "id": "25381fc4-aa69-4b20-8474-073a07080072",
   "metadata": {},
   "source": [
    "# Diabetes Example"
   ]
  },
  {
   "cell_type": "markdown",
   "id": "7c02dca9-28c8-42ea-a2d2-e92c79e1a2d8",
   "metadata": {
    "tags": []
   },
   "source": [
    "## Setup"
   ]
  },
  {
   "cell_type": "code",
   "execution_count": 1,
   "id": "87581066-3fb6-4ac9-88a8-c6b194fe5ce3",
   "metadata": {
    "tags": []
   },
   "outputs": [],
   "source": [
    "import numpy as np\n",
    "import pandas as pd\n",
    "import seaborn as sns\n",
    "import pandas as pd\n",
    "import matplotlib.pyplot as plt"
   ]
  },
  {
   "cell_type": "code",
   "execution_count": 2,
   "id": "d659cb46-b3a1-4234-aad1-e8b6581fbd28",
   "metadata": {
    "tags": []
   },
   "outputs": [],
   "source": [
    "from sklearn.linear_model import Lasso\n",
    "from sklearn.preprocessing import StandardScaler\n",
    "from sklearn.pipeline import make_pipeline\n",
    "from sklearn.model_selection import GridSearchCV, KFold"
   ]
  },
  {
   "cell_type": "markdown",
   "id": "585a8966-e0c5-4be9-afab-a2686960238e",
   "metadata": {},
   "source": [
    "## Data"
   ]
  },
  {
   "cell_type": "code",
   "execution_count": 3,
   "id": "bf5fa05a-df94-4525-9a8b-1ff5b147e888",
   "metadata": {
    "tags": []
   },
   "outputs": [],
   "source": [
    "from sklearn import datasets\n",
    "X, y = datasets.load_diabetes(return_X_y=True)"
   ]
  },
  {
   "cell_type": "markdown",
   "id": "ca1aa7c9-9d2b-48af-bf84-168831a5264c",
   "metadata": {},
   "source": [
    "## Lasso Grid Search"
   ]
  },
  {
   "cell_type": "code",
   "execution_count": 4,
   "id": "4063b920-f905-45a5-8b9d-869118a3ef64",
   "metadata": {
    "tags": []
   },
   "outputs": [],
   "source": [
    "p = make_pipeline(\n",
    "    StandardScaler(),\n",
    "    Lasso()\n",
    ")\n",
    "\n",
    "gs = GridSearchCV(\n",
    "  p,\n",
    "  param_grid = {\"lasso__alpha\": np.logspace(-4, 1, 100)},\n",
    "  scoring = 'neg_root_mean_squared_error',\n",
    "  cv = KFold(10, shuffle=True, random_state=12345)\n",
    ").fit(\n",
    "  X, y\n",
    ")"
   ]
  },
  {
   "cell_type": "code",
   "execution_count": 5,
   "id": "dbc6f7f2-d217-4f7a-8168-4b9cfea4dad3",
   "metadata": {
    "tags": []
   },
   "outputs": [
    {
     "data": {
      "text/plain": [
       "{'lasso__alpha': 0.08497534359086438}"
      ]
     },
     "execution_count": 5,
     "metadata": {},
     "output_type": "execute_result"
    }
   ],
   "source": [
    "gs.best_params_"
   ]
  },
  {
   "cell_type": "code",
   "execution_count": 6,
   "id": "46069e6e-7543-4784-a37d-2cbf3bba3c4a",
   "metadata": {
    "tags": []
   },
   "outputs": [
    {
     "data": {
      "text/plain": [
       "58"
      ]
     },
     "execution_count": 6,
     "metadata": {},
     "output_type": "execute_result"
    }
   ],
   "source": [
    "gs.best_index_"
   ]
  },
  {
   "cell_type": "code",
   "execution_count": 7,
   "id": "0d440c9b-1893-4e1c-9162-81c34109ac73",
   "metadata": {
    "tags": []
   },
   "outputs": [
    {
     "data": {
      "text/plain": [
       "-54.458667586675915"
      ]
     },
     "execution_count": 7,
     "metadata": {},
     "output_type": "execute_result"
    }
   ],
   "source": [
    "gs.best_score_"
   ]
  },
  {
   "cell_type": "code",
   "execution_count": 8,
   "id": "8a2a306f-db58-432a-9016-9f3d9ddb5767",
   "metadata": {
    "tags": []
   },
   "outputs": [
    {
     "data": {
      "text/html": [
       "<style>#sk-container-id-1 {color: black;background-color: white;}#sk-container-id-1 pre{padding: 0;}#sk-container-id-1 div.sk-toggleable {background-color: white;}#sk-container-id-1 label.sk-toggleable__label {cursor: pointer;display: block;width: 100%;margin-bottom: 0;padding: 0.3em;box-sizing: border-box;text-align: center;}#sk-container-id-1 label.sk-toggleable__label-arrow:before {content: \"▸\";float: left;margin-right: 0.25em;color: #696969;}#sk-container-id-1 label.sk-toggleable__label-arrow:hover:before {color: black;}#sk-container-id-1 div.sk-estimator:hover label.sk-toggleable__label-arrow:before {color: black;}#sk-container-id-1 div.sk-toggleable__content {max-height: 0;max-width: 0;overflow: hidden;text-align: left;background-color: #f0f8ff;}#sk-container-id-1 div.sk-toggleable__content pre {margin: 0.2em;color: black;border-radius: 0.25em;background-color: #f0f8ff;}#sk-container-id-1 input.sk-toggleable__control:checked~div.sk-toggleable__content {max-height: 200px;max-width: 100%;overflow: auto;}#sk-container-id-1 input.sk-toggleable__control:checked~label.sk-toggleable__label-arrow:before {content: \"▾\";}#sk-container-id-1 div.sk-estimator input.sk-toggleable__control:checked~label.sk-toggleable__label {background-color: #d4ebff;}#sk-container-id-1 div.sk-label input.sk-toggleable__control:checked~label.sk-toggleable__label {background-color: #d4ebff;}#sk-container-id-1 input.sk-hidden--visually {border: 0;clip: rect(1px 1px 1px 1px);clip: rect(1px, 1px, 1px, 1px);height: 1px;margin: -1px;overflow: hidden;padding: 0;position: absolute;width: 1px;}#sk-container-id-1 div.sk-estimator {font-family: monospace;background-color: #f0f8ff;border: 1px dotted black;border-radius: 0.25em;box-sizing: border-box;margin-bottom: 0.5em;}#sk-container-id-1 div.sk-estimator:hover {background-color: #d4ebff;}#sk-container-id-1 div.sk-parallel-item::after {content: \"\";width: 100%;border-bottom: 1px solid gray;flex-grow: 1;}#sk-container-id-1 div.sk-label:hover label.sk-toggleable__label {background-color: #d4ebff;}#sk-container-id-1 div.sk-serial::before {content: \"\";position: absolute;border-left: 1px solid gray;box-sizing: border-box;top: 0;bottom: 0;left: 50%;z-index: 0;}#sk-container-id-1 div.sk-serial {display: flex;flex-direction: column;align-items: center;background-color: white;padding-right: 0.2em;padding-left: 0.2em;position: relative;}#sk-container-id-1 div.sk-item {position: relative;z-index: 1;}#sk-container-id-1 div.sk-parallel {display: flex;align-items: stretch;justify-content: center;background-color: white;position: relative;}#sk-container-id-1 div.sk-item::before, #sk-container-id-1 div.sk-parallel-item::before {content: \"\";position: absolute;border-left: 1px solid gray;box-sizing: border-box;top: 0;bottom: 0;left: 50%;z-index: -1;}#sk-container-id-1 div.sk-parallel-item {display: flex;flex-direction: column;z-index: 1;position: relative;background-color: white;}#sk-container-id-1 div.sk-parallel-item:first-child::after {align-self: flex-end;width: 50%;}#sk-container-id-1 div.sk-parallel-item:last-child::after {align-self: flex-start;width: 50%;}#sk-container-id-1 div.sk-parallel-item:only-child::after {width: 0;}#sk-container-id-1 div.sk-dashed-wrapped {border: 1px dashed gray;margin: 0 0.4em 0.5em 0.4em;box-sizing: border-box;padding-bottom: 0.4em;background-color: white;}#sk-container-id-1 div.sk-label label {font-family: monospace;font-weight: bold;display: inline-block;line-height: 1.2em;}#sk-container-id-1 div.sk-label-container {text-align: center;}#sk-container-id-1 div.sk-container {/* jupyter's `normalize.less` sets `[hidden] { display: none; }` but bootstrap.min.css set `[hidden] { display: none !important; }` so we also need the `!important` here to be able to override the default hidden behavior on the sphinx rendered scikit-learn.org. See: https://github.com/scikit-learn/scikit-learn/issues/21755 */display: inline-block !important;position: relative;}#sk-container-id-1 div.sk-text-repr-fallback {display: none;}</style><div id=\"sk-container-id-1\" class=\"sk-top-container\"><div class=\"sk-text-repr-fallback\"><pre>Pipeline(steps=[(&#x27;standardscaler&#x27;, StandardScaler()),\n",
       "                (&#x27;lasso&#x27;, Lasso(alpha=0.08497534359086438))])</pre><b>In a Jupyter environment, please rerun this cell to show the HTML representation or trust the notebook. <br />On GitHub, the HTML representation is unable to render, please try loading this page with nbviewer.org.</b></div><div class=\"sk-container\" hidden><div class=\"sk-item sk-dashed-wrapped\"><div class=\"sk-label-container\"><div class=\"sk-label sk-toggleable\"><input class=\"sk-toggleable__control sk-hidden--visually\" id=\"sk-estimator-id-1\" type=\"checkbox\" ><label for=\"sk-estimator-id-1\" class=\"sk-toggleable__label sk-toggleable__label-arrow\">Pipeline</label><div class=\"sk-toggleable__content\"><pre>Pipeline(steps=[(&#x27;standardscaler&#x27;, StandardScaler()),\n",
       "                (&#x27;lasso&#x27;, Lasso(alpha=0.08497534359086438))])</pre></div></div></div><div class=\"sk-serial\"><div class=\"sk-item\"><div class=\"sk-estimator sk-toggleable\"><input class=\"sk-toggleable__control sk-hidden--visually\" id=\"sk-estimator-id-2\" type=\"checkbox\" ><label for=\"sk-estimator-id-2\" class=\"sk-toggleable__label sk-toggleable__label-arrow\">StandardScaler</label><div class=\"sk-toggleable__content\"><pre>StandardScaler()</pre></div></div></div><div class=\"sk-item\"><div class=\"sk-estimator sk-toggleable\"><input class=\"sk-toggleable__control sk-hidden--visually\" id=\"sk-estimator-id-3\" type=\"checkbox\" ><label for=\"sk-estimator-id-3\" class=\"sk-toggleable__label sk-toggleable__label-arrow\">Lasso</label><div class=\"sk-toggleable__content\"><pre>Lasso(alpha=0.08497534359086438)</pre></div></div></div></div></div></div></div>"
      ],
      "text/plain": [
       "Pipeline(steps=[('standardscaler', StandardScaler()),\n",
       "                ('lasso', Lasso(alpha=0.08497534359086438))])"
      ]
     },
     "execution_count": 8,
     "metadata": {},
     "output_type": "execute_result"
    }
   ],
   "source": [
    "gs.best_estimator_"
   ]
  },
  {
   "cell_type": "markdown",
   "id": "4d8d662a-96ab-421c-accc-018725d448f7",
   "metadata": {},
   "source": [
    "## Uncertainty"
   ]
  },
  {
   "cell_type": "code",
   "execution_count": 9,
   "id": "ef7ac142-72f7-4738-8915-99718b1ee994",
   "metadata": {
    "tags": []
   },
   "outputs": [],
   "source": [
    "alpha = np.array(gs.cv_results_[\"param_lasso__alpha\"], dtype=\"float64\")\n",
    "score = -gs.cv_results_[\"mean_test_score\"]\n",
    "score_std = gs.cv_results_[\"std_test_score\"]\n",
    "n_folds = gs.cv.get_n_splits()"
   ]
  },
  {
   "cell_type": "code",
   "execution_count": 10,
   "id": "9a75304f-0ccb-4da0-be70-ef4a505a3e9e",
   "metadata": {
    "tags": []
   },
   "outputs": [
    {
     "data": {
      "text/plain": [
       "array([1.00000000e-04, 1.12332403e-04, 1.26185688e-04, 1.41747416e-04,\n",
       "       1.59228279e-04, 1.78864953e-04, 2.00923300e-04, 2.25701972e-04,\n",
       "       2.53536449e-04, 2.84803587e-04, 3.19926714e-04, 3.59381366e-04,\n",
       "       4.03701726e-04, 4.53487851e-04, 5.09413801e-04, 5.72236766e-04,\n",
       "       6.42807312e-04, 7.22080902e-04, 8.11130831e-04, 9.11162756e-04,\n",
       "       1.02353102e-03, 1.14975700e-03, 1.29154967e-03, 1.45082878e-03,\n",
       "       1.62975083e-03, 1.83073828e-03, 2.05651231e-03, 2.31012970e-03,\n",
       "       2.59502421e-03, 2.91505306e-03, 3.27454916e-03, 3.67837977e-03,\n",
       "       4.13201240e-03, 4.64158883e-03, 5.21400829e-03, 5.85702082e-03,\n",
       "       6.57933225e-03, 7.39072203e-03, 8.30217568e-03, 9.32603347e-03,\n",
       "       1.04761575e-02, 1.17681195e-02, 1.32194115e-02, 1.48496826e-02,\n",
       "       1.66810054e-02, 1.87381742e-02, 2.10490414e-02, 2.36448941e-02,\n",
       "       2.65608778e-02, 2.98364724e-02, 3.35160265e-02, 3.76493581e-02,\n",
       "       4.22924287e-02, 4.75081016e-02, 5.33669923e-02, 5.99484250e-02,\n",
       "       6.73415066e-02, 7.56463328e-02, 8.49753436e-02, 9.54548457e-02,\n",
       "       1.07226722e-01, 1.20450354e-01, 1.35304777e-01, 1.51991108e-01,\n",
       "       1.70735265e-01, 1.91791026e-01, 2.15443469e-01, 2.42012826e-01,\n",
       "       2.71858824e-01, 3.05385551e-01, 3.43046929e-01, 3.85352859e-01,\n",
       "       4.32876128e-01, 4.86260158e-01, 5.46227722e-01, 6.13590727e-01,\n",
       "       6.89261210e-01, 7.74263683e-01, 8.69749003e-01, 9.77009957e-01,\n",
       "       1.09749877e+00, 1.23284674e+00, 1.38488637e+00, 1.55567614e+00,\n",
       "       1.74752840e+00, 1.96304065e+00, 2.20513074e+00, 2.47707636e+00,\n",
       "       2.78255940e+00, 3.12571585e+00, 3.51119173e+00, 3.94420606e+00,\n",
       "       4.43062146e+00, 4.97702356e+00, 5.59081018e+00, 6.28029144e+00,\n",
       "       7.05480231e+00, 7.92482898e+00, 8.90215085e+00, 1.00000000e+01])"
      ]
     },
     "execution_count": 10,
     "metadata": {},
     "output_type": "execute_result"
    }
   ],
   "source": [
    "alpha"
   ]
  },
  {
   "cell_type": "code",
   "execution_count": 11,
   "id": "496ea8aa-cefe-41fe-a93d-595d874c288d",
   "metadata": {
    "tags": []
   },
   "outputs": [
    {
     "data": {
      "text/plain": [
       "array([6.90286341, 6.90286532, 6.90286746, 6.90286986, 6.90287257,\n",
       "       6.90287559, 6.902879  , 6.90288282, 6.90288713, 6.90289197,\n",
       "       6.90289738, 6.90290349, 6.90291031, 6.90291803, 6.90292665,\n",
       "       6.90293638, 6.90294733, 6.90295956, 6.90297334, 6.90298882,\n",
       "       6.90300623, 6.90302578, 6.90304784, 6.90307256, 6.90310027,\n",
       "       6.90313162, 6.90316661, 6.90320625, 6.90325061, 6.90330045,\n",
       "       6.90335686, 6.90342006, 6.90349116, 6.9035712 , 6.90366164,\n",
       "       6.90376299, 6.9038772 , 6.90400656, 6.90415224, 6.9043162 ,\n",
       "       6.90450149, 6.90471058, 6.9049937 , 6.90590478, 6.9069327 ,\n",
       "       6.90809194, 6.90940154, 6.9104053 , 6.91138242, 6.91249077,\n",
       "       6.91375145, 6.91518269, 6.91676688, 6.91833753, 6.91903606,\n",
       "       6.91981767, 6.92066711, 6.92183298, 6.92319433, 6.92432526,\n",
       "       6.92581139, 6.92844518, 6.93146534, 6.93650874, 6.94220506,\n",
       "       6.94793425, 6.95382264, 6.96366309, 6.9708448 , 6.97798459,\n",
       "       6.97652581, 6.96657023, 6.9554935 , 6.9430156 , 6.92712228,\n",
       "       6.90638089, 6.88367494, 6.86193097, 6.83732649, 6.80828361,\n",
       "       6.77498488, 6.73719239, 6.6903404 , 6.63770725, 6.5812318 ,\n",
       "       6.51582488, 6.44289559, 6.36693967, 6.30245918, 6.23911398,\n",
       "       6.18246962, 6.11864081, 6.05780503, 5.99373817, 5.91708989,\n",
       "       5.88175664, 5.82882102, 5.79026861, 5.76155211, 5.73223271])"
      ]
     },
     "execution_count": 11,
     "metadata": {},
     "output_type": "execute_result"
    }
   ],
   "source": [
    "score_std"
   ]
  },
  {
   "cell_type": "code",
   "execution_count": 12,
   "id": "95d61c77-3349-409d-8ec6-fc63ad456392",
   "metadata": {
    "tags": []
   },
   "outputs": [
    {
     "data": {
      "image/png": "[encoded data removed]",
      "text/plain": [
       "<Figure size 640x480 with 1 Axes>"
      ]
     },
     "metadata": {},
     "output_type": "display_data"
    }
   ],
   "source": [
    "plt.figure(layout=\"constrained\")\n",
    "\n",
    "ax = sns.lineplot(x=alpha, y=score)\n",
    "ax.set_xscale(\"log\")\n",
    "\n",
    "plt.fill_between(\n",
    "  x = alpha,\n",
    "  y1 = score + 1.96*score_std / np.sqrt(n_folds),\n",
    "  y2 = score - 1.96*score_std / np.sqrt(n_folds),\n",
    "  alpha = 0.2\n",
    ")\n",
    "\n",
    "ax.set_xlim(1e-5, 1)\n",
    "#ax.set_ylim(54.4, 54.6)\n",
    "\n",
    "plt.show()"
   ]
  },
  {
   "cell_type": "markdown",
   "id": "709f5730-35e7-4e22-81ec-edbadd204728",
   "metadata": {
    "tags": []
   },
   "source": [
    "## Traceplot"
   ]
  },
  {
   "cell_type": "code",
   "execution_count": 13,
   "id": "5eaeff3b-ed76-4e0d-ab48-8662beb1f6ec",
   "metadata": {
    "tags": []
   },
   "outputs": [
    {
     "data": {
      "text/html": [
       "<div>\n",
       "<style scoped>\n",
       "    .dataframe tbody tr th:only-of-type {\n",
       "        vertical-align: middle;\n",
       "    }\n",
       "\n",
       "    .dataframe tbody tr th {\n",
       "        vertical-align: top;\n",
       "    }\n",
       "\n",
       "    .dataframe thead th {\n",
       "        text-align: right;\n",
       "    }\n",
       "</style>\n",
       "<table border=\"1\" class=\"dataframe\">\n",
       "  <thead>\n",
       "    <tr style=\"text-align: right;\">\n",
       "      <th></th>\n",
       "      <th>x0</th>\n",
       "      <th>x1</th>\n",
       "      <th>x2</th>\n",
       "      <th>x3</th>\n",
       "      <th>x4</th>\n",
       "      <th>x5</th>\n",
       "      <th>x6</th>\n",
       "      <th>x7</th>\n",
       "      <th>x8</th>\n",
       "      <th>x9</th>\n",
       "      <th>alpha</th>\n",
       "    </tr>\n",
       "  </thead>\n",
       "  <tbody>\n",
       "    <tr>\n",
       "      <th>0</th>\n",
       "      <td>-0.475891</td>\n",
       "      <td>-11.406659</td>\n",
       "      <td>24.726644</td>\n",
       "      <td>15.429187</td>\n",
       "      <td>-37.663674</td>\n",
       "      <td>22.663639</td>\n",
       "      <td>4.798374</td>\n",
       "      <td>8.419185</td>\n",
       "      <td>35.728576</td>\n",
       "      <td>3.216640</td>\n",
       "      <td>0.000100</td>\n",
       "    </tr>\n",
       "    <tr>\n",
       "      <th>1</th>\n",
       "      <td>-0.475857</td>\n",
       "      <td>-11.406628</td>\n",
       "      <td>24.726659</td>\n",
       "      <td>15.429154</td>\n",
       "      <td>-37.661236</td>\n",
       "      <td>22.661763</td>\n",
       "      <td>4.797211</td>\n",
       "      <td>8.418757</td>\n",
       "      <td>35.727697</td>\n",
       "      <td>3.216635</td>\n",
       "      <td>0.000115</td>\n",
       "    </tr>\n",
       "    <tr>\n",
       "      <th>2</th>\n",
       "      <td>-0.475818</td>\n",
       "      <td>-11.406592</td>\n",
       "      <td>24.726675</td>\n",
       "      <td>15.429117</td>\n",
       "      <td>-37.658434</td>\n",
       "      <td>22.659607</td>\n",
       "      <td>4.795874</td>\n",
       "      <td>8.418266</td>\n",
       "      <td>35.726686</td>\n",
       "      <td>3.216629</td>\n",
       "      <td>0.000132</td>\n",
       "    </tr>\n",
       "    <tr>\n",
       "      <th>3</th>\n",
       "      <td>-0.475772</td>\n",
       "      <td>-11.406551</td>\n",
       "      <td>24.726694</td>\n",
       "      <td>15.429074</td>\n",
       "      <td>-37.655211</td>\n",
       "      <td>22.657128</td>\n",
       "      <td>4.794337</td>\n",
       "      <td>8.417701</td>\n",
       "      <td>35.725524</td>\n",
       "      <td>3.216622</td>\n",
       "      <td>0.000152</td>\n",
       "    </tr>\n",
       "    <tr>\n",
       "      <th>4</th>\n",
       "      <td>-0.475720</td>\n",
       "      <td>-11.406503</td>\n",
       "      <td>24.726716</td>\n",
       "      <td>15.429024</td>\n",
       "      <td>-37.651507</td>\n",
       "      <td>22.654278</td>\n",
       "      <td>4.792570</td>\n",
       "      <td>8.417051</td>\n",
       "      <td>35.724188</td>\n",
       "      <td>3.216614</td>\n",
       "      <td>0.000175</td>\n",
       "    </tr>\n",
       "    <tr>\n",
       "      <th>...</th>\n",
       "      <td>...</td>\n",
       "      <td>...</td>\n",
       "      <td>...</td>\n",
       "      <td>...</td>\n",
       "      <td>...</td>\n",
       "      <td>...</td>\n",
       "      <td>...</td>\n",
       "      <td>...</td>\n",
       "      <td>...</td>\n",
       "      <td>...</td>\n",
       "      <td>...</td>\n",
       "    </tr>\n",
       "    <tr>\n",
       "      <th>95</th>\n",
       "      <td>0.000000</td>\n",
       "      <td>0.000000</td>\n",
       "      <td>0.000000</td>\n",
       "      <td>0.000000</td>\n",
       "      <td>0.000000</td>\n",
       "      <td>0.000000</td>\n",
       "      <td>-0.000000</td>\n",
       "      <td>0.000000</td>\n",
       "      <td>0.000000</td>\n",
       "      <td>0.000000</td>\n",
       "      <td>57.223677</td>\n",
       "    </tr>\n",
       "    <tr>\n",
       "      <th>96</th>\n",
       "      <td>0.000000</td>\n",
       "      <td>0.000000</td>\n",
       "      <td>0.000000</td>\n",
       "      <td>0.000000</td>\n",
       "      <td>0.000000</td>\n",
       "      <td>0.000000</td>\n",
       "      <td>-0.000000</td>\n",
       "      <td>0.000000</td>\n",
       "      <td>0.000000</td>\n",
       "      <td>0.000000</td>\n",
       "      <td>65.793322</td>\n",
       "    </tr>\n",
       "    <tr>\n",
       "      <th>97</th>\n",
       "      <td>0.000000</td>\n",
       "      <td>0.000000</td>\n",
       "      <td>0.000000</td>\n",
       "      <td>0.000000</td>\n",
       "      <td>0.000000</td>\n",
       "      <td>0.000000</td>\n",
       "      <td>-0.000000</td>\n",
       "      <td>0.000000</td>\n",
       "      <td>0.000000</td>\n",
       "      <td>0.000000</td>\n",
       "      <td>75.646333</td>\n",
       "    </tr>\n",
       "    <tr>\n",
       "      <th>98</th>\n",
       "      <td>0.000000</td>\n",
       "      <td>0.000000</td>\n",
       "      <td>0.000000</td>\n",
       "      <td>0.000000</td>\n",
       "      <td>0.000000</td>\n",
       "      <td>0.000000</td>\n",
       "      <td>-0.000000</td>\n",
       "      <td>0.000000</td>\n",
       "      <td>0.000000</td>\n",
       "      <td>0.000000</td>\n",
       "      <td>86.974900</td>\n",
       "    </tr>\n",
       "    <tr>\n",
       "      <th>99</th>\n",
       "      <td>0.000000</td>\n",
       "      <td>0.000000</td>\n",
       "      <td>0.000000</td>\n",
       "      <td>0.000000</td>\n",
       "      <td>0.000000</td>\n",
       "      <td>0.000000</td>\n",
       "      <td>-0.000000</td>\n",
       "      <td>0.000000</td>\n",
       "      <td>0.000000</td>\n",
       "      <td>0.000000</td>\n",
       "      <td>100.000000</td>\n",
       "    </tr>\n",
       "  </tbody>\n",
       "</table>\n",
       "<p>100 rows × 11 columns</p>\n",
       "</div>"
      ],
      "text/plain": [
       "          x0         x1         x2         x3         x4         x5        x6  \\\n",
       "0  -0.475891 -11.406659  24.726644  15.429187 -37.663674  22.663639  4.798374   \n",
       "1  -0.475857 -11.406628  24.726659  15.429154 -37.661236  22.661763  4.797211   \n",
       "2  -0.475818 -11.406592  24.726675  15.429117 -37.658434  22.659607  4.795874   \n",
       "3  -0.475772 -11.406551  24.726694  15.429074 -37.655211  22.657128  4.794337   \n",
       "4  -0.475720 -11.406503  24.726716  15.429024 -37.651507  22.654278  4.792570   \n",
       "..       ...        ...        ...        ...        ...        ...       ...   \n",
       "95  0.000000   0.000000   0.000000   0.000000   0.000000   0.000000 -0.000000   \n",
       "96  0.000000   0.000000   0.000000   0.000000   0.000000   0.000000 -0.000000   \n",
       "97  0.000000   0.000000   0.000000   0.000000   0.000000   0.000000 -0.000000   \n",
       "98  0.000000   0.000000   0.000000   0.000000   0.000000   0.000000 -0.000000   \n",
       "99  0.000000   0.000000   0.000000   0.000000   0.000000   0.000000 -0.000000   \n",
       "\n",
       "          x7         x8        x9       alpha  \n",
       "0   8.419185  35.728576  3.216640    0.000100  \n",
       "1   8.418757  35.727697  3.216635    0.000115  \n",
       "2   8.418266  35.726686  3.216629    0.000132  \n",
       "3   8.417701  35.725524  3.216622    0.000152  \n",
       "4   8.417051  35.724188  3.216614    0.000175  \n",
       "..       ...        ...       ...         ...  \n",
       "95  0.000000   0.000000  0.000000   57.223677  \n",
       "96  0.000000   0.000000  0.000000   65.793322  \n",
       "97  0.000000   0.000000  0.000000   75.646333  \n",
       "98  0.000000   0.000000  0.000000   86.974900  \n",
       "99  0.000000   0.000000  0.000000  100.000000  \n",
       "\n",
       "[100 rows x 11 columns]"
      ]
     },
     "execution_count": 13,
     "metadata": {},
     "output_type": "execute_result"
    }
   ],
   "source": [
    "alpha = np.logspace(-4, 2, 100)\n",
    "betas = []\n",
    "\n",
    "for a in alpha:\n",
    "    p = p.set_params(lasso__alpha = a)\n",
    "    p = p.fit(X, y)\n",
    "    \n",
    "    betas.append(p.named_steps[\"lasso\"].coef_)\n",
    "\n",
    "res = pd.DataFrame(\n",
    "  data = betas, columns = p[:-1].get_feature_names_out()\n",
    ").assign(\n",
    "  alpha = alpha  \n",
    ")\n",
    "\n",
    "res"
   ]
  },
  {
   "cell_type": "code",
   "execution_count": 14,
   "id": "39b7b829-82e2-49d6-9dbc-6fbe90e04cc7",
   "metadata": {
    "tags": []
   },
   "outputs": [
    {
     "data": {
      "image/png": "[encoded data removed]",
      "text/plain": [
       "<Figure size 1067.12x500 with 1 Axes>"
      ]
     },
     "metadata": {},
     "output_type": "display_data"
    }
   ],
   "source": [
    "g = sns.relplot(\n",
    "  data = res.melt(id_vars=\"alpha\", value_name=\"coef values\", var_name=\"feature\"),\n",
    "  x = \"alpha\", y = \"coef values\", hue = \"feature\",\n",
    "  kind = \"line\", aspect=2\n",
    ")\n",
    "g.set(xscale=\"log\")\n",
    "plt.axvline(x = gs.best_params_[\"lasso__alpha\"], color=\"k\", linestyle=\"--\")\n",
    "plt.show()"
   ]
  },
  {
   "cell_type": "code",
   "execution_count": null,
   "id": "8a4b69d4-fc7c-4302-b1e8-737d8b2f4d2b",
   "metadata": {},
   "outputs": [],
   "source": []
  }
 ],
 "metadata": {
  "kernelspec": {
   "display_name": "Python 3 (ipykernel)",
   "language": "python",
   "name": "python3"
  },
  "language_info": {
   "codemirror_mode": {
    "name": "ipython",
    "version": 3
   },
   "file_extension": ".py",
   "mimetype": "text/x-python",
   "name": "python",
   "nbconvert_exporter": "python",
   "pygments_lexer": "ipython3",
   "version": "3.10.10"
  }
 },
 "nbformat": 4,
 "nbformat_minor": 5
}
