{
 "cells": [
  {
   "cell_type": "markdown",
   "id": "25381fc4-aa69-4b20-8474-073a07080072",
   "metadata": {},
   "source": [
    "# Diabetes Example"
   ]
  },
  {
   "cell_type": "markdown",
   "id": "7c02dca9-28c8-42ea-a2d2-e92c79e1a2d8",
   "metadata": {
    "tags": []
   },
   "source": [
    "## Setup"
   ]
  },
  {
   "cell_type": "code",
   "execution_count": 1,
   "id": "87581066-3fb6-4ac9-88a8-c6b194fe5ce3",
   "metadata": {
    "tags": []
   },
   "outputs": [],
   "source": [
    "import numpy as np\n",
    "import pandas as pd\n",
    "import seaborn as sns\n",
    "import pandas as pd\n",
    "import matplotlib.pyplot as plt"
   ]
  },
  {
   "cell_type": "code",
   "execution_count": 2,
   "id": "d659cb46-b3a1-4234-aad1-e8b6581fbd28",
   "metadata": {
    "tags": []
   },
   "outputs": [],
   "source": [
    "from sklearn.linear_model import Lasso\n",
    "from sklearn.preprocessing import StandardScaler\n",
    "from sklearn.pipeline import make_pipeline\n",
    "from sklearn.model_selection import GridSearchCV, KFold"
   ]
  },
  {
   "cell_type": "markdown",
   "id": "585a8966-e0c5-4be9-afab-a2686960238e",
   "metadata": {},
   "source": [
    "## Data"
   ]
  },
  {
   "cell_type": "code",
   "execution_count": 3,
   "id": "bf5fa05a-df94-4525-9a8b-1ff5b147e888",
   "metadata": {
    "tags": []
   },
   "outputs": [],
   "source": [
    "from sklearn import datasets\n",
    "X, y = datasets.load_diabetes(return_X_y=True)"
   ]
  },
  {
   "cell_type": "markdown",
   "id": "ca1aa7c9-9d2b-48af-bf84-168831a5264c",
   "metadata": {},
   "source": [
    "## Lasso Grid Search"
   ]
  },
  {
   "cell_type": "code",
   "execution_count": null,
   "id": "4063b920-f905-45a5-8b9d-869118a3ef64",
   "metadata": {
    "tags": []
   },
   "outputs": [],
   "source": [
    "p = make_pipeline(\n",
    "    StandardScaler(),\n",
    "    Lasso()\n",
    ")\n",
    "\n",
    "gs = GridSearchCV(\n",
    "  p,\n",
    "  param_grid = {\"lasso__alpha\": np.logspace(-4, 1, 100)},\n",
    "  scoring = 'neg_root_mean_squared_error',\n",
    "  cv = KFold(10, shuffle=True, random_state=12345)\n",
    ").fit(\n",
    "  X, y\n",
    ")"
   ]
  },
  {
   "cell_type": "code",
   "execution_count": null,
   "id": "dbc6f7f2-d217-4f7a-8168-4b9cfea4dad3",
   "metadata": {
    "tags": []
   },
   "outputs": [],
   "source": [
    "gs.best_params_"
   ]
  },
  {
   "cell_type": "code",
   "execution_count": null,
   "id": "46069e6e-7543-4784-a37d-2cbf3bba3c4a",
   "metadata": {
    "tags": []
   },
   "outputs": [],
   "source": [
    "gs.best_index_"
   ]
  },
  {
   "cell_type": "code",
   "execution_count": null,
   "id": "0d440c9b-1893-4e1c-9162-81c34109ac73",
   "metadata": {
    "tags": []
   },
   "outputs": [],
   "source": [
    "gs.best_score_"
   ]
  },
  {
   "cell_type": "code",
   "execution_count": null,
   "id": "8a2a306f-db58-432a-9016-9f3d9ddb5767",
   "metadata": {
    "tags": []
   },
   "outputs": [],
   "source": [
    "gs.best_estimator_"
   ]
  },
  {
   "cell_type": "markdown",
   "id": "4d8d662a-96ab-421c-accc-018725d448f7",
   "metadata": {},
   "source": [
    "## Uncertainty"
   ]
  },
  {
   "cell_type": "code",
   "execution_count": null,
   "id": "ef7ac142-72f7-4738-8915-99718b1ee994",
   "metadata": {
    "tags": []
   },
   "outputs": [],
   "source": [
    "alpha = np.array(gs.cv_results_[\"param_lasso__alpha\"], dtype=\"float64\")\n",
    "score = -gs.cv_results_[\"mean_test_score\"]\n",
    "score_std = gs.cv_results_[\"std_test_score\"]\n",
    "n_folds = gs.cv.get_n_splits()"
   ]
  },
  {
   "cell_type": "code",
   "execution_count": null,
   "id": "9a75304f-0ccb-4da0-be70-ef4a505a3e9e",
   "metadata": {
    "tags": []
   },
   "outputs": [],
   "source": [
    "alpha"
   ]
  },
  {
   "cell_type": "code",
   "execution_count": null,
   "id": "496ea8aa-cefe-41fe-a93d-595d874c288d",
   "metadata": {
    "tags": []
   },
   "outputs": [],
   "source": [
    "score_std"
   ]
  },
  {
   "cell_type": "code",
   "execution_count": null,
   "id": "95d61c77-3349-409d-8ec6-fc63ad456392",
   "metadata": {
    "tags": []
   },
   "outputs": [],
   "source": [
    "plt.figure(layout=\"constrained\")\n",
    "\n",
    "ax = sns.lineplot(x=alpha, y=score)\n",
    "ax.set_xscale(\"log\")\n",
    "\n",
    "plt.fill_between(\n",
    "  x = alpha,\n",
    "  y1 = score + 1.96*score_std / np.sqrt(n_folds),\n",
    "  y2 = score - 1.96*score_std / np.sqrt(n_folds),\n",
    "  alpha = 0.2\n",
    ")\n",
    "\n",
    "ax.set_xlim(1e-5, 1)\n",
    "#ax.set_ylim(54.4, 54.6)\n",
    "\n",
    "plt.show()"
   ]
  },
  {
   "cell_type": "markdown",
   "id": "709f5730-35e7-4e22-81ec-edbadd204728",
   "metadata": {
    "tags": []
   },
   "source": [
    "## Traceplot"
   ]
  },
  {
   "cell_type": "code",
   "execution_count": null,
   "id": "5eaeff3b-ed76-4e0d-ab48-8662beb1f6ec",
   "metadata": {
    "tags": []
   },
   "outputs": [],
   "source": [
    "alpha = np.logspace(-4, 2, 100)\n",
    "betas = []\n",
    "\n",
    "for a in alpha:\n",
    "    p = p.set_params(lasso__alpha = a)\n",
    "    p = p.fit(X, y)\n",
    "    \n",
    "    betas.append(p.named_steps[\"lasso\"].coef_)\n",
    "\n",
    "res = pd.DataFrame(\n",
    "  data = betas, columns = p[:-1].get_feature_names_out()\n",
    ").assign(\n",
    "  alpha = alpha  \n",
    ")\n",
    "\n",
    "res"
   ]
  },
  {
   "cell_type": "code",
   "execution_count": null,
   "id": "39b7b829-82e2-49d6-9dbc-6fbe90e04cc7",
   "metadata": {
    "tags": []
   },
   "outputs": [],
   "source": [
    "g = sns.relplot(\n",
    "  data = res.melt(id_vars=\"alpha\", value_name=\"coef values\", var_name=\"feature\"),\n",
    "  x = \"alpha\", y = \"coef values\", hue = \"feature\",\n",
    "  kind = \"line\", aspect=2\n",
    ")\n",
    "g.set(xscale=\"log\")\n",
    "plt.axvline(x = gs.best_params_[\"lasso__alpha\"], color=\"k\", linestyle=\"--\")\n",
    "plt.show()"
   ]
  },
  {
   "cell_type": "code",
   "execution_count": null,
   "id": "8a4b69d4-fc7c-4302-b1e8-737d8b2f4d2b",
   "metadata": {},
   "outputs": [],
   "source": []
  }
 ],
 "metadata": {
  "kernelspec": {
   "display_name": "Python 3 (ipykernel)",
   "language": "python",
   "name": "python3"
  },
  "language_info": {
   "codemirror_mode": {
    "name": "ipython",
    "version": 3
   },
   "file_extension": ".py",
   "mimetype": "text/x-python",
   "name": "python",
   "nbconvert_exporter": "python",
   "pygments_lexer": "ipython3",
   "version": "3.10.10"
  }
 },
 "nbformat": 4,
 "nbformat_minor": 5
}
