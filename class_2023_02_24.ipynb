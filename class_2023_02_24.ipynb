{
 "cells": [
  {
   "cell_type": "code",
   "execution_count": 1,
   "id": "b12f70b9-c2ef-4de0-99d3-9952f62a325b",
   "metadata": {},
   "outputs": [],
   "source": [
    "from scipy import optimize, stats\n",
    "import numpy as np\n",
    "import timeit"
   ]
  },
  {
   "cell_type": "markdown",
   "id": "8e51e602-5570-4824-8209-9dab0fb694b3",
   "metadata": {},
   "source": [
    "## Examples"
   ]
  },
  {
   "cell_type": "code",
   "execution_count": 2,
   "id": "49c3a4ea-8698-459d-ad7b-5544bb212f62",
   "metadata": {
    "tags": []
   },
   "outputs": [],
   "source": [
    "def mk_quad(epsilon, ndim=2):\n",
    "  def f(x):\n",
    "    x = np.asarray(x)\n",
    "    y = x.copy()\n",
    "    y *= np.power(epsilon, np.arange(ndim))\n",
    "    return .33*np.sum(y**2)\n",
    "  \n",
    "  def gradient(x):\n",
    "    x = np.asarray(x)\n",
    "    y = x.copy()\n",
    "    scaling = np.power(epsilon, np.arange(ndim))\n",
    "    y *= scaling\n",
    "    return .33*2*scaling*y\n",
    "  \n",
    "  def hessian(x):\n",
    "    scaling = np.power(epsilon, np.arange(ndim))\n",
    "    return .33*2*np.diag(scaling)\n",
    "  \n",
    "  return f, gradient, hessian"
   ]
  },
  {
   "cell_type": "code",
   "execution_count": 3,
   "id": "2cdb4f00-2920-4768-975c-f5b6b829082a",
   "metadata": {},
   "outputs": [
    {
     "name": "stdout",
     "output_type": "stream",
     "text": [
      "         128904 function calls in 0.192 seconds\n",
      "\n",
      "   Ordered by: internal time\n",
      "\n",
      "   ncalls  tottime  percall  cumtime  percall filename:lineno(function)\n",
      "      100    0.032    0.000    0.187    0.002 _optimize.py:1318(_minimize_bfgs)\n",
      "    15200    0.016    0.000    0.068    0.000 {built-in method numpy.core._multiarray_umath.implement_array_function}\n",
      "     5800    0.016    0.000    0.016    0.000 {method 'reduce' of 'numpy.ufunc' objects}\n",
      "      900    0.009    0.000    0.092    0.000 _linesearch.py:91(scalar_search_wolfe1)\n",
      "     2600    0.008    0.000    0.032    0.000 _optimize.py:235(vecnorm)\n",
      "     1000    0.007    0.000    0.009    0.000 2689226355.py:8(gradient)\n",
      "     1000    0.007    0.000    0.020    0.000 2689226355.py:2(f)\n",
      "     3700    0.007    0.000    0.021    0.000 fromnumeric.py:69(_wrapreduction)\n",
      "     2000    0.006    0.000    0.015    0.000 numeric.py:2407(array_equal)\n",
      "      900    0.005    0.000    0.035    0.000 _linesearch.py:77(derphi)\n",
      "     5100    0.004    0.000    0.014    0.000 <__array_function__ internals>:177(dot)\n",
      "      900    0.004    0.000    0.046    0.000 _linesearch.py:73(phi)\n",
      "     2600    0.004    0.000    0.018    0.000 fromnumeric.py:2188(sum)\n",
      "     2100    0.004    0.000    0.005    0.000 shape_base.py:23(atleast_1d)\n",
      "     1000    0.003    0.000    0.027    0.000 _differentiable_functions.py:132(fun_wrapped)\n",
      "      900    0.003    0.000    0.100    0.000 _optimize.py:1144(_line_search_wolfe12)\n",
      "      900    0.003    0.000    0.097    0.000 _linesearch.py:31(line_search_wolfe1)\n",
      "     2600    0.003    0.000    0.024    0.000 <__array_function__ internals>:177(sum)\n",
      "     2000    0.003    0.000    0.003    0.000 {built-in method numpy.arange}\n",
      "     3700    0.003    0.000    0.003    0.000 fromnumeric.py:70(<dictcomp>)\n",
      "     1000    0.002    0.000    0.019    0.000 _differentiable_functions.py:162(grad_wrapped)\n",
      "     1000    0.002    0.000    0.044    0.000 _differentiable_functions.py:264(fun)\n",
      "     2100    0.002    0.000    0.002    0.000 {built-in method numpy.array}\n",
      "     2100    0.002    0.000    0.009    0.000 <__array_function__ internals>:177(atleast_1d)\n",
      "     2100    0.002    0.000    0.007    0.000 <__array_function__ internals>:177(copy)\n",
      "     2000    0.002    0.000    0.018    0.000 <__array_function__ internals>:177(array_equal)\n",
      "      900    0.002    0.000    0.006    0.000 _differentiable_functions.py:240(update_x)\n",
      "     8400    0.002    0.000    0.002    0.000 {built-in method numpy.asarray}\n",
      "      100    0.002    0.000    0.009    0.000 _differentiable_functions.py:86(__init__)\n",
      "     1000    0.001    0.000    0.008    0.000 fromnumeric.py:2703(amax)\n",
      "     1000    0.001    0.000    0.029    0.000 _differentiable_functions.py:270(grad)\n",
      "      100    0.001    0.000    0.191    0.002 _minimize.py:45(minimize)\n",
      "     2000    0.001    0.000    0.008    0.000 {method 'all' of 'numpy.ndarray' objects}\n",
      "     1900    0.001    0.000    0.001    0.000 {built-in method numpy.zeros}\n",
      "     1000    0.001    0.000    0.001    0.000 {method 'astype' of 'numpy.ndarray' objects}\n",
      "     2000    0.001    0.000    0.001    0.000 {method 'copy' of 'numpy.ndarray' objects}\n",
      "     2000    0.001    0.000    0.006    0.000 _methods.py:61(_all)\n",
      "     5100    0.001    0.000    0.001    0.000 multiarray.py:740(dot)\n",
      "     1000    0.001    0.000    0.010    0.000 <__array_function__ internals>:177(amax)\n",
      "     2100    0.001    0.000    0.003    0.000 function_base.py:871(copy)\n",
      "     4100    0.001    0.000    0.001    0.000 {built-in method builtins.isinstance}\n",
      "     1100    0.001    0.000    0.028    0.000 _differentiable_functions.py:249(_update_fun)\n",
      "     1100    0.001    0.000    0.021    0.000 _differentiable_functions.py:254(_update_grad)\n",
      "     1000    0.001    0.000    0.027    0.000 _differentiable_functions.py:154(update_fun)\n",
      "      100    0.001    0.000    0.001    0.000 twodim_base.py:162(eye)\n",
      "     1000    0.001    0.000    0.020    0.000 _differentiable_functions.py:166(update_grad)\n",
      "     1000    0.001    0.000    0.001    0.000 numeric.py:1878(isscalar)\n",
      "     2600    0.001    0.000    0.001    0.000 fromnumeric.py:2183(_sum_dispatcher)\n",
      "      100    0.001    0.000    0.001    0.000 linalg.py:2342(norm)\n",
      "     3700    0.001    0.000    0.001    0.000 {method 'items' of 'dict' objects}\n",
      "      900    0.001    0.000    0.001    0.000 {built-in method builtins.min}\n",
      "     2000    0.001    0.000    0.001    0.000 numeric.py:2403(_array_equal_dispatcher)\n",
      "     2400    0.001    0.000    0.001    0.000 {built-in method builtins.len}\n",
      "     2100    0.000    0.000    0.000    0.000 function_base.py:867(_copy_dispatcher)\n",
      "     2200    0.000    0.000    0.000    0.000 {method 'append' of 'list' objects}\n",
      "     2100    0.000    0.000    0.000    0.000 shape_base.py:19(_atleast_1d_dispatcher)\n",
      "     2200    0.000    0.000    0.000    0.000 {built-in method numpy.asanyarray}\n",
      "      100    0.000    0.000    0.009    0.000 _optimize.py:244(_prepare_scalar_function)\n",
      "      100    0.000    0.000    0.000    0.000 _minimize.py:973(standardize_constraints)\n",
      "        1    0.000    0.000    0.192    0.192 1069597549.py:4(run)\n",
      "     1000    0.000    0.000    0.000    0.000 fromnumeric.py:2698(_amax_dispatcher)\n",
      "      100    0.000    0.000    0.000    0.000 shape_base.py:81(atleast_2d)\n",
      "      900    0.000    0.000    0.000    0.000 {method 'pop' of 'dict' objects}\n",
      "      100    0.000    0.000    0.000    0.000 {method 'dot' of 'numpy.ndarray' objects}\n",
      "      100    0.000    0.000    0.001    0.000 fromnumeric.py:2333(any)\n",
      "      100    0.000    0.000    0.000    0.000 {built-in method builtins.getattr}\n",
      "      100    0.000    0.000    0.000    0.000 {method 'flatten' of 'numpy.ndarray' objects}\n",
      "      700    0.000    0.000    0.000    0.000 {built-in method builtins.callable}\n",
      "      100    0.000    0.000    0.000    0.000 {method 'reshape' of 'numpy.ndarray' objects}\n",
      "      100    0.000    0.000    0.002    0.000 <__array_function__ internals>:177(any)\n",
      "      100    0.000    0.000    0.001    0.000 <__array_function__ internals>:177(atleast_2d)\n",
      "      100    0.000    0.000    0.001    0.000 <__array_function__ internals>:177(norm)\n",
      "      100    0.000    0.000    0.000    0.000 {method 'any' of 'numpy.ndarray' objects}\n",
      "      100    0.000    0.000    0.000    0.000 _base.py:1301(isspmatrix)\n",
      "      100    0.000    0.000    0.000    0.000 _methods.py:55(_any)\n",
      "      100    0.000    0.000    0.000    0.000 linalg.py:117(isComplexType)\n",
      "      200    0.000    0.000    0.000    0.000 {built-in method builtins.issubclass}\n",
      "      100    0.000    0.000    0.000    0.000 {method 'ravel' of 'numpy.ndarray' objects}\n",
      "      200    0.000    0.000    0.000    0.000 {built-in method _operator.index}\n",
      "      100    0.000    0.000    0.000    0.000 _optimize.py:216(_check_unknown_options)\n",
      "      100    0.000    0.000    0.000    0.000 {method 'lower' of 'str' objects}\n",
      "      100    0.000    0.000    0.000    0.000 fromnumeric.py:2328(_any_dispatcher)\n",
      "      100    0.000    0.000    0.000    0.000 {method 'setdefault' of 'dict' objects}\n",
      "        1    0.000    0.000    0.192    0.192 {built-in method builtins.exec}\n",
      "      100    0.000    0.000    0.000    0.000 linalg.py:2338(_norm_dispatcher)\n",
      "      100    0.000    0.000    0.000    0.000 _optimize.py:324(hess)\n",
      "      100    0.000    0.000    0.000    0.000 shape_base.py:77(_atleast_2d_dispatcher)\n",
      "        1    0.000    0.000    0.192    0.192 <string>:1(<module>)\n",
      "        1    0.000    0.000    0.000    0.000 {method 'disable' of '_lsprof.Profiler' objects}\n",
      "\n",
      "\n"
     ]
    }
   ],
   "source": [
    "import cProfile\n",
    "\n",
    "f, grad, hess = mk_quad(0.7)\n",
    "def run():\n",
    "  for i in range(100):\n",
    "    optimize.minimize(fun = f, x0 = (1.6, 1.1), jac=grad, method=\"BFGS\", tol=1e-11)\n",
    "\n",
    "cProfile.run('run()', sort=\"tottime\")"
   ]
  },
  {
   "cell_type": "markdown",
   "id": "01ef1173-e122-4529-9ca4-aaa277c3ccf9",
   "metadata": {},
   "source": [
    "## Exercise 1"
   ]
  },
  {
   "cell_type": "code",
   "execution_count": 4,
   "id": "65baf4c6-e565-4a3d-9240-3455c8373b71",
   "metadata": {},
   "outputs": [],
   "source": [
    "def f(x):\n",
    "    return np.exp(x[0]-1) + np.exp(-x[1]+1)+(x[0]-x[1])**2\n",
    "\n",
    "def grad(x):\n",
    "    return [\n",
    "      np.exp(x[0]-1) + 2*(x[0]-x[1]),\n",
    "      -np.exp(-x[1]+1) - 2*(x[0]-x[1])\n",
    "    ]\n",
    "\n",
    "x0 = [0, 0]"
   ]
  },
  {
   "cell_type": "code",
   "execution_count": 5,
   "id": "81cf968b-afdb-4bea-9e6b-37a1ac80008a",
   "metadata": {
    "tags": []
   },
   "outputs": [
    {
     "data": {
      "text/plain": [
       "  message: Optimization terminated successfully.\n",
       "  success: True\n",
       "   status: 0\n",
       "      fun: 1.7973886823709806\n",
       "        x: [ 7.961e-01  1.204e+00]\n",
       "      nit: 7\n",
       "      jac: [ 9.113e-06 -2.533e-06]\n",
       " hess_inv: [[ 6.736e-01  4.859e-01]\n",
       "            [ 4.859e-01  7.045e-01]]\n",
       "     nfev: 8\n",
       "     njev: 8"
      ]
     },
     "execution_count": 5,
     "metadata": {},
     "output_type": "execute_result"
    }
   ],
   "source": [
    "optimize.minimize(fun=f, x0=x0, jac=grad, method=\"bfgs\")"
   ]
  },
  {
   "cell_type": "code",
   "execution_count": 6,
   "id": "c8224b10-4f35-45b9-afdf-80ae263482bc",
   "metadata": {
    "tags": []
   },
   "outputs": [
    {
     "data": {
      "text/plain": [
       " message: Optimization terminated successfully.\n",
       " success: True\n",
       "  status: 0\n",
       "     fun: 1.7973886823532366\n",
       "       x: [ 7.961e-01  1.204e+00]\n",
       "     nit: 9\n",
       "     jac: [-3.168e-06  7.683e-07]\n",
       "    nfev: 15\n",
       "    njev: 15"
      ]
     },
     "execution_count": 6,
     "metadata": {},
     "output_type": "execute_result"
    }
   ],
   "source": [
    "optimize.minimize(fun=f, x0=x0, jac=grad, method=\"cg\")"
   ]
  },
  {
   "cell_type": "code",
   "execution_count": 7,
   "id": "9f600e28-854a-405e-b1f9-91c00659c731",
   "metadata": {
    "tags": []
   },
   "outputs": [
    {
     "data": {
      "text/plain": [
       " message: Optimization terminated successfully.\n",
       " success: True\n",
       "  status: 0\n",
       "     fun: 1.7973886823506673\n",
       "       x: [ 7.961e-01  1.204e+00]\n",
       "     nit: 7\n",
       "     jac: [-7.069e-09  1.138e-08]\n",
       "    nfev: 8\n",
       "    njev: 22\n",
       "    nhev: 0"
      ]
     },
     "execution_count": 7,
     "metadata": {},
     "output_type": "execute_result"
    }
   ],
   "source": [
    "optimize.minimize(fun=f, x0=x0, jac=grad, method=\"newton-cg\")"
   ]
  },
  {
   "cell_type": "code",
   "execution_count": 8,
   "id": "3d3b73b6-5474-44d1-b245-951de1d68b1a",
   "metadata": {
    "tags": []
   },
   "outputs": [
    {
     "data": {
      "text/plain": [
       "       message: Optimization terminated successfully.\n",
       "       success: True\n",
       "        status: 0\n",
       "           fun: 1.797388682785636\n",
       "             x: [ 7.961e-01  1.204e+00]\n",
       "           nit: 67\n",
       "          nfev: 128\n",
       " final_simplex: (array([[ 7.961e-01,  1.204e+00],\n",
       "                       [ 7.961e-01,  1.204e+00],\n",
       "                       [ 7.961e-01,  1.204e+00]]), array([ 1.797e+00,  1.797e+00,  1.797e+00]))"
      ]
     },
     "execution_count": 8,
     "metadata": {},
     "output_type": "execute_result"
    }
   ],
   "source": [
    "optimize.minimize(fun=f, x0=x0, method=\"nelder-mead\")"
   ]
  },
  {
   "cell_type": "code",
   "execution_count": 9,
   "id": "7dbeab3f-c896-4230-b254-52ca54a94464",
   "metadata": {
    "tags": []
   },
   "outputs": [
    {
     "data": {
      "text/plain": [
       "[[0.09146437514573336],\n",
       " [0.10230429517105222],\n",
       " [0.1239176681265235],\n",
       " [0.3147982959635556]]"
      ]
     },
     "execution_count": 9,
     "metadata": {},
     "output_type": "execute_result"
    }
   ],
   "source": [
    "[\n",
    "  timeit.Timer( lambda: optimize.minimize(fun=f, x0=x0, jac=grad, method=\"bfgs\") ).repeat(1,100),\n",
    "  timeit.Timer( lambda: optimize.minimize(fun=f, x0=x0, jac=grad, method=\"cg\") ).repeat(1,100),\n",
    "  timeit.Timer( lambda: optimize.minimize(fun=f, x0=x0, jac=grad, method=\"newton-cg\") ).repeat(1,100),\n",
    "  timeit.Timer( lambda: optimize.minimize(fun=f, x0=x0, method=\"nelder-mead\") ).repeat(1,100)\n",
    "]"
   ]
  },
  {
   "cell_type": "markdown",
   "id": "27a36a15-ccc8-44da-abdf-9318a41cc0c9",
   "metadata": {},
   "source": [
    "## Exercise 2"
   ]
  },
  {
   "cell_type": "code",
   "execution_count": 10,
   "id": "6e50453a-1707-4e16-a0e4-b211980fc2ce",
   "metadata": {},
   "outputs": [
    {
     "data": {
      "text/plain": [
       "array([ 4.7 ,  1.11,  1.8 ,  6.19,  3.37,  0.25,  6.45,  0.36,  4.49,\n",
       "        4.14,  2.84,  1.91,  8.03,  2.26,  2.88,  6.88,  6.84,  6.83,\n",
       "        6.1 ,  3.03,  3.67,  2.57,  3.53,  2.07,  4.01,  1.51,  5.69,\n",
       "        3.92,  6.01,  0.82,  2.11,  2.97,  5.02,  9.13,  4.19,  2.82,\n",
       "       11.81,  1.17,  1.69,  4.67,  1.47, 11.67,  5.25,  3.44,  8.04,\n",
       "        3.74,  5.73,  6.58,  3.54,  2.4 ,  1.32,  2.04,  2.52,  4.89,\n",
       "        4.14,  5.02,  4.75,  8.24,  7.6 ,  1.  ,  6.14,  0.58,  2.83,\n",
       "        2.88,  5.42,  0.5 ,  3.46,  4.46,  1.86,  4.59,  2.24,  2.62,\n",
       "        3.99,  3.74,  5.27,  1.42,  0.56,  7.54,  5.5 ,  1.58,  5.49,\n",
       "        6.57,  4.79,  5.84,  8.21,  1.66,  1.53,  4.27,  2.57,  1.48,\n",
       "        5.23,  3.84,  3.15,  2.1 ,  3.71,  2.79,  0.86,  8.52,  4.36,\n",
       "        3.3 ])"
      ]
     },
     "execution_count": 10,
     "metadata": {},
     "output_type": "execute_result"
    }
   ],
   "source": [
    "from scipy.stats import gamma\n",
    "\n",
    "g = gamma(a=2.0, scale=2.0)\n",
    "x = g.rvs(size=100, random_state=1234)\n",
    "x.round(2)"
   ]
  },
  {
   "cell_type": "code",
   "execution_count": 11,
   "id": "67b5fcc4-2924-4143-82ea-ef3f2ba48828",
   "metadata": {
    "tags": []
   },
   "outputs": [],
   "source": [
    "def mle_gamma(θ): \n",
    "  if θ[0] <= 0 or θ[1] <= 0:\n",
    "    return 1e16\n",
    "  else:\n",
    "    return -np.sum(gamma.logpdf(x, a=θ[0], scale=θ[1]))"
   ]
  },
  {
   "cell_type": "code",
   "execution_count": 12,
   "id": "5817efe6-742d-4202-b477-6c2725009962",
   "metadata": {
    "tags": []
   },
   "outputs": [
    {
     "data": {
      "text/plain": [
       "400.7016808737107"
      ]
     },
     "execution_count": 12,
     "metadata": {},
     "output_type": "execute_result"
    }
   ],
   "source": [
    "mle_gamma([1,1])"
   ]
  },
  {
   "cell_type": "code",
   "execution_count": 13,
   "id": "3bdb6c87-6b4d-4fe1-be5e-74da89960590",
   "metadata": {
    "tags": []
   },
   "outputs": [
    {
     "data": {
      "text/plain": [
       "  message: Optimization terminated successfully.\n",
       "  success: True\n",
       "   status: 0\n",
       "      fun: 221.38372813334652\n",
       "        x: [ 2.411e+00  1.662e+00]\n",
       "      nit: 11\n",
       "      jac: [-9.537e-06 -5.722e-06]\n",
       " hess_inv: [[ 1.015e-01 -7.057e-02]\n",
       "            [-7.057e-02  6.022e-02]]\n",
       "     nfev: 57\n",
       "     njev: 19"
      ]
     },
     "execution_count": 13,
     "metadata": {},
     "output_type": "execute_result"
    }
   ],
   "source": [
    "optimize.minimize(\n",
    "  mle_gamma, x0=[1,1], method=\"bfgs\"\n",
    ")"
   ]
  },
  {
   "cell_type": "code",
   "execution_count": 14,
   "id": "8678d000-4b72-499b-a4b8-9ec4ac84f776",
   "metadata": {
    "tags": []
   },
   "outputs": [
    {
     "data": {
      "text/plain": [
       "  message: CONVERGENCE: NORM_OF_PROJECTED_GRADIENT_<=_PGTOL\n",
       "  success: True\n",
       "   status: 0\n",
       "      fun: 221.383728133346\n",
       "        x: [ 2.411e+00  1.662e+00]\n",
       "      nit: 12\n",
       "      jac: [-2.842e-06  0.000e+00]\n",
       "     nfev: 51\n",
       "     njev: 17\n",
       " hess_inv: <2x2 LbfgsInvHessProduct with dtype=float64>"
      ]
     },
     "execution_count": 14,
     "metadata": {},
     "output_type": "execute_result"
    }
   ],
   "source": [
    "optimize.minimize(\n",
    "  mle_gamma, x0=[1,1], method=\"l-bfgs-b\",\n",
    "  bounds=[(1e-8,1e8),(1e-8,1e8)]\n",
    ")"
   ]
  },
  {
   "cell_type": "code",
   "execution_count": 15,
   "id": "6f15bc67-fd22-4de7-adfa-a13179bc7426",
   "metadata": {
    "tags": []
   },
   "outputs": [
    {
     "data": {
      "text/plain": [
       "(2.411169989586957, 0, 1.6618557903599012)"
      ]
     },
     "execution_count": 15,
     "metadata": {},
     "output_type": "execute_result"
    }
   ],
   "source": [
    "gamma.fit(x, floc=0)"
   ]
  },
  {
   "cell_type": "code",
   "execution_count": null,
   "id": "2d983c22-75aa-40ec-9a5e-1ca396b4325c",
   "metadata": {},
   "outputs": [],
   "source": []
  }
 ],
 "metadata": {
  "kernelspec": {
   "display_name": "Python 3 (ipykernel)",
   "language": "python",
   "name": "python3"
  },
  "language_info": {
   "codemirror_mode": {
    "name": "ipython",
    "version": 3
   },
   "file_extension": ".py",
   "mimetype": "text/x-python",
   "name": "python",
   "nbconvert_exporter": "python",
   "pygments_lexer": "ipython3",
   "version": "3.10.9"
  }
 },
 "nbformat": 4,
 "nbformat_minor": 5
}
