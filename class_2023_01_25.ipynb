{
 "cells": [
  {
   "cell_type": "markdown",
   "id": "9a21de25-7695-4280-92ba-fb8631a7c249",
   "metadata": {},
   "source": [
    "# In class examples"
   ]
  },
  {
   "cell_type": "code",
   "execution_count": 1,
   "id": "cc7aa72d-b066-4199-8315-b34468520572",
   "metadata": {},
   "outputs": [
    {
     "data": {
      "text/plain": [
       "{'hello': 123, 'world': 456}"
      ]
     },
     "execution_count": 1,
     "metadata": {},
     "output_type": "execute_result"
    }
   ],
   "source": []
  },
  {
   "cell_type": "code",
   "execution_count": 2,
   "id": "05ff91f7-4422-4391-9b03-53af2d1924b0",
   "metadata": {},
   "outputs": [
    {
     "ename": "SyntaxError",
     "evalue": "invalid syntax (3158373904.py, line 1)",
     "output_type": "error",
     "traceback": [
      "\u001b[0;36m  Cell \u001b[0;32mIn[2], line 1\u001b[0;36m\u001b[0m\n\u001b[0;31m    dict(abc=123, def=456)\u001b[0m\n\u001b[0m                  ^\u001b[0m\n\u001b[0;31mSyntaxError\u001b[0m\u001b[0;31m:\u001b[0m invalid syntax\n"
     ]
    }
   ],
   "source": [
    "dict(abc=123, def=456)"
   ]
  },
  {
   "cell_type": "code",
   "execution_count": 5,
   "id": "35c98355-fa51-4bd4-b271-2e7d3fc7cf63",
   "metadata": {},
   "outputs": [
    {
     "data": {
      "text/plain": [
       "{'hello': 123, 'world': 456, (1, 1): 3.14159}"
      ]
     },
     "execution_count": 5,
     "metadata": {},
     "output_type": "execute_result"
    }
   ],
   "source": [
    "x = dict(hello=123, world=456)\n",
    "x | {(1,1): 3.14159}"
   ]
  },
  {
   "cell_type": "code",
   "execution_count": 6,
   "id": "4ee7cc61-3dbe-41ce-aa7d-b43f3458d224",
   "metadata": {},
   "outputs": [
    {
     "data": {
      "text/plain": [
       "{'hello': 123, 'world': 456}"
      ]
     },
     "execution_count": 6,
     "metadata": {},
     "output_type": "execute_result"
    }
   ],
   "source": [
    "x"
   ]
  },
  {
   "cell_type": "code",
   "execution_count": 9,
   "id": "6bea362d-1d09-4c67-8e16-0883513873ff",
   "metadata": {},
   "outputs": [
    {
     "data": {
      "text/plain": [
       "26"
      ]
     },
     "execution_count": 9,
     "metadata": {},
     "output_type": "execute_result"
    }
   ],
   "source": [
    "len({x.lower() for x in \"The quick brown fox jumped over the lazy dog\"})"
   ]
  },
  {
   "cell_type": "markdown",
   "id": "29aa9770-a23e-4ff6-8c98-52bdd9ff834f",
   "metadata": {},
   "source": [
    "# Exercise 1"
   ]
  },
  {
   "cell_type": "markdown",
   "id": "7e931d23-7d99-46fc-8320-8f37863b9f90",
   "metadata": {},
   "source": [
    "* A fixed collection of 100 integers. (*array*)\n",
    "\n",
    "* A stack (first in last out) of customer records. (*list*)\n",
    "\n",
    "* A queue (first in first out) of customer records. (*deque*)\n",
    "\n",
    "* A count of word occurances within a document. (*dictionary*)"
   ]
  }
 ],
 "metadata": {
  "kernelspec": {
   "display_name": "Python 3 (ipykernel)",
   "language": "python",
   "name": "python3"
  },
  "language_info": {
   "codemirror_mode": {
    "name": "ipython",
    "version": 3
   },
   "file_extension": ".py",
   "mimetype": "text/x-python",
   "name": "python",
   "nbconvert_exporter": "python",
   "pygments_lexer": "ipython3",
   "version": "3.10.9"
  }
 },
 "nbformat": 4,
 "nbformat_minor": 5
}
