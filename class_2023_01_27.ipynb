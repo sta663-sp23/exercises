{
 "cells": [
  {
   "cell_type": "markdown",
   "id": "3a43fa6c-109e-4428-93fd-48572d159949",
   "metadata": {},
   "source": [
    "# Example"
   ]
  },
  {
   "cell_type": "code",
   "execution_count": 2,
   "id": "abe869e2-b645-431c-9ee0-3c18de5f64fc",
   "metadata": {},
   "outputs": [],
   "source": [
    "import numpy as np"
   ]
  },
  {
   "cell_type": "code",
   "execution_count": 3,
   "id": "0a6ded4c-1f24-4122-8d58-c198ea9fb6e6",
   "metadata": {},
   "outputs": [
    {
     "data": {
      "text/plain": [
       "array([4.64531993e-310, 0.00000000e+000, 4.64592360e-310, 4.64592361e-310])"
      ]
     },
     "execution_count": 3,
     "metadata": {},
     "output_type": "execute_result"
    }
   ],
   "source": [
    "np.empty(4)"
   ]
  },
  {
   "cell_type": "code",
   "execution_count": 4,
   "id": "8a5d5b7d-ee42-4ad7-93fd-f59f59e3048f",
   "metadata": {},
   "outputs": [
    {
     "data": {
      "text/plain": [
       "array([[1, 2, 3],\n",
       "       [4, 5, 6],\n",
       "       [7, 8, 9]])"
      ]
     },
     "execution_count": 4,
     "metadata": {},
     "output_type": "execute_result"
    }
   ],
   "source": [
    "x = np.array([[1,2,3],[4,5,6],[7,8,9]])\n",
    "x"
   ]
  },
  {
   "cell_type": "code",
   "execution_count": 5,
   "id": "9868ee0c-34fb-431d-a80e-ae721beb1412",
   "metadata": {},
   "outputs": [
    {
     "data": {
      "text/plain": [
       "array([[1, 2, 3],\n",
       "       [7, 8, 9]])"
      ]
     },
     "execution_count": 5,
     "metadata": {},
     "output_type": "execute_result"
    }
   ],
   "source": [
    "x[0:3:2]"
   ]
  },
  {
   "cell_type": "code",
   "execution_count": 6,
   "id": "7d30d93a-156e-4b7d-8046-08fbbe5bdca5",
   "metadata": {},
   "outputs": [],
   "source": [
    "x = np.arange(10)\n",
    "y = x[2:5]"
   ]
  },
  {
   "cell_type": "code",
   "execution_count": 7,
   "id": "a2f04588-82f8-4d4f-938a-2e3276fda290",
   "metadata": {},
   "outputs": [
    {
     "data": {
      "text/plain": [
       "  C_CONTIGUOUS : True\n",
       "  F_CONTIGUOUS : True\n",
       "  OWNDATA : False\n",
       "  WRITEABLE : True\n",
       "  ALIGNED : True\n",
       "  WRITEBACKIFCOPY : False"
      ]
     },
     "execution_count": 7,
     "metadata": {},
     "output_type": "execute_result"
    }
   ],
   "source": [
    "y.flags"
   ]
  },
  {
   "cell_type": "code",
   "execution_count": 10,
   "id": "79af0c13-8d4e-422a-ba5f-f3e65d6ec2a2",
   "metadata": {},
   "outputs": [],
   "source": [
    "x = np.arange(6)"
   ]
  },
  {
   "cell_type": "code",
   "execution_count": 11,
   "id": "fa0a7838-1a08-4893-93c8-3d53bdcce793",
   "metadata": {},
   "outputs": [
    {
     "data": {
      "text/plain": [
       "array([0, 1, 2, 3, 4, 5])"
      ]
     },
     "execution_count": 11,
     "metadata": {},
     "output_type": "execute_result"
    }
   ],
   "source": [
    "x"
   ]
  },
  {
   "cell_type": "code",
   "execution_count": 12,
   "id": "87de48c6-857d-4865-8a2a-f9dd9ef2d398",
   "metadata": {},
   "outputs": [],
   "source": [
    "y = x.reshape((2,3))"
   ]
  },
  {
   "cell_type": "code",
   "execution_count": 13,
   "id": "fb212e40-1a2b-4f48-bfc6-f2bf3d349e07",
   "metadata": {},
   "outputs": [
    {
     "data": {
      "text/plain": [
       "array([[0, 1, 2],\n",
       "       [3, 4, 5]])"
      ]
     },
     "execution_count": 13,
     "metadata": {},
     "output_type": "execute_result"
    }
   ],
   "source": [
    "y"
   ]
  },
  {
   "cell_type": "code",
   "execution_count": 14,
   "id": "f8bc194f-52bb-4f56-88bb-4d1b917d3c80",
   "metadata": {},
   "outputs": [
    {
     "data": {
      "text/plain": [
       "array([0, 1, 2, 3, 4, 5])"
      ]
     },
     "execution_count": 14,
     "metadata": {},
     "output_type": "execute_result"
    }
   ],
   "source": [
    "x"
   ]
  },
  {
   "cell_type": "code",
   "execution_count": 15,
   "id": "c656c2f0-01dc-45b9-a39f-bd8519dba92a",
   "metadata": {},
   "outputs": [],
   "source": [
    "z = x\n",
    "z.shape = (3,2)"
   ]
  },
  {
   "cell_type": "code",
   "execution_count": 16,
   "id": "81f27783-2568-4eb8-ab1e-14dbc655720f",
   "metadata": {},
   "outputs": [
    {
     "data": {
      "text/plain": [
       "array([[0, 1],\n",
       "       [2, 3],\n",
       "       [4, 5]])"
      ]
     },
     "execution_count": 16,
     "metadata": {},
     "output_type": "execute_result"
    }
   ],
   "source": [
    "z"
   ]
  },
  {
   "cell_type": "code",
   "execution_count": 17,
   "id": "54a7bd0c-8b41-4caf-9632-9c671bc94371",
   "metadata": {},
   "outputs": [
    {
     "data": {
      "text/plain": [
       "array([[0, 1],\n",
       "       [2, 3],\n",
       "       [4, 5]])"
      ]
     },
     "execution_count": 17,
     "metadata": {},
     "output_type": "execute_result"
    }
   ],
   "source": [
    "x"
   ]
  },
  {
   "cell_type": "code",
   "execution_count": 18,
   "id": "9857fc99-1a2c-4667-9da6-e8e51ff572fc",
   "metadata": {},
   "outputs": [
    {
     "data": {
      "text/plain": [
       "array([[0, 1, 2],\n",
       "       [3, 4, 5]])"
      ]
     },
     "execution_count": 18,
     "metadata": {},
     "output_type": "execute_result"
    }
   ],
   "source": [
    "y"
   ]
  },
  {
   "cell_type": "code",
   "execution_count": 19,
   "id": "c921f499-bf30-4c46-beeb-96aee9e45855",
   "metadata": {},
   "outputs": [],
   "source": [
    "y[0,0] = -1"
   ]
  },
  {
   "cell_type": "code",
   "execution_count": 20,
   "id": "5dcb1441-33aa-4cb0-9489-643e51bab534",
   "metadata": {},
   "outputs": [
    {
     "data": {
      "text/plain": [
       "array([[-1,  1,  2],\n",
       "       [ 3,  4,  5]])"
      ]
     },
     "execution_count": 20,
     "metadata": {},
     "output_type": "execute_result"
    }
   ],
   "source": [
    "y"
   ]
  },
  {
   "cell_type": "code",
   "execution_count": 21,
   "id": "57a76546-5632-4445-9170-9a7a6a853b0f",
   "metadata": {},
   "outputs": [
    {
     "data": {
      "text/plain": [
       "array([[-1,  1],\n",
       "       [ 2,  3],\n",
       "       [ 4,  5]])"
      ]
     },
     "execution_count": 21,
     "metadata": {},
     "output_type": "execute_result"
    }
   ],
   "source": [
    "z"
   ]
  },
  {
   "cell_type": "code",
   "execution_count": 23,
   "id": "5c4473e3-23fa-4f55-9732-cd8a3869559f",
   "metadata": {},
   "outputs": [],
   "source": [
    "y[1,2] = -2"
   ]
  },
  {
   "cell_type": "code",
   "execution_count": 24,
   "id": "d5754c94-a0be-4f4b-9a64-8d6080d8274e",
   "metadata": {},
   "outputs": [
    {
     "data": {
      "text/plain": [
       "array([[-1,  1,  2],\n",
       "       [ 3,  4, -2]])"
      ]
     },
     "execution_count": 24,
     "metadata": {},
     "output_type": "execute_result"
    }
   ],
   "source": [
    "y"
   ]
  },
  {
   "cell_type": "code",
   "execution_count": 25,
   "id": "30ad939a-74f7-4480-a9cb-372e69728681",
   "metadata": {},
   "outputs": [
    {
     "data": {
      "text/plain": [
       "array([[-1,  1],\n",
       "       [ 2,  3],\n",
       "       [ 4, -2]])"
      ]
     },
     "execution_count": 25,
     "metadata": {},
     "output_type": "execute_result"
    }
   ],
   "source": [
    "z"
   ]
  },
  {
   "cell_type": "code",
   "execution_count": 28,
   "id": "1562da8c-2236-49ea-a6aa-d79ab2c85c09",
   "metadata": {},
   "outputs": [],
   "source": [
    "y = np.ones(\n",
    "  (2,2)\n",
    ")"
   ]
  },
  {
   "cell_type": "code",
   "execution_count": 29,
   "id": "c6621612-9383-4232-b671-67158e89ae09",
   "metadata": {},
   "outputs": [
    {
     "data": {
      "text/plain": [
       "array([[1., 1.],\n",
       "       [1., 1.]])"
      ]
     },
     "execution_count": 29,
     "metadata": {},
     "output_type": "execute_result"
    }
   ],
   "source": [
    "y"
   ]
  },
  {
   "cell_type": "code",
   "execution_count": 32,
   "id": "ffa2b5c7-ab05-49a1-b036-14645c3cc47c",
   "metadata": {},
   "outputs": [],
   "source": [
    "y.resize((3,3), refcheck=False)"
   ]
  },
  {
   "cell_type": "code",
   "execution_count": 33,
   "id": "78dc5b39-e82d-4d84-b435-bcdaaec2d89e",
   "metadata": {},
   "outputs": [
    {
     "data": {
      "text/plain": [
       "array([[1., 1., 1.],\n",
       "       [1., 0., 0.],\n",
       "       [0., 0., 0.]])"
      ]
     },
     "execution_count": 33,
     "metadata": {},
     "output_type": "execute_result"
    }
   ],
   "source": [
    "y"
   ]
  },
  {
   "cell_type": "code",
   "execution_count": 34,
   "id": "f282df1c-2db2-400f-bd9f-d7e45977ed7b",
   "metadata": {},
   "outputs": [
    {
     "data": {
      "text/plain": [
       "499500"
      ]
     },
     "execution_count": 34,
     "metadata": {},
     "output_type": "execute_result"
    }
   ],
   "source": [
    "sum(np.arange(1000))"
   ]
  },
  {
   "cell_type": "markdown",
   "id": "e5743290-6fc0-43db-bce0-95c5c437ec35",
   "metadata": {},
   "source": [
    "# Regression example"
   ]
  },
  {
   "cell_type": "code",
   "execution_count": 35,
   "id": "25f688b5-f3b4-4418-b91b-88223d6b8453",
   "metadata": {},
   "outputs": [],
   "source": [
    "rng = np.random.default_rng(seed=12345)\n",
    "n = 1000"
   ]
  },
  {
   "cell_type": "code",
   "execution_count": 49,
   "id": "653d75a1-70c0-4c35-be5c-bc9b3c2bceb6",
   "metadata": {},
   "outputs": [],
   "source": [
    "## Create data\n",
    "X = np.hstack(\n",
    "  [ np.ones((n,1)),\n",
    "    rng.random((n,5))]\n",
    ")\n",
    "\n",
    "beta = np.array([3.5,1.8,-7.5,0, 3, 9.8]).reshape((-1,1))\n",
    "err = rng.normal(0, 0.1, (n,1))\n",
    "\n",
    "y = X @ beta + err"
   ]
  },
  {
   "cell_type": "code",
   "execution_count": 51,
   "id": "f942adde-1eec-47f0-8d62-add25a285009",
   "metadata": {},
   "outputs": [
    {
     "data": {
      "text/plain": [
       "(1000, 1)"
      ]
     },
     "execution_count": 51,
     "metadata": {},
     "output_type": "execute_result"
    }
   ],
   "source": [
    "y.shape"
   ]
  },
  {
   "cell_type": "code",
   "execution_count": 55,
   "id": "455878b5-8a27-46a4-a326-2751a0f243a9",
   "metadata": {},
   "outputs": [
    {
     "data": {
      "text/plain": [
       "array([[ 3.51,  1.8 , -7.5 , -0.01,  2.98,  9.8 ]])"
      ]
     },
     "execution_count": 55,
     "metadata": {},
     "output_type": "execute_result"
    }
   ],
   "source": [
    "## Fit model\n",
    "\n",
    "np.round(np.linalg.inv(X.T @ X) @ X.T @ y,2).T"
   ]
  },
  {
   "cell_type": "code",
   "execution_count": 57,
   "id": "3d9bce65-10a7-406d-a575-af7293cb5658",
   "metadata": {},
   "outputs": [
    {
     "data": {
      "text/plain": [
       "[array([[ 3.65866294,  1.79828338, -7.48834711, -0.12248825,  3.04190149,\n",
       "          9.50057453]]),\n",
       " array([[ 3.57449143,  1.79734447, -7.49000566, -0.11556864,  2.99614371,\n",
       "          9.74479266]]),\n",
       " array([[ 3.52442606,  1.76689235, -7.4787416 , -0.05976485,  3.03190601,\n",
       "          9.79133471]]),\n",
       " array([[ 3.51735662,  1.78314812, -7.48943429, -0.02726953,  3.00566035,\n",
       "          9.78373101]]),\n",
       " array([[ 3.51283086e+00,  1.79567488e+00, -7.50001036e+00,\n",
       "         -8.75862646e-03,  2.98471038e+00,  9.79544126e+00]])]"
      ]
     },
     "execution_count": 57,
     "metadata": {},
     "output_type": "execute_result"
    }
   ],
   "source": [
    "[\n",
    "    (np.linalg.inv(X[:s,:].T @ X[:s,:]) @ X[:s,:].T @ y[:s,:]).T  for s in [10,100,250,500,1000]\n",
    "]"
   ]
  },
  {
   "cell_type": "code",
   "execution_count": null,
   "id": "0e5f081e-0a21-455f-ba18-fbf62f8d6d24",
   "metadata": {},
   "outputs": [],
   "source": []
  }
 ],
 "metadata": {
  "kernelspec": {
   "display_name": "Python 3 (ipykernel)",
   "language": "python",
   "name": "python3"
  },
  "language_info": {
   "codemirror_mode": {
    "name": "ipython",
    "version": 3
   },
   "file_extension": ".py",
   "mimetype": "text/x-python",
   "name": "python",
   "nbconvert_exporter": "python",
   "pygments_lexer": "ipython3",
   "version": "3.10.9"
  }
 },
 "nbformat": 4,
 "nbformat_minor": 5
}
