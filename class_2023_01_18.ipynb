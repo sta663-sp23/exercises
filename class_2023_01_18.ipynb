{
 "cells": [
  {
   "cell_type": "markdown",
   "id": "2259f9d7-0a6e-4c6c-a382-42904926a47b",
   "metadata": {},
   "source": [
    "## Class Demos"
   ]
  },
  {
   "cell_type": "code",
   "execution_count": null,
   "id": "86abd2f0-ade5-4008-9062-94bfbbcad51f",
   "metadata": {},
   "outputs": [
    {
     "data": {
      "text/plain": [
       "'abcabcabc'"
      ]
     },
     "execution_count": null,
     "metadata": {},
     "output_type": "execute_result"
    }
   ],
   "source": [
    "\"abc\" * 3"
   ]
  },
  {
   "cell_type": "code",
   "execution_count": null,
   "id": "a387db27-d869-4efb-be39-50be5daea038",
   "metadata": {},
   "outputs": [
    {
     "data": {
      "text/plain": [
       "2"
      ]
     },
     "execution_count": null,
     "metadata": {},
     "output_type": "execute_result"
    }
   ],
   "source": [
    "int(float(\"2.1\"))"
   ]
  },
  {
   "cell_type": "code",
   "execution_count": null,
   "id": "53b569a9-46ea-47e0-9711-8d065530d84e",
   "metadata": {},
   "outputs": [
    {
     "data": {
      "text/plain": [
       "True"
      ]
     },
     "execution_count": null,
     "metadata": {},
     "output_type": "execute_result"
    }
   ],
   "source": [
    "x = [0.,1.,1.,0.]\n",
    "\n",
    "1 in x"
   ]
  },
  {
   "cell_type": "code",
   "execution_count": null,
   "id": "ecd36f20-0b35-4c2a-b799-fae55661f48b",
   "metadata": {},
   "outputs": [
    {
     "data": {
      "text/plain": [
       "[2, 3, 4, 5, 7]"
      ]
     },
     "execution_count": null,
     "metadata": {},
     "output_type": "execute_result"
    }
   ],
   "source": [
    "[2, 3, 4, 5] + [7]"
   ]
  },
  {
   "cell_type": "code",
   "execution_count": null,
   "id": "4a3448bb-18f4-4f25-a723-253ab75d663a",
   "metadata": {},
   "outputs": [],
   "source": [
    "(x1,y1), (x2,y2) = [[0,1], [2, 3]]"
   ]
  },
  {
   "cell_type": "markdown",
   "id": "8578fc79-b452-4a56-a161-fa0ccccd9f73",
   "metadata": {},
   "source": [
    "## Exercise 1"
   ]
  },
  {
   "cell_type": "code",
   "execution_count": null,
   "id": "a5f6ebdf-d103-4387-977a-a418baafcb58",
   "metadata": {},
   "outputs": [],
   "source": [
    "d = [0, 1, 2, 3, 4, 5, 6, 7, 8, 9]"
   ]
  },
  {
   "cell_type": "markdown",
   "id": "2b0b5576-2880-48f2-a3d5-8a991916e563",
   "metadata": {},
   "source": [
    "* Select only the odd values in this list"
   ]
  },
  {
   "cell_type": "code",
   "execution_count": null,
   "id": "7c8bb572-d518-4bb3-b6ea-013064713383",
   "metadata": {},
   "outputs": [
    {
     "data": {
      "text/plain": [
       "[1, 3, 5, 7, 9]"
      ]
     },
     "execution_count": null,
     "metadata": {},
     "output_type": "execute_result"
    }
   ],
   "source": [
    "d[1::2]"
   ]
  },
  {
   "cell_type": "markdown",
   "id": "38dd89a3-c346-4952-a72d-cbfa7d5080f1",
   "metadata": {},
   "source": [
    "* Select every 3rd value starting from the 2nd element."
   ]
  },
  {
   "cell_type": "code",
   "execution_count": null,
   "id": "dc01d071-75a0-4be9-96b7-84108b953c63",
   "metadata": {},
   "outputs": [
    {
     "data": {
      "text/plain": [
       "[1, 4, 7]"
      ]
     },
     "execution_count": null,
     "metadata": {},
     "output_type": "execute_result"
    }
   ],
   "source": [
    "d[1::3]"
   ]
  },
  {
   "cell_type": "markdown",
   "id": "ffa6d29e-6f94-4c61-962a-ffac4cf67b20",
   "metadata": {},
   "source": [
    "* Select every other value, in reverse order, starting from the 9th element."
   ]
  },
  {
   "cell_type": "code",
   "execution_count": null,
   "id": "aa3b8b68-576c-4197-b5fc-7a90508c0590",
   "metadata": {},
   "outputs": [
    {
     "data": {
      "text/plain": [
       "[8, 6, 4, 2]"
      ]
     },
     "execution_count": null,
     "metadata": {},
     "output_type": "execute_result"
    }
   ],
   "source": [
    "d[-2:0:-2]"
   ]
  },
  {
   "cell_type": "code",
   "execution_count": null,
   "id": "1fde4447-8d11-4b9a-84e6-fc46e0b36055",
   "metadata": {},
   "outputs": [
    {
     "data": {
      "text/plain": [
       "[8, 6, 4, 2, 0]"
      ]
     },
     "execution_count": null,
     "metadata": {},
     "output_type": "execute_result"
    }
   ],
   "source": [
    "d[-2::-2]"
   ]
  },
  {
   "cell_type": "markdown",
   "id": "5ce8dc44-a47a-46c7-83bc-9e9fc45178a1",
   "metadata": {},
   "source": [
    "* Select the 3rd element, the 5th element, and the 10th element"
   ]
  },
  {
   "cell_type": "code",
   "execution_count": null,
   "id": "70a5eeb4-c08d-4d7f-bee2-f805f1b85a6a",
   "metadata": {},
   "outputs": [
    {
     "data": {
      "text/plain": [
       "[2, 4, 9]"
      ]
     },
     "execution_count": null,
     "metadata": {},
     "output_type": "execute_result"
    }
   ],
   "source": [
    "[d[2], d[4], d[9]]"
   ]
  },
  {
   "cell_type": "markdown",
   "id": "8c831b32-863c-43b2-aacf-5d21933f0d65",
   "metadata": {},
   "source": [
    "## Exercise 2"
   ]
  },
  {
   "cell_type": "code",
   "execution_count": null,
   "id": "30d2740e-7bd9-4ee3-a4a5-15c2a23fb96c",
   "metadata": {},
   "outputs": [],
   "source": [
    "x = \"Hello world! 1234\""
   ]
  },
  {
   "cell_type": "code",
   "execution_count": null,
   "id": "dcef4bbd-2c3f-4c36-9e2c-bd1a993d0d34",
   "metadata": {},
   "outputs": [
    {
     "data": {
      "text/plain": [
       "'hello world! 1234'"
      ]
     },
     "execution_count": null,
     "metadata": {},
     "output_type": "execute_result"
    }
   ],
   "source": [
    "x.lower()"
   ]
  },
  {
   "cell_type": "code",
   "execution_count": null,
   "id": "6e2dbf73-f7ac-4f3a-bb21-37c46be9a633",
   "metadata": {},
   "outputs": [
    {
     "data": {
      "text/plain": [
       "['hello', 'world!', '1234']"
      ]
     },
     "execution_count": null,
     "metadata": {},
     "output_type": "execute_result"
    }
   ],
   "source": [
    "x.lower().split(\" \")"
   ]
  },
  {
   "cell_type": "code",
   "execution_count": null,
   "id": "924c2322-9f41-4fec-b497-47657e658657",
   "metadata": {},
   "outputs": [],
   "source": [
    "source = \"the quick  Brown   fox Jumped  over   a Lazy  dog\""
   ]
  },
  {
   "cell_type": "code",
   "execution_count": null,
   "id": "dd7c1ce6-aeac-42a1-aeeb-eebcea752e45",
   "metadata": {},
   "outputs": [
    {
     "data": {
      "text/plain": [
       "'The quick brown fox jumped over a lazy dog.'"
      ]
     },
     "execution_count": null,
     "metadata": {},
     "output_type": "execute_result"
    }
   ],
   "source": [
    "source.replace(\"   \", \" \").replace(\"  \", \" \").lower().capitalize() + \".\""
   ]
  },
  {
   "cell_type": "code",
   "execution_count": null,
   "id": "f5d6376c-b8b9-4ad0-acc2-e21f8888be2c",
   "metadata": {},
   "outputs": [
    {
     "data": {
      "text/plain": [
       "'The quick brown fox jumped over a lazy dog.'"
      ]
     },
     "execution_count": null,
     "metadata": {},
     "output_type": "execute_result"
    }
   ],
   "source": [
    "source.replace(\"   \", \" \").replace(\"  \", \" \").lower().capitalize().replace(\"dog\", \"dog.\")"
   ]
  }
 ],
 "metadata": {
  "kernelspec": {
   "display_name": "Python 3 (ipykernel)",
   "language": "python",
   "name": "python3"
  }
 },
 "nbformat": 4,
 "nbformat_minor": 5
}
