{
 "cells": [
  {
   "cell_type": "code",
   "execution_count": 1,
   "id": "402da109-e3cf-4bb0-81b7-bd5cf8e596df",
   "metadata": {
    "tags": []
   },
   "outputs": [],
   "source": [
    "import pandas as pd\n",
    "import numpy as np\n",
    "import seaborn as sns\n",
    "import matplotlib.pyplot as plt"
   ]
  },
  {
   "cell_type": "markdown",
   "id": "7143efd6-f3e8-480d-95d8-577090368fdc",
   "metadata": {},
   "source": [
    "## Exercise 1"
   ]
  },
  {
   "cell_type": "code",
   "execution_count": 5,
   "id": "0e9d0aa6-96a5-43a6-9eca-897ce2a8c3b3",
   "metadata": {
    "tags": []
   },
   "outputs": [],
   "source": [
    "from sklearn.linear_model import LinearRegression\n",
    "from sklearn.metrics import mean_squared_error"
   ]
  },
  {
   "cell_type": "code",
   "execution_count": 4,
   "id": "9255994e-ab0c-4b25-a1d9-3afca796157e",
   "metadata": {
    "tags": []
   },
   "outputs": [],
   "source": [
    "books = pd.read_csv(\n",
    "  \"https://sta663-sp23.github.io/slides/data/daag_books.csv\"\n",
    ")"
   ]
  },
  {
   "cell_type": "code",
   "execution_count": 6,
   "id": "bf1af621-a304-4df5-8804-451a4379b330",
   "metadata": {
    "tags": []
   },
   "outputs": [],
   "source": [
    "cover = pd.get_dummies(books[[\"cover\"]], drop_first=True)"
   ]
  },
  {
   "cell_type": "code",
   "execution_count": 8,
   "id": "f5113f38-4b5f-4b5a-9230-9ec1e406394c",
   "metadata": {
    "tags": []
   },
   "outputs": [
    {
     "data": {
      "text/plain": [
       "array([[ 885,    0,    0],\n",
       "       [1016,    0,    0],\n",
       "       [1125,    0,    0],\n",
       "       [ 239,    0,    0],\n",
       "       [ 701,    0,    0],\n",
       "       [ 641,    0,    0],\n",
       "       [1228,    0,    0],\n",
       "       [ 412,    1,  412],\n",
       "       [ 953,    1,  953],\n",
       "       [ 929,    1,  929],\n",
       "       [1492,    1, 1492],\n",
       "       [ 419,    1,  419],\n",
       "       [1010,    1, 1010],\n",
       "       [ 595,    1,  595],\n",
       "       [1034,    1, 1034]])"
      ]
     },
     "execution_count": 8,
     "metadata": {},
     "output_type": "execute_result"
    }
   ],
   "source": [
    "X = np.c_[\n",
    "  books.volume,\n",
    "  cover.cover_pb,\n",
    "  books.volume * cover.cover_pb\n",
    "]\n",
    "X"
   ]
  },
  {
   "cell_type": "code",
   "execution_count": 9,
   "id": "41eee233-b89e-4574-b732-e1bf391ab24e",
   "metadata": {
    "tags": []
   },
   "outputs": [],
   "source": [
    "lm = LinearRegression(\n",
    "  fit_intercept = True\n",
    ").fit(\n",
    "  X = X,\n",
    "  y = books.weight\n",
    ")"
   ]
  },
  {
   "cell_type": "code",
   "execution_count": 10,
   "id": "9f50c6eb-29b9-4b38-a70d-0ed849fbbcc6",
   "metadata": {
    "tags": []
   },
   "outputs": [
    {
     "data": {
      "text/plain": [
       "(161.58654141104694,\n",
       " array([ 7.61592838e-01, -1.20214066e+02, -7.57336630e-02]))"
      ]
     },
     "execution_count": 10,
     "metadata": {},
     "output_type": "execute_result"
    }
   ],
   "source": [
    "(lm.intercept_, lm.coef_)"
   ]
  },
  {
   "cell_type": "code",
   "execution_count": 12,
   "id": "5aa340a5-97cc-471c-a0be-4499d51d7678",
   "metadata": {
    "tags": []
   },
   "outputs": [
    {
     "data": {
      "text/plain": [
       "68.85638500929407"
      ]
     },
     "execution_count": 12,
     "metadata": {},
     "output_type": "execute_result"
    }
   ],
   "source": [
    "mean_squared_error(books.weight, lm.predict(X), squared=False)"
   ]
  },
  {
   "cell_type": "code",
   "execution_count": null,
   "id": "67accacc-feab-43d5-ac00-14975140f9a0",
   "metadata": {},
   "outputs": [],
   "source": []
  }
 ],
 "metadata": {
  "kernelspec": {
   "display_name": "Python 3 (ipykernel)",
   "language": "python",
   "name": "python3"
  },
  "language_info": {
   "codemirror_mode": {
    "name": "ipython",
    "version": 3
   },
   "file_extension": ".py",
   "mimetype": "text/x-python",
   "name": "python",
   "nbconvert_exporter": "python",
   "pygments_lexer": "ipython3",
   "version": "3.10.10"
  }
 },
 "nbformat": 4,
 "nbformat_minor": 5
}
