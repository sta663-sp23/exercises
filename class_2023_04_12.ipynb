{
 "cells": [
  {
   "cell_type": "markdown",
   "id": "32ce8fc3-4e3e-4f02-a27d-b4bc37f2f9f7",
   "metadata": {},
   "source": [
    "## Setup"
   ]
  },
  {
   "cell_type": "code",
   "execution_count": null,
   "id": "be6a9c39-9cea-4bb1-af20-8b7be781db03",
   "metadata": {
    "tags": []
   },
   "outputs": [],
   "source": [
    "import torch"
   ]
  },
  {
   "cell_type": "markdown",
   "id": "f1873658-350d-46b1-9f19-50a7b7533e7c",
   "metadata": {},
   "source": [
    "## Stable Diffusion"
   ]
  },
  {
   "cell_type": "code",
   "execution_count": null,
   "id": "0c627dab-c639-4fce-9ba1-8326c675c904",
   "metadata": {},
   "outputs": [],
   "source": [
    "from diffusers import StableDiffusionPipeline\n",
    "\n",
    "pipe = StableDiffusionPipeline.from_pretrained(\n",
    "  \"stabilityai/stable-diffusion-2-1-base\", torch_dtype=torch.float16\n",
    ").to(\"cuda\")"
   ]
  },
  {
   "cell_type": "code",
   "execution_count": null,
   "id": "921a310d-2906-486c-9b76-8275eee5e602",
   "metadata": {},
   "outputs": [],
   "source": [
    "prompt = \"a picture of thomas bayes with a cat on his lap\""
   ]
  },
  {
   "cell_type": "code",
   "execution_count": null,
   "id": "4103ebae-eb4c-406f-9a79-2410088ae88b",
   "metadata": {},
   "outputs": [],
   "source": [
    "generator = [\n",
    "    torch.Generator(device=\"cuda\").manual_seed(i) \n",
    "    for i in range(1)\n",
    "]"
   ]
  },
  {
   "cell_type": "code",
   "execution_count": null,
   "id": "f3454eb8-6d98-436b-99ad-2529e1938d96",
   "metadata": {},
   "outputs": [],
   "source": [
    "fit = pipe(\n",
    "    prompt, \n",
    "    generator=generator, \n",
    "    num_inference_steps=10, \n",
    "    num_images_per_prompt=1\n",
    ")\n",
    "fit.images[0]"
   ]
  },
  {
   "cell_type": "code",
   "execution_count": null,
   "id": "2166871c-5830-440a-b239-63799eb0eddf",
   "metadata": {},
   "outputs": [],
   "source": []
  }
 ],
 "metadata": {
  "kernelspec": {
   "display_name": "Python 3 (ipykernel)",
   "language": "python",
   "name": "python3"
  },
  "language_info": {
   "codemirror_mode": {
    "name": "ipython",
    "version": 3
   },
   "file_extension": ".py",
   "mimetype": "text/x-python",
   "name": "python",
   "nbconvert_exporter": "python",
   "pygments_lexer": "ipython3",
   "version": "3.11.2"
  }
 },
 "nbformat": 4,
 "nbformat_minor": 5
}
