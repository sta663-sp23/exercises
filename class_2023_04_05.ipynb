{
 "cells": [
  {
   "cell_type": "markdown",
   "id": "32ce8fc3-4e3e-4f02-a27d-b4bc37f2f9f7",
   "metadata": {},
   "source": [
    "## Setup"
   ]
  },
  {
   "cell_type": "code",
   "execution_count": 2,
   "id": "be6a9c39-9cea-4bb1-af20-8b7be781db03",
   "metadata": {
    "tags": []
   },
   "outputs": [],
   "source": [
    "import numpy as np\n",
    "import pandas as pd\n",
    "import seaborn as sns\n",
    "\n",
    "import torch"
   ]
  },
  {
   "cell_type": "markdown",
   "id": "bc693a36-0290-4742-a3d6-5a55d5ffb3f5",
   "metadata": {},
   "source": [
    "## Exercise 1"
   ]
  },
  {
   "cell_type": "code",
   "execution_count": 20,
   "id": "3bde64a8-fb46-43c1-844f-2dfa62b78747",
   "metadata": {
    "tags": []
   },
   "outputs": [],
   "source": [
    "a = torch.rand(4, 3, 2)\n",
    "b = torch.rand(   3, 2)\n",
    "c = torch.rand(   2, 3)\n",
    "d = torch.rand(0) \n",
    "e = torch.rand(   3, 1)\n",
    "f = torch.rand(   1, 2)"
   ]
  },
  {
   "cell_type": "code",
   "execution_count": 24,
   "id": "e9398d20-c2e5-427f-8b17-e0a3b18cf6f9",
   "metadata": {
    "tags": []
   },
   "outputs": [
    {
     "data": {
      "text/plain": [
       "tensor([])"
      ]
     },
     "execution_count": 24,
     "metadata": {},
     "output_type": "execute_result"
    }
   ],
   "source": [
    "d"
   ]
  },
  {
   "cell_type": "code",
   "execution_count": 27,
   "id": "10214cc1-6564-448e-909f-9e51c63c3a5d",
   "metadata": {
    "tags": []
   },
   "outputs": [
    {
     "data": {
      "text/plain": [
       "torch.Size([4, 3, 2])"
      ]
     },
     "execution_count": 27,
     "metadata": {},
     "output_type": "execute_result"
    }
   ],
   "source": [
    "(a * f).shape"
   ]
  },
  {
   "cell_type": "markdown",
   "id": "81f0ab38-f29b-4a42-a4bf-d0db9b14687a",
   "metadata": {},
   "source": [
    "## Exercise 2"
   ]
  },
  {
   "cell_type": "code",
   "execution_count": 28,
   "id": "1d12052c-1411-41ac-8152-fb2630614124",
   "metadata": {
    "tags": []
   },
   "outputs": [],
   "source": [
    "a = torch.ones(4,3,2)\n",
    "b = torch.rand(    3)\n",
    "c = torch.rand(  5,3)"
   ]
  },
  {
   "cell_type": "code",
   "execution_count": 31,
   "id": "2c91d352-1eb6-45b1-b752-aa847dd28b89",
   "metadata": {
    "tags": []
   },
   "outputs": [
    {
     "data": {
      "text/plain": [
       "torch.Size([4, 3, 2])"
      ]
     },
     "execution_count": 31,
     "metadata": {},
     "output_type": "execute_result"
    }
   ],
   "source": [
    "(a * b.unsqueeze(1)).shape"
   ]
  },
  {
   "cell_type": "code",
   "execution_count": 33,
   "id": "d79e3394-326c-435d-bf87-59cb5af12bdb",
   "metadata": {
    "tags": []
   },
   "outputs": [
    {
     "data": {
      "text/plain": [
       "torch.Size([5, 3, 1])"
      ]
     },
     "execution_count": 33,
     "metadata": {},
     "output_type": "execute_result"
    }
   ],
   "source": [
    "(c.unsqueeze(2)).shape"
   ]
  },
  {
   "cell_type": "code",
   "execution_count": 35,
   "id": "cde7e4fa-0186-447a-a9f7-ab4d33660fbe",
   "metadata": {
    "tags": []
   },
   "outputs": [
    {
     "data": {
      "text/plain": [
       "torch.Size([4, 1, 3, 2])"
      ]
     },
     "execution_count": 35,
     "metadata": {},
     "output_type": "execute_result"
    }
   ],
   "source": [
    "(a.unsqueeze(1)).shape"
   ]
  },
  {
   "cell_type": "code",
   "execution_count": 37,
   "id": "efe048ab-c451-473c-9959-2e044b11badf",
   "metadata": {
    "tags": []
   },
   "outputs": [
    {
     "data": {
      "text/plain": [
       "torch.Size([4, 5, 3, 2])"
      ]
     },
     "execution_count": 37,
     "metadata": {},
     "output_type": "execute_result"
    }
   ],
   "source": [
    "(a.unsqueeze(1) * c.unsqueeze(2)).shape"
   ]
  },
  {
   "cell_type": "code",
   "execution_count": 38,
   "id": "eb9c5ce1-b7d5-4930-bbad-8f9399c4d0db",
   "metadata": {
    "tags": []
   },
   "outputs": [
    {
     "data": {
      "text/plain": [
       "torch.Size([5, 4, 3, 2])"
      ]
     },
     "execution_count": 38,
     "metadata": {},
     "output_type": "execute_result"
    }
   ],
   "source": [
    "(a * c.unsqueeze(2).unsqueeze(1)).shape"
   ]
  },
  {
   "cell_type": "markdown",
   "id": "5b43e6a3-48d1-4035-b386-05534182f107",
   "metadata": {},
   "source": [
    "## Demo"
   ]
  },
  {
   "cell_type": "code",
   "execution_count": 40,
   "id": "2dcfdb24-0abe-4995-ba84-b451e7bd712c",
   "metadata": {
    "tags": []
   },
   "outputs": [],
   "source": [
    "def f(x, y):\n",
    "  return 3*x + 1 + 2*y**2 + x*y"
   ]
  },
  {
   "cell_type": "code",
   "execution_count": 41,
   "id": "8c653d3c-2c6b-4e7d-9bf3-9cef47516aa5",
   "metadata": {
    "tags": []
   },
   "outputs": [
    {
     "name": "stdout",
     "output_type": "stream",
     "text": [
      "x = 0.0 y =  0.0\n",
      "(tensor([[3.]]), tensor([[0.]])) \n",
      "\n",
      "x = 0.0 y =  1.0\n",
      "(tensor([[4.]]), tensor([[4.]])) \n",
      "\n",
      "x = 1.0 y =  0.0\n",
      "(tensor([[3.]]), tensor([[1.]])) \n",
      "\n",
      "x = 1.0 y =  1.0\n",
      "(tensor([[4.]]), tensor([[5.]])) \n",
      "\n"
     ]
    }
   ],
   "source": [
    "for x in [0.,1.]:\n",
    "  for y in [0.,1.]:\n",
    "    print(\"x =\",x, \"y = \",y)\n",
    "    inputs = (torch.tensor([x]), torch.tensor([y]))\n",
    "    print(torch.autograd.functional.jacobian(f, inputs),\"\\n\")"
   ]
  },
  {
   "cell_type": "code",
   "execution_count": null,
   "id": "0c627dab-c639-4fce-9ba1-8326c675c904",
   "metadata": {},
   "outputs": [],
   "source": []
  }
 ],
 "metadata": {
  "kernelspec": {
   "display_name": "Python 3 (ipykernel)",
   "language": "python",
   "name": "python3"
  },
  "language_info": {
   "codemirror_mode": {
    "name": "ipython",
    "version": 3
   },
   "file_extension": ".py",
   "mimetype": "text/x-python",
   "name": "python",
   "nbconvert_exporter": "python",
   "pygments_lexer": "ipython3",
   "version": "3.10.10"
  }
 },
 "nbformat": 4,
 "nbformat_minor": 5
}
