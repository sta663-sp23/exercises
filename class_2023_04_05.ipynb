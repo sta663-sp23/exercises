{
 "cells": [
  {
   "cell_type": "markdown",
   "id": "32ce8fc3-4e3e-4f02-a27d-b4bc37f2f9f7",
   "metadata": {},
   "source": [
    "## Setup"
   ]
  },
  {
   "cell_type": "code",
   "execution_count": 2,
   "id": "be6a9c39-9cea-4bb1-af20-8b7be781db03",
   "metadata": {
    "tags": []
   },
   "outputs": [],
   "source": [
    "import numpy as np\n",
    "import pandas as pd\n",
    "import seaborn as sns\n",
    "\n",
    "import torch"
   ]
  },
  {
   "cell_type": "markdown",
   "id": "bc693a36-0290-4742-a3d6-5a55d5ffb3f5",
   "metadata": {},
   "source": [
    "## Exercise 1"
   ]
  },
  {
   "cell_type": "code",
   "execution_count": 3,
   "id": "3bde64a8-fb46-43c1-844f-2dfa62b78747",
   "metadata": {
    "tags": []
   },
   "outputs": [],
   "source": [
    "a = torch.rand(4, 3, 2)\n",
    "b = torch.rand(3, 2)\n",
    "c = torch.rand(2, 3)\n",
    "d = torch.rand(0) \n",
    "e = torch.rand(3, 1)\n",
    "f = torch.rand(1, 2)"
   ]
  },
  {
   "cell_type": "code",
   "execution_count": null,
   "id": "10214cc1-6564-448e-909f-9e51c63c3a5d",
   "metadata": {},
   "outputs": [],
   "source": []
  },
  {
   "cell_type": "markdown",
   "id": "81f0ab38-f29b-4a42-a4bf-d0db9b14687a",
   "metadata": {},
   "source": [
    "## Exercise 2"
   ]
  },
  {
   "cell_type": "code",
   "execution_count": 16,
   "id": "1d12052c-1411-41ac-8152-fb2630614124",
   "metadata": {
    "tags": []
   },
   "outputs": [],
   "source": [
    "a = torch.ones(4,3,2)\n",
    "b = torch.rand(3)\n",
    "c = torch.rand(5,3)"
   ]
  },
  {
   "cell_type": "code",
   "execution_count": null,
   "id": "2c91d352-1eb6-45b1-b752-aa847dd28b89",
   "metadata": {
    "tags": []
   },
   "outputs": [],
   "source": []
  }
 ],
 "metadata": {
  "kernelspec": {
   "display_name": "Python 3 (ipykernel)",
   "language": "python",
   "name": "python3"
  },
  "language_info": {
   "codemirror_mode": {
    "name": "ipython",
    "version": 3
   },
   "file_extension": ".py",
   "mimetype": "text/x-python",
   "name": "python",
   "nbconvert_exporter": "python",
   "pygments_lexer": "ipython3",
   "version": "3.10.10"
  }
 },
 "nbformat": 4,
 "nbformat_minor": 5
}
