{
 "cells": [
  {
   "cell_type": "code",
   "execution_count": 1,
   "id": "0d473e84-6129-42dc-a6dd-86a480ca5c6e",
   "metadata": {
    "tags": []
   },
   "outputs": [],
   "source": [
    "import numpy as np\n",
    "import matplotlib as mpl\n",
    "import matplotlib.pyplot as plt\n",
    "import pandas as pd\n",
    "import seaborn as sns"
   ]
  },
  {
   "cell_type": "markdown",
   "id": "c10f5cf8-3885-4497-8257-3396b3ad9c0b",
   "metadata": {},
   "source": [
    "## Examples"
   ]
  },
  {
   "cell_type": "markdown",
   "id": "53c413e7-4052-4bc5-b2b0-ffc2cded64c9",
   "metadata": {},
   "source": [
    "### patsy"
   ]
  },
  {
   "cell_type": "code",
   "execution_count": 4,
   "id": "a75128a0-7ef1-47a1-9e6f-bb9deece4dac",
   "metadata": {
    "tags": []
   },
   "outputs": [],
   "source": [
    "import patsy\n",
    "import sklego"
   ]
  },
  {
   "cell_type": "code",
   "execution_count": null,
   "id": "96b18417-e625-42cf-b7a3-639b532e4ba0",
   "metadata": {},
   "outputs": [],
   "source": []
  },
  {
   "cell_type": "markdown",
   "id": "cae9dd70-0353-4f62-9b86-d89e3b98339a",
   "metadata": {},
   "source": [
    "### statsmodels"
   ]
  },
  {
   "cell_type": "code",
   "execution_count": 5,
   "id": "d510dac9-8f5c-4d65-bad0-19b91be3694a",
   "metadata": {
    "tags": []
   },
   "outputs": [],
   "source": [
    "import statsmodels.api as sm\n",
    "import statsmodels.formula.api as smf"
   ]
  },
  {
   "cell_type": "code",
   "execution_count": null,
   "id": "5881d17c-10bd-48bc-bb08-853e00394753",
   "metadata": {},
   "outputs": [],
   "source": []
  }
 ],
 "metadata": {
  "kernelspec": {
   "display_name": "Python 3 (ipykernel)",
   "language": "python",
   "name": "python3"
  },
  "language_info": {
   "codemirror_mode": {
    "name": "ipython",
    "version": 3
   },
   "file_extension": ".py",
   "mimetype": "text/x-python",
   "name": "python",
   "nbconvert_exporter": "python",
   "pygments_lexer": "ipython3",
   "version": "3.10.10"
  }
 },
 "nbformat": 4,
 "nbformat_minor": 5
}
